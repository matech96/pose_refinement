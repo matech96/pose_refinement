{
 "cells": [
  {
   "cell_type": "code",
   "execution_count": 1,
   "metadata": {
    "ExecuteTime": {
     "end_time": "2020-10-21T12:54:55.012461Z",
     "start_time": "2020-10-21T12:54:55.007239Z"
    }
   },
   "outputs": [],
   "source": [
    "import os\n",
    "\n",
    "os.chdir('..')"
   ]
  },
  {
   "cell_type": "code",
   "execution_count": 2,
   "metadata": {
    "ExecuteTime": {
     "end_time": "2020-10-21T12:54:55.582567Z",
     "start_time": "2020-10-21T12:54:55.576748Z"
    }
   },
   "outputs": [],
   "source": [
    "_config = {\n",
    "    \"num_epochs\": 80,\n",
    "    \"preprocess_2d\": \"DepthposeNormalize2D\",\n",
    "    \"preprocess_3d\": \"SplitToRelativeAbsAndMeanNormalize3D\",\n",
    "    \"shuffle\": True,\n",
    "    \"ordered_batch\": False,\n",
    "    # training\n",
    "    \"optimiser\": \"adam\",\n",
    "    \"adam_amsgrad\": True,\n",
    "    \"learning_rate\": 1e-3,\n",
    "    \"sgd_momentum\": 0,\n",
    "    \"batch_size\": 1024,\n",
    "    \"train_time_flip\": True,\n",
    "    \"test_time_flip\": True,\n",
    "    \"lr_scheduler\": {\n",
    "        \"type\": \"multiplicative\",\n",
    "        \"multiplier\": 0.95,\n",
    "        \"step_size\": 1,\n",
    "    },\n",
    "    # dataset\n",
    "    \"train_data\": \"mpii_train\",\n",
    "    \"pose2d_type\": \"hrnet\",\n",
    "    \"pose3d_scaling\": \"normal\",\n",
    "    \"megadepth_type\": \"megadepth_at_hrnet\",\n",
    "    \"cap_25fps\": True,\n",
    "    \"stride\": 2,\n",
    "    \"simple_aug\": True,  # augments data by duplicating each frame\n",
    "}"
   ]
  },
  {
   "cell_type": "code",
   "execution_count": 3,
   "metadata": {
    "ExecuteTime": {
     "end_time": "2020-10-21T12:54:57.055231Z",
     "start_time": "2020-10-21T12:54:56.198579Z"
    },
    "code_folding": []
   },
   "outputs": [],
   "source": [
    "import os\n",
    "import pandas as pd\n",
    "import torch\n",
    "import h5py\n",
    "import numpy as np\n",
    "from scipy.spatial.transform import Rotation\n",
    "from torch.utils.data import Dataset\n",
    "from ai import cs\n",
    "\n",
    "from databases import mupots_3d, mpii_3dhp, muco_temp\n",
    "from databases.joint_sets import CocoExJoints, OpenPoseJoints, MuPoTSJoints\n",
    "from databases.datasets import *\n",
    "from training.loaders import ChunkedGenerator"
   ]
  },
  {
   "cell_type": "code",
   "execution_count": 4,
   "metadata": {
    "ExecuteTime": {
     "end_time": "2020-10-21T12:54:57.060012Z",
     "start_time": "2020-10-21T12:54:57.057134Z"
    }
   },
   "outputs": [],
   "source": [
    "joint_set = MuPoTSJoints()\n",
    "connected_joints = joint_set.LIMBGRAPH"
   ]
  },
  {
   "cell_type": "code",
   "execution_count": 5,
   "metadata": {
    "ExecuteTime": {
     "end_time": "2020-10-21T12:55:22.512149Z",
     "start_time": "2020-10-21T12:54:57.280246Z"
    }
   },
   "outputs": [],
   "source": [
    "train_data = Mpi3dTrainDataset(\n",
    "    _config[\"pose2d_type\"],\n",
    "    _config[\"pose3d_scaling\"],\n",
    "    _config[\"cap_25fps\"],\n",
    "    _config[\"stride\"],\n",
    ")"
   ]
  },
  {
   "cell_type": "code",
   "execution_count": 6,
   "metadata": {
    "ExecuteTime": {
     "end_time": "2020-10-21T12:55:23.700583Z",
     "start_time": "2020-10-21T12:55:22.564839Z"
    }
   },
   "outputs": [],
   "source": [
    "train_loader = ChunkedGenerator(\n",
    "    train_data,\n",
    "    _config[\"batch_size\"],\n",
    "    10,\n",
    "    _config[\"train_time_flip\"],\n",
    "    shuffle=_config[\"shuffle\"],\n",
    "    ordered_batch=_config[\"ordered_batch\"],\n",
    ")"
   ]
  },
  {
   "cell_type": "code",
   "execution_count": 11,
   "metadata": {
    "ExecuteTime": {
     "end_time": "2020-10-21T12:57:51.771591Z",
     "start_time": "2020-10-21T12:57:51.755719Z"
    }
   },
   "outputs": [],
   "source": [
    "i = 0\n",
    "d = train_data.prepare_sample([0,1,2])\n",
    "nd = d['pose3d']\n",
    "td = torch.from_numpy(nd)\n",
    "# l = getbonelength(td, connected_joints)"
   ]
  },
  {
   "cell_type": "code",
   "execution_count": 12,
   "metadata": {
    "ExecuteTime": {
     "end_time": "2020-10-21T12:57:53.042302Z",
     "start_time": "2020-10-21T12:57:53.035726Z"
    }
   },
   "outputs": [
    {
     "data": {
      "text/plain": [
       "(3, 17, 3)"
      ]
     },
     "execution_count": 12,
     "metadata": {},
     "output_type": "execute_result"
    }
   ],
   "source": [
    "nd.shape"
   ]
  },
  {
   "cell_type": "code",
   "execution_count": 16,
   "metadata": {
    "ExecuteTime": {
     "end_time": "2020-10-21T12:58:58.138843Z",
     "start_time": "2020-10-21T12:58:58.132053Z"
    }
   },
   "outputs": [],
   "source": [
    "from ai import cs\n",
    "cj = np.array(connected_joints)\n",
    "diff = nd[:,cj[:,0], :] - nd[:, cj[:, 1], :] # vec1 - vec2\n",
    "r, t, p = cs.cart2sp(diff[:, :, 0], diff[:, :, 1], diff[:, :, 2])"
   ]
  },
  {
   "cell_type": "code",
   "execution_count": 20,
   "metadata": {
    "ExecuteTime": {
     "end_time": "2020-10-21T12:59:53.755870Z",
     "start_time": "2020-10-21T12:59:53.744268Z"
    }
   },
   "outputs": [],
   "source": [
    "def th_sp2cart(r, t, p):\n",
    "    x = r*torch.cos(p)*torch.cos(t)\n",
    "    y = r*torch.sin(p)*torch.cos(t)\n",
    "    z = r*torch.sin(t)\n",
    "    return x, y, z\n",
    "\n",
    "def sp2cart(r, t, p):\n",
    "    x = r*np.cos(p)*np.cos(t)\n",
    "    y = r*np.sin(p)*np.cos(t)\n",
    "    z = r*np.sin(t)\n",
    "    return x, y, z"
   ]
  },
  {
   "cell_type": "code",
   "execution_count": 21,
   "metadata": {
    "ExecuteTime": {
     "end_time": "2020-10-21T13:00:27.007455Z",
     "start_time": "2020-10-21T13:00:27.001139Z"
    }
   },
   "outputs": [],
   "source": [
    "cj_index = [2, 1, 0, 5, 4, 3, 9, 8, 12, 11, 10, 15, 14, 13, 7, 6]\n",
    "ordered_cj = cj[cj_index, :]"
   ]
  },
  {
   "cell_type": "code",
   "execution_count": 22,
   "metadata": {
    "ExecuteTime": {
     "end_time": "2020-10-21T13:00:27.937371Z",
     "start_time": "2020-10-21T13:00:27.920764Z"
    }
   },
   "outputs": [],
   "source": [
    "x, y, z = sp2cart(r, t, p)\n",
    "# th_sp2cart(torch.from_numpy(r), torch.from_numpy(t), torch.from_numpy(p))\n",
    "edges = np.stack((x, y, z), axis=-1)"
   ]
  },
  {
   "cell_type": "code",
   "execution_count": 23,
   "metadata": {
    "ExecuteTime": {
     "end_time": "2020-10-21T13:00:31.272779Z",
     "start_time": "2020-10-21T13:00:31.267325Z"
    }
   },
   "outputs": [
    {
     "data": {
      "text/plain": [
       "(3, 16, 3)"
      ]
     },
     "execution_count": 23,
     "metadata": {},
     "output_type": "execute_result"
    }
   ],
   "source": [
    "edges.shape"
   ]
  },
  {
   "cell_type": "code",
   "execution_count": 24,
   "metadata": {
    "ExecuteTime": {
     "end_time": "2020-10-21T13:01:23.477233Z",
     "start_time": "2020-10-21T13:01:23.469767Z"
    }
   },
   "outputs": [],
   "source": [
    "res = np.zeros((3, 17, 3))\n",
    "res[:, 14, :] = nd[:, 14, :]\n",
    "for (a, b), i in zip(ordered_cj, cj_index):\n",
    "    res[:, a, :] = res[:, b, :] + edges[:, i, :]"
   ]
  },
  {
   "cell_type": "code",
   "execution_count": 25,
   "metadata": {
    "ExecuteTime": {
     "end_time": "2020-10-21T13:01:29.290399Z",
     "start_time": "2020-10-21T13:01:29.284710Z"
    }
   },
   "outputs": [
    {
     "data": {
      "text/plain": [
       "(3, 17, 3)"
      ]
     },
     "execution_count": 25,
     "metadata": {},
     "output_type": "execute_result"
    }
   ],
   "source": [
    "res.shape"
   ]
  },
  {
   "cell_type": "code",
   "execution_count": null,
   "metadata": {
    "ExecuteTime": {
     "end_time": "2020-10-20T09:23:03.866988Z",
     "start_time": "2020-10-20T09:23:03.857388Z"
    }
   },
   "outputs": [],
   "source": [
    "cs.sp2cart(r, t, p)"
   ]
  },
  {
   "cell_type": "code",
   "execution_count": null,
   "metadata": {
    "ExecuteTime": {
     "end_time": "2020-10-20T10:08:16.960038Z",
     "start_time": "2020-10-20T10:08:16.948549Z"
    }
   },
   "outputs": [],
   "source": [
    "x = []\n",
    "y = []\n",
    "z = []\n",
    "j = []\n",
    "for i, (f, t) in enumerate(connected_joints):\n",
    "    x.append(nd[0, f, 0])\n",
    "    y.append(nd[0, f, 1])\n",
    "    z.append(nd[0, f, 2])\n",
    "    x.append(nd[0, t, 0])\n",
    "    y.append(nd[0, t, 1])\n",
    "    z.append(nd[0, t, 2])\n",
    "    j.append(i)\n",
    "    j.append(i)"
   ]
  },
  {
   "cell_type": "code",
   "execution_count": null,
   "metadata": {
    "ExecuteTime": {
     "end_time": "2020-10-20T10:08:17.462417Z",
     "start_time": "2020-10-20T10:08:17.454904Z"
    }
   },
   "outputs": [],
   "source": [
    "df = pd.DataFrame({'x': x, 'y': y, 'z': z, 'j': j})"
   ]
  },
  {
   "cell_type": "code",
   "execution_count": null,
   "metadata": {
    "ExecuteTime": {
     "end_time": "2020-10-20T10:08:18.018026Z",
     "start_time": "2020-10-20T10:08:17.914975Z"
    }
   },
   "outputs": [],
   "source": [
    "import plotly.express as px\n",
    "# df = px.data.iris()\n",
    "# fig = px.scatter_3d(df, x='x', y='y', z='z')\n",
    "fig = px.line_3d(df, x=\"x\", y=\"y\", z=\"z\", color='j', title='Original')\n",
    "fig.show()"
   ]
  },
  {
   "cell_type": "code",
   "execution_count": null,
   "metadata": {},
   "outputs": [],
   "source": []
  }
 ],
 "metadata": {
  "kernelspec": {
   "display_name": "Python 3",
   "language": "python",
   "name": "python3"
  },
  "language_info": {
   "codemirror_mode": {
    "name": "ipython",
    "version": 3
   },
   "file_extension": ".py",
   "mimetype": "text/x-python",
   "name": "python",
   "nbconvert_exporter": "python",
   "pygments_lexer": "ipython3",
   "version": "3.7.6"
  },
  "toc": {
   "base_numbering": 1,
   "nav_menu": {},
   "number_sections": false,
   "sideBar": true,
   "skip_h1_title": false,
   "title_cell": "Table of Contents",
   "title_sidebar": "Contents",
   "toc_cell": false,
   "toc_position": {},
   "toc_section_display": true,
   "toc_window_display": false
  }
 },
 "nbformat": 4,
 "nbformat_minor": 4
}
