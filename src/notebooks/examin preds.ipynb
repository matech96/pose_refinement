{
 "cells": [
  {
   "cell_type": "code",
   "execution_count": 1,
   "metadata": {},
   "outputs": [],
   "source": [
    "import os\n",
    "os.chdir('..')"
   ]
  },
  {
   "cell_type": "code",
   "execution_count": 41,
   "metadata": {},
   "outputs": [],
   "source": [
    "import torch\n",
    "import numpy as np\n",
    "from util.misc import assert_shape"
   ]
  },
  {
   "cell_type": "code",
   "execution_count": 4,
   "metadata": {},
   "outputs": [],
   "source": [
    "pred = np.load('pred.npy')\n",
    "pred2 = np.load('pred2.npy')"
   ]
  },
  {
   "cell_type": "code",
   "execution_count": 6,
   "metadata": {},
   "outputs": [
    {
     "data": {
      "text/plain": [
       "((20899, 17, 3), (20899, 17, 3))"
      ]
     },
     "execution_count": 6,
     "metadata": {},
     "output_type": "execute_result"
    }
   ],
   "source": [
    "pred.shape, pred2.shape"
   ]
  },
  {
   "cell_type": "code",
   "execution_count": 9,
   "metadata": {},
   "outputs": [
    {
     "data": {
      "text/plain": [
       "True"
      ]
     },
     "execution_count": 9,
     "metadata": {},
     "output_type": "execute_result"
    }
   ],
   "source": [
    "np.all(pred == pred2)"
   ]
  },
  {
   "cell_type": "markdown",
   "metadata": {},
   "source": [
    "# combine_pose_and_trans"
   ]
  },
  {
   "cell_type": "code",
   "execution_count": 17,
   "metadata": {},
   "outputs": [],
   "source": [
    "d = np.load('combine_pose_and_trans.npz', allow_pickle=True)"
   ]
  },
  {
   "cell_type": "code",
   "execution_count": 55,
   "metadata": {},
   "outputs": [],
   "source": [
    "data3d=d['data3d']\n",
    "std3d=d['std3d']\n",
    "mean3d=d['mean3d']\n",
    "joint_set=d['joint_set'][()]\n",
    "root_name=d['root_name'][()]\n",
    "log_root_z=d['log_root_z'][()]"
   ]
  },
  {
   "cell_type": "code",
   "execution_count": 56,
   "metadata": {},
   "outputs": [],
   "source": [
    "data3d = torch.from_numpy(data3d)"
   ]
  },
  {
   "cell_type": "code",
   "execution_count": 57,
   "metadata": {},
   "outputs": [],
   "source": [
    "assert_shape(data3d, (None, joint_set.NUM_JOINTS * 3))\n",
    "\n",
    "data3d = data3d * std3d + mean3d\n",
    "root = data3d[:, -3:]  # (201, 3)\n",
    "rel_pose = data3d[:, :-3].reshape((len(data3d), joint_set.NUM_JOINTS - 1, 3))  # (201, 16, 3)\n",
    "\n",
    "if log_root_z:\n",
    "    root[:, 2] = torch.exp(root[:, 2])\n",
    "\n",
    "rel_pose += root[:, None, :]\n",
    "\n",
    "result = torch.zeros((len(data3d), joint_set.NUM_JOINTS, 3))\n",
    "root_ind = joint_set.index_of(root_name)\n",
    "result[:, :root_ind, :] = rel_pose[:, :root_ind, :]\n",
    "result[:, root_ind, :] = root\n",
    "result[:, root_ind + 1:, :] = rel_pose[:, root_ind:, :]"
   ]
  },
  {
   "cell_type": "code",
   "execution_count": 64,
   "metadata": {},
   "outputs": [
    {
     "data": {
      "text/plain": [
       "True"
      ]
     },
     "execution_count": 64,
     "metadata": {},
     "output_type": "execute_result"
    }
   ],
   "source": [
    "type(data3d) == torch.Tensor"
   ]
  },
  {
   "cell_type": "markdown",
   "metadata": {},
   "source": [
    "# _group_by_seq"
   ]
  },
  {
   "cell_type": "code",
   "execution_count": 77,
   "metadata": {},
   "outputs": [],
   "source": [
    "data = np.load('_group_by_seq.npy', allow_pickle=True)[()]"
   ]
  },
  {
   "cell_type": "code",
   "execution_count": 78,
   "metadata": {},
   "outputs": [],
   "source": [
    "data = {k: torch.from_numpy(v) for k, v in data.items()}"
   ]
  },
  {
   "cell_type": "code",
   "execution_count": 79,
   "metadata": {},
   "outputs": [],
   "source": [
    "\n",
    "per_person_keys = sorted(data.keys())\n",
    "result = {}\n",
    "for seq in range(1, 21):\n",
    "    keys = sorted([k for k in per_person_keys if k.startswith('%d/' % seq)])\n",
    "    assert len(keys) > 0, per_person_keys\n",
    "    if type(data[keys[0]]) == torch.Tensor:\n",
    "        result[seq] = torch.cat([data[k] for k in keys])\n",
    "    else:\n",
    "        result[seq] = np.concatenate([data[k] for k in keys])"
   ]
  },
  {
   "cell_type": "code",
   "execution_count": null,
   "metadata": {},
   "outputs": [],
   "source": [
    "\n",
    "{k: v.cpu().numpy()for k, v in result.items()}"
   ]
  },
  {
   "cell_type": "markdown",
   "metadata": {},
   "source": [
    "# pose_ref"
   ]
  },
  {
   "cell_type": "code",
   "execution_count": 83,
   "metadata": {},
   "outputs": [],
   "source": [
    "d = np.load('pose_ref.npz')"
   ]
  },
  {
   "cell_type": "code",
   "execution_count": 91,
   "metadata": {},
   "outputs": [],
   "source": [
    "total_loss = d['total_loss'][()]\n",
    "pose_loss = d['pose_loss'][()]\n",
    "velocity_loss_hip = d['velocity_loss_hip'][()]\n",
    "velocity_loss_hip_large = d['velocity_loss_hip_large'][()]\n",
    "velocity_loss_rel = d['velocity_loss_rel'][()]\n",
    "velocity_loss_rel_large = d['velocity_loss_rel_large'][()]"
   ]
  },
  {
   "cell_type": "code",
   "execution_count": 92,
   "metadata": {},
   "outputs": [
    {
     "data": {
      "text/plain": [
       "{'total_loss': 0.456771,\n",
       " 'pose_loss': 0.0,\n",
       " 'velocity_loss_hip': 0.11577673,\n",
       " 'velocity_loss_hip_large': 2.1961489,\n",
       " 'velocity_loss_rel': 0.61452806,\n",
       " 'velocity_loss_rel_large': 5.9926534}"
      ]
     },
     "execution_count": 92,
     "metadata": {},
     "output_type": "execute_result"
    }
   ],
   "source": [
    "{'total_loss': d['total_loss'][()],\n",
    "'pose_loss': d['pose_loss'][()],\n",
    "'velocity_loss_hip': d['velocity_loss_hip'][()],\n",
    "'velocity_loss_hip_large': d['velocity_loss_hip_large'][()],\n",
    "'velocity_loss_rel': d['velocity_loss_rel'][()],\n",
    "'velocity_loss_rel_large': d['velocity_loss_rel_large'][()]}"
   ]
  }
 ],
 "metadata": {
  "kernelspec": {
   "display_name": "Python 3",
   "language": "python",
   "name": "python3"
  },
  "language_info": {
   "codemirror_mode": {
    "name": "ipython",
    "version": 3
   },
   "file_extension": ".py",
   "mimetype": "text/x-python",
   "name": "python",
   "nbconvert_exporter": "python",
   "pygments_lexer": "ipython3",
   "version": "3.7.6"
  }
 },
 "nbformat": 4,
 "nbformat_minor": 4
}
