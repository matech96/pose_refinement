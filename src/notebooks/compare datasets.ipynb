{
 "cells": [
  {
   "cell_type": "code",
   "execution_count": 1,
   "metadata": {},
   "outputs": [],
   "source": [
    "import os\n",
    "os.chdir('..')"
   ]
  },
  {
   "cell_type": "code",
   "execution_count": 6,
   "metadata": {},
   "outputs": [],
   "source": [
    "from databases.datasets import PersonStackedMucoTempDataset, PersonStackedMuPoTsDataset\n",
    "from training.loaders import UnchunkedGenerator, ChunkedGenerator\n",
    "from training.preprocess import get_postprocessor, SaveableCompose, MeanNormalize3D\n",
    "from training.preprocess import decode_trfrm, RemoveIndex"
   ]
  },
  {
   "cell_type": "code",
   "execution_count": 3,
   "metadata": {},
   "outputs": [],
   "source": [
    "LOG_PATH = \"../models\"\n",
    "def extract_post(model_name, test_set):\n",
    "    params_path = os.path.join(LOG_PATH, str(model_name), \"preprocess_params.pkl\")\n",
    "    transform = SaveableCompose.from_file(params_path, test_set, globals())\n",
    "    test_set.transform = transform\n",
    "\n",
    "    assert isinstance(transform.transforms[1].normalizer, MeanNormalize3D)\n",
    "    normalizer3d = transform.transforms[1].normalizer\n",
    "\n",
    "    return get_postprocessor(config, test_set, normalizer3d)"
   ]
  },
  {
   "cell_type": "code",
   "execution_count": 4,
   "metadata": {},
   "outputs": [],
   "source": [
    "config = {'adam_amsgrad': True,\n",
    " 'batch_size': 1024,\n",
    " 'cap_25fps': True,\n",
    " 'learning_rate': 0.001,\n",
    " 'lr_scheduler': {'multiplier': 0.95,\n",
    "  'step_size': 1,\n",
    "  'type': 'multiplicative'},\n",
    " 'megadepth_type': 'megadepth_at_hrnet',\n",
    " 'model': {'channels': 512,\n",
    "  'dropout': 0.25,\n",
    "  'filter_widths': [3, 3, 3],\n",
    "  'layernorm': 'none',\n",
    "  'loss': 'l1'},\n",
    " 'num_epochs': 15,\n",
    " 'optimiser': 'adam',\n",
    " 'ordered_batch': False,\n",
    " 'pose2d_type': 'hrnet',\n",
    " 'pose3d_scaling': 'normal',\n",
    " 'preprocess_2d': 'DepthposeNormalize2D',\n",
    " 'preprocess_3d': 'SplitToRelativeAbsAndMeanNormalize3D',\n",
    " 'sgd_momentum': 0,\n",
    " 'shuffle': True,\n",
    " 'simple_aug': True,\n",
    " 'stride': 2,\n",
    " 'test_time_flip': True,\n",
    " 'train_data': 'mpii+muco',\n",
    " 'train_time_flip': True}\n",
    "\n",
    "train_data = PersonStackedMucoTempDataset(\n",
    "    config[\"pose2d_type\"], config[\"pose3d_scaling\"]\n",
    ")\n",
    "eval_data = PersonStackedMuPoTsDataset(\n",
    "    config[\"pose2d_type\"],\n",
    "    config.get(\"pose3d_scaling\", \"normal\"),\n",
    "    pose_validity=\"all\",\n",
    ")"
   ]
  },
  {
   "cell_type": "code",
   "execution_count": 7,
   "metadata": {},
   "outputs": [],
   "source": [
    "train_data.transform = None\n",
    "transforms_train = [\n",
    "    decode_trfrm(config[\"preprocess_2d\"], globals())(train_data, cache=False),\n",
    "    decode_trfrm(config[\"preprocess_3d\"], globals())(train_data, cache=False),\n",
    "]\n",
    "\n",
    "transforms_train.append(RemoveIndex())\n",
    "train_data.transform = SaveableCompose(transforms_train)\n"
   ]
  },
  {
   "cell_type": "code",
   "execution_count": 8,
   "metadata": {},
   "outputs": [
    {
     "data": {
      "text/plain": [
       "<function training.preprocess.get_postprocessor.<locals>.f(x, seq)>"
      ]
     },
     "execution_count": 8,
     "metadata": {},
     "output_type": "execute_result"
    }
   ],
   "source": [
    "extract_post(\"29cbfa0fc1774b9cbb06a3573b7fb711\", eval_data)"
   ]
  },
  {
   "cell_type": "code",
   "execution_count": 9,
   "metadata": {},
   "outputs": [],
   "source": [
    "pad = 27\n",
    "train_gen = ChunkedGenerator(\n",
    "    train_data,\n",
    "    config[\"batch_size\"],\n",
    "    pad,\n",
    "    config[\"train_time_flip\"],\n",
    "    shuffle=config[\"shuffle\"],\n",
    "    ordered_batch=config[\"ordered_batch\"],\n",
    ")\n",
    "eval_gen = UnchunkedGenerator(eval_data, pad, True)"
   ]
  },
  {
   "cell_type": "code",
   "execution_count": 10,
   "metadata": {},
   "outputs": [],
   "source": [
    "t = next(iter(train_gen))"
   ]
  },
  {
   "cell_type": "code",
   "execution_count": 11,
   "metadata": {},
   "outputs": [],
   "source": [
    "e = next(iter(eval_gen))"
   ]
  },
  {
   "cell_type": "code",
   "execution_count": 12,
   "metadata": {},
   "outputs": [
    {
     "data": {
      "text/plain": [
       "((2, 255, 42), (2, 201))"
      ]
     },
     "execution_count": 12,
     "metadata": {},
     "output_type": "execute_result"
    }
   ],
   "source": [
    "e[0].shape, e[1].shape"
   ]
  },
  {
   "cell_type": "code",
   "execution_count": 14,
   "metadata": {},
   "outputs": [
    {
     "data": {
      "text/plain": [
       "dict_keys(['temporal_pose2d', 'pose3d', 'valid_pose'])"
      ]
     },
     "execution_count": 14,
     "metadata": {},
     "output_type": "execute_result"
    }
   ],
   "source": [
    "t.keys()"
   ]
  },
  {
   "cell_type": "code",
   "execution_count": 17,
   "metadata": {},
   "outputs": [
    {
     "data": {
      "text/plain": [
       "(torch.Size([1024, 55, 42]), torch.Size([1024, 1, 51]), torch.Size([1024]))"
      ]
     },
     "execution_count": 17,
     "metadata": {},
     "output_type": "execute_result"
    }
   ],
   "source": [
    "t['temporal_pose2d'].shape, t['pose3d'].shape, t['valid_pose'].shape"
   ]
  }
 ],
 "metadata": {
  "kernelspec": {
   "display_name": "Python 3",
   "language": "python",
   "name": "python3"
  },
  "language_info": {
   "codemirror_mode": {
    "name": "ipython",
    "version": 3
   },
   "file_extension": ".py",
   "mimetype": "text/x-python",
   "name": "python",
   "nbconvert_exporter": "python",
   "pygments_lexer": "ipython3",
   "version": "3.7.6"
  }
 },
 "nbformat": 4,
 "nbformat_minor": 4
}
