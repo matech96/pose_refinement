{
 "cells": [
  {
   "cell_type": "code",
   "execution_count": 1,
   "metadata": {},
   "outputs": [],
   "source": [
    "import os\n",
    "os.chdir('../../..')\n",
    "import sys\n",
    "# sys.path.append(\"/workspace/src\")"
   ]
  },
  {
   "cell_type": "code",
   "execution_count": 2,
   "metadata": {},
   "outputs": [],
   "source": [
    "import torch\n",
    "\n",
    "from databases.datasets import (\n",
    "    Mpi3dTestDataset,\n",
    "    Mpi3dTrainDataset,\n",
    "    PersonStackedMucoTempDataset,\n",
    "    ConcatPoseDataset,\n",
    ")\n",
    "from model.videopose import TemporalModel, TemporalModelOptimized1f\n",
    "from training.preprocess import *\n",
    "from training.loaders import ChunkedGenerator, UnchunkedGenerator\n",
    "from training.callbacks import TemporalMupotsEvaluator, TemporalTestEvaluator\n",
    "from scripts.eval import load_model\n",
    "from util.geom import orient2pose"
   ]
  },
  {
   "cell_type": "code",
   "execution_count": 3,
   "metadata": {},
   "outputs": [],
   "source": [
    "exp_key = \"21a1850a239642e4978f2cfa0756803f\"\n",
    "layernorm = \"batchnorm\"\n",
    "ordered_batch = False\n",
    "output_path = f\"../models/{exp_key}\"\n",
    "\n",
    "_config = {\n",
    "    \"num_epochs\": 15,\n",
    "    \"preprocess_2d\": \"DepthposeNormalize2D\",\n",
    "    \"preprocess_3d\": \"SplitToRelativeAbsAndMeanNormalize3D\",\n",
    "    \"shuffle\": True,\n",
    "    \"ordered_batch\": ordered_batch,\n",
    "    # training\n",
    "    \"optimiser\": \"adam\",\n",
    "    \"adam_amsgrad\": True,\n",
    "    \"learning_rate\": 1e-5,\n",
    "    \"sgd_momentum\": 0,\n",
    "    \"batch_size\": 1024,\n",
    "    \"train_time_flip\": True,\n",
    "    \"test_time_flip\": True,\n",
    "    \"lr_scheduler\": {\n",
    "        \"type\": \"multiplicative\",\n",
    "        \"multiplier\": 0.95,\n",
    "        \"step_size\": 1,\n",
    "    },\n",
    "    # dataset\n",
    "    \"ignore_invisible\": True,\n",
    "    \"train_data\": \"mpii_train\",  # +muco\n",
    "    \"pose2d_type\": \"hrnet\",\n",
    "    \"pose3d_scaling\": \"normal\",\n",
    "    \"megadepth_type\": \"megadepth_at_hrnet\",\n",
    "    \"cap_25fps\": True,\n",
    "    \"stride\": 2,\n",
    "    \"simple_aug\": True,  # augments data by duplicating each frame\n",
    "    \"model\": {\n",
    "        \"loss\": \"orient\",\n",
    "        \"orient_loss\": \"proj\",\n",
    "        \"channels\": 512,\n",
    "        \"dropout\": 0.25,\n",
    "        \"filter_widths\": [3, 3, 3],\n",
    "        \"layernorm\": layernorm,  # False,\n",
    "    },\n",
    "    \"orient_norm\": None,\n",
    "}"
   ]
  },
  {
   "cell_type": "code",
   "execution_count": 4,
   "metadata": {},
   "outputs": [],
   "source": [
    "# train_data = Mpi3dTrainDataset(\n",
    "#     _config[\"pose2d_type\"],\n",
    "#     _config[\"pose3d_scaling\"],\n",
    "#     _config[\"cap_25fps\"],\n",
    "#     _config[\"stride\"],\n",
    "# )\n",
    "# test_data = Mpi3dTestDataset(\n",
    "#     _config[\"pose2d_type\"], _config[\"pose3d_scaling\"], eval_frames_only=True\n",
    "# )"
   ]
  },
  {
   "cell_type": "code",
   "execution_count": 5,
   "metadata": {},
   "outputs": [],
   "source": [
    "c, model = load_model(output_path)"
   ]
  },
  {
   "cell_type": "code",
   "execution_count": 6,
   "metadata": {},
   "outputs": [],
   "source": [
    "dataset = Mpi3dTestDataset(\n",
    "    _config[\"pose2d_type\"],\n",
    "    _config.get(\"pose3d_scaling\", \"normal\"),\n",
    "    eval_frames_only=True,\n",
    ")\n",
    "params_path = os.path.join(output_path, \"preprocess_params.pkl\")\n",
    "transform = SaveableCompose.from_file(params_path, dataset, globals())\n",
    "dataset.transform = transform\n",
    "\n",
    "assert isinstance(transform.transforms[1].normalizer, MeanNormalize3D)\n",
    "normalizer3d = transform.transforms[1].normalizer\n",
    "\n",
    "post_process_func = get_postprocessor(_config, dataset, normalizer3d)"
   ]
  },
  {
   "cell_type": "code",
   "execution_count": 7,
   "metadata": {},
   "outputs": [],
   "source": [
    "augment = True\n",
    "pad = (model.receptive_field() - 1) // 2\n",
    "generator = UnchunkedGenerator(dataset, pad, augment)\n",
    "seqs = sorted(np.unique(dataset.index.seq))\n",
    "\n",
    "data_3d_mm = {}\n",
    "preprocessed3d = {}\n",
    "for seq in seqs:\n",
    "    inds = np.where(dataset.index.seq == seq)[0]\n",
    "    batch = dataset.get_samples(inds, False)\n",
    "    preprocessed3d[seq] = batch[\"pose3d\"][batch[\"valid_pose\"]]\n",
    "    data_3d_mm[seq] = dataset.poses3d[inds][batch[\"valid_pose\"]]\n",
    "#     break\n",
    "\n",
    "bl = {}\n",
    "root = {}\n",
    "org_pose3d = {}\n",
    "for seq in seqs:\n",
    "    inds = np.where(dataset.index.seq == seq)[0]\n",
    "    batch = dataset.get_samples(inds, False)\n",
    "    bl[seq] = batch[\"length\"][batch[\"valid_pose\"]]\n",
    "    root[seq] = batch[\"root\"][batch[\"valid_pose\"]]\n",
    "    org_pose3d[seq] = batch[\"org_pose3d\"][batch[\"valid_pose\"]]\n",
    "#     break"
   ]
  },
  {
   "cell_type": "code",
   "execution_count": 11,
   "metadata": {},
   "outputs": [],
   "source": [
    "preds = {}\n",
    "raw_preds = {}\n",
    "losses = {}\n",
    "with torch.no_grad():\n",
    "    for i, (pose2d, valid) in enumerate(generator):\n",
    "        seq = seqs[i]\n",
    "        pred3d = (\n",
    "            model(torch.from_numpy(pose2d).cuda()).detach().cpu().numpy()\n",
    "        )\n",
    "        raw_preds[seq] = pred3d.copy()  # .cpu().numpy()\n",
    "\n",
    "        valid = valid[0]\n",
    "        pred_bo_np = pred3d[0][valid].reshape([-1, 2, 16])\n",
    "#         if orient_norm is None:\n",
    "#             pass\n",
    "#         elif orient_norm == \"_1_1\":\n",
    "#             pred_bo_np *= np.pi\n",
    "#         elif orient_norm == \"0_1\":\n",
    "#             pred_bo_np = (pred_bo_np * 2 * np.pi) - np.pi\n",
    "#         else:\n",
    "#             raise Exception(\n",
    "#                 f\"Not supported oreitation norm: {self.orient_norm}\"\n",
    "#             )\n",
    "        pred_bo = torch.from_numpy(pred_bo_np).to(\"cuda\")\n",
    "        orient_pred3d = (\n",
    "            orient2pose(\n",
    "                pred_bo,\n",
    "                # torch.from_numpy(self.bo[seq]).to(\"cuda\"),\n",
    "                torch.from_numpy(bl[seq]).to(\"cuda\"),\n",
    "                torch.from_numpy(root[seq]).to(\"cuda\"),\n",
    "            )\n",
    "            .cpu()\n",
    "            .numpy()\n",
    "        )\n",
    "        preds[seq] = orient_pred3d\n",
    "#         break"
   ]
  },
  {
   "cell_type": "code",
   "execution_count": 13,
   "metadata": {},
   "outputs": [
    {
     "name": "stdout",
     "output_type": "stream",
     "text": [
      "2.6229751101363753e-07\n",
      "-7.202047561358453e-07\n",
      "2.1947170727953678e-06\n",
      "2.5228155686955436e-08\n",
      "-7.918924450979476e-07\n",
      "4.554259953007117e-06\n"
     ]
    }
   ],
   "source": [
    "for seq in seqs:\n",
    "    print(np.mean(preds[seq][:, 14, :] - org_pose3d[seq][:, 14, :]))"
   ]
  },
  {
   "cell_type": "code",
   "execution_count": 9,
   "metadata": {},
   "outputs": [],
   "source": [
    "p = load('../models/21a1850a239642e4978f2cfa0756803f/test_results.pkl')"
   ]
  },
  {
   "cell_type": "code",
   "execution_count": 10,
   "metadata": {},
   "outputs": [],
   "source": [
    "gt = p['pose3d']\n",
    "pred = p['pred']"
   ]
  },
  {
   "cell_type": "code",
   "execution_count": 19,
   "metadata": {},
   "outputs": [
    {
     "data": {
      "text/plain": [
       "2860"
      ]
     },
     "execution_count": 19,
     "metadata": {},
     "output_type": "execute_result"
    }
   ],
   "source": [
    "np.sum([preds[seq].shape[0] for seq in seqs])"
   ]
  },
  {
   "cell_type": "code",
   "execution_count": 16,
   "metadata": {},
   "outputs": [
    {
     "data": {
      "text/plain": [
       "(24888, 17, 3)"
      ]
     },
     "execution_count": 16,
     "metadata": {},
     "output_type": "execute_result"
    }
   ],
   "source": [
    "pred.shape"
   ]
  },
  {
   "cell_type": "code",
   "execution_count": 15,
   "metadata": {},
   "outputs": [
    {
     "data": {
      "text/plain": [
       "-876.1850995647015"
      ]
     },
     "execution_count": 15,
     "metadata": {},
     "output_type": "execute_result"
    }
   ],
   "source": [
    "np.mean(pred[:, 14, :] - gt[:, 14, :])"
   ]
  }
 ],
 "metadata": {
  "kernelspec": {
   "display_name": "Python 3",
   "language": "python",
   "name": "python3"
  },
  "language_info": {
   "codemirror_mode": {
    "name": "ipython",
    "version": 3
   },
   "file_extension": ".py",
   "mimetype": "text/x-python",
   "name": "python",
   "nbconvert_exporter": "python",
   "pygments_lexer": "ipython3",
   "version": "3.7.6"
  }
 },
 "nbformat": 4,
 "nbformat_minor": 4
}
