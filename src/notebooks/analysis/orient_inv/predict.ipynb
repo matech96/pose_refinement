{
 "cells": [
  {
   "cell_type": "code",
   "execution_count": 1,
   "metadata": {},
   "outputs": [],
   "source": [
    "import os\n",
    "os.chdir('../../..')"
   ]
  },
  {
   "cell_type": "code",
   "execution_count": 3,
   "metadata": {},
   "outputs": [],
   "source": [
    "from databases.datasets import Mpi3dTrainDataset"
   ]
  },
  {
   "cell_type": "code",
   "execution_count": 2,
   "metadata": {},
   "outputs": [],
   "source": [
    "exp_key = \"21a1850a239642e4978f2cfa0756803f\"\n",
    "layernorm = \"batchnorm\"\n",
    "ordered_batch = False\n",
    "output_path = f\"../models/{exp_key}\"\n",
    "\n",
    "params = {\n",
    "    \"num_epochs\": 15,\n",
    "    \"preprocess_2d\": \"DepthposeNormalize2D\",\n",
    "    \"preprocess_3d\": \"SplitToRelativeAbsAndMeanNormalize3D\",\n",
    "    \"shuffle\": True,\n",
    "    \"ordered_batch\": ordered_batch,\n",
    "    # training\n",
    "    \"optimiser\": \"adam\",\n",
    "    \"adam_amsgrad\": True,\n",
    "    \"learning_rate\": 1e-5,\n",
    "    \"sgd_momentum\": 0,\n",
    "    \"batch_size\": 1024,\n",
    "    \"train_time_flip\": True,\n",
    "    \"test_time_flip\": True,\n",
    "    \"lr_scheduler\": {\n",
    "        \"type\": \"multiplicative\",\n",
    "        \"multiplier\": 0.95,\n",
    "        \"step_size\": 1,\n",
    "    },\n",
    "    # dataset\n",
    "    \"ignore_invisible\": True,\n",
    "    \"train_data\": \"mpii_train\",  # +muco\n",
    "    \"pose2d_type\": \"hrnet\",\n",
    "    \"pose3d_scaling\": \"normal\",\n",
    "    \"megadepth_type\": \"megadepth_at_hrnet\",\n",
    "    \"cap_25fps\": True,\n",
    "    \"stride\": 2,\n",
    "    \"simple_aug\": True,  # augments data by duplicating each frame\n",
    "    \"model\": {\n",
    "        \"loss\": \"orient\",\n",
    "        \"orient_loss\": \"proj\",\n",
    "        \"channels\": 512,\n",
    "        \"dropout\": 0.25,\n",
    "        \"filter_widths\": [3, 3, 3],\n",
    "        \"layernorm\": layernorm,  # False,\n",
    "    },\n",
    "    \"orient_norm\": None,\n",
    "}"
   ]
  },
  {
   "cell_type": "code",
   "execution_count": null,
   "metadata": {},
   "outputs": [],
   "source": [
    "train_data = Mpi3dTrainDataset(\n",
    "    _config[\"pose2d_type\"],\n",
    "    _config[\"pose3d_scaling\"],\n",
    "    _config[\"cap_25fps\"],\n",
    "    _config[\"stride\"],\n",
    ")"
   ]
  }
 ],
 "metadata": {
  "kernelspec": {
   "display_name": "Python 3",
   "language": "python",
   "name": "python3"
  },
  "language_info": {
   "codemirror_mode": {
    "name": "ipython",
    "version": 3
   },
   "file_extension": ".py",
   "mimetype": "text/x-python",
   "name": "python",
   "nbconvert_exporter": "python",
   "pygments_lexer": "ipython3",
   "version": "3.7.6"
  }
 },
 "nbformat": 4,
 "nbformat_minor": 4
}
