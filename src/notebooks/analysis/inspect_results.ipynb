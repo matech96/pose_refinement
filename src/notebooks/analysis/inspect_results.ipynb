{
 "cells": [
  {
   "cell_type": "code",
   "execution_count": 1,
   "metadata": {},
   "outputs": [],
   "source": [
    "import os\n",
    "os.chdir('../..')\n",
    "import sys\n",
    "sys.path.append(\"/workspace/src\")"
   ]
  },
  {
   "cell_type": "markdown",
   "metadata": {},
   "source": [
    "## Imports"
   ]
  },
  {
   "cell_type": "code",
   "execution_count": 6,
   "metadata": {},
   "outputs": [],
   "source": [
    "from util.misc import load, save\n",
    "from databases.datasets import PersonStackedMuPoTsDataset, PersonStackedMucoTempDataset, Mpi3dTestDataset, Mpi3dTrainDataset\n",
    "from databases.joint_sets import CocoExJoints, MuPoTSJoints, JointSet\n",
    "from util.pose import _calc_limb_length\n",
    "from databases import mpii_3dhp, mupots_3d\n",
    "import numpy as np\n",
    "\n",
    "%matplotlib notebook"
   ]
  },
  {
   "cell_type": "code",
   "execution_count": 4,
   "metadata": {},
   "outputs": [],
   "source": [
    "def plfig(lines=1, full_width=False):\n",
    "    if lines==1 and not full_width:\n",
    "        plt.figure()\n",
    "    elif full_width:\n",
    "        plt.figure(figsize=(9.5, 3*lines))\n",
    "    else:\n",
    "        plt.figure(figsize=(4.5, 3*lines))    "
   ]
  },
  {
   "cell_type": "markdown",
   "metadata": {},
   "source": [
    "## Bone stability\n",
    "Visualize the length of a bone in training/test set.\n",
    "\n",
    "It seems in Muco-Temp (and therefore in MPII-3DHP), bones are normalized except for:  \n",
    "left/right hip-knee (30-40)  \n",
    "spine-neck (~10)  \n",
    "neck-shoulder (5-10)\n",
    "\n",
    "hip is also the average of lefthip/right, which is not the same as in the captury videos. It seems left/right hip joints are synthetic and are not coming directly from captury."
   ]
  },
  {
   "cell_type": "code",
   "execution_count": 7,
   "metadata": {},
   "outputs": [],
   "source": [
    "class FullMpiiSet(JointSet):\n",
    "    NAMES = np.array(['spine3', 'spine4', 'spine2', 'spine', 'pelvis',     \n",
    "        'neck', 'head', 'head_top', 'left_clavicle', 'left_shoulder', 'left_elbow', \n",
    "       'left_wrist', 'left_hand',  'right_clavicle', 'right_shoulder', 'right_elbow', 'right_wrist',\n",
    "       'right_hand', 'left_hip', 'left_knee', 'left_ankle', 'left_foot', 'left_toe',  \n",
    "       'right_hip' , 'right_knee', 'right_ankle', 'right_foot', 'right_toe'])\n",
    "    \n",
    "    NUM_JOINTS=28\n",
    "    NAMES.flags.writeable = False"
   ]
  },
  {
   "cell_type": "code",
   "execution_count": 8,
   "metadata": {},
   "outputs": [
    {
     "name": "stdout",
     "output_type": "stream",
     "text": [
      "         spine3          spine2 spine\n",
      "         spine4          spine3 spine2\n",
      "         spine2           spine pelvis\n",
      "          spine          pelvis pelvis\n",
      "         pelvis          pelvis pelvis\n",
      "           neck          spine4 spine3\n",
      "           head            neck spine4\n",
      "       head_top            head neck\n",
      "  left_clavicle            neck spine4\n",
      "  left_shoulder   left_clavicle neck\n",
      "     left_elbow   left_shoulder left_clavicle\n",
      "     left_wrist      left_elbow left_shoulder\n",
      "      left_hand      left_wrist left_elbow\n",
      " right_clavicle            neck spine4\n",
      " right_shoulder  right_clavicle neck\n",
      "    right_elbow  right_shoulder right_clavicle\n",
      "    right_wrist     right_elbow right_shoulder\n",
      "     right_hand     right_wrist right_elbow\n",
      "       left_hip          pelvis spine\n",
      "      left_knee        left_hip pelvis\n",
      "     left_ankle       left_knee left_hip\n",
      "      left_foot      left_ankle left_knee\n",
      "       left_toe       left_foot left_ankle\n",
      "      right_hip          pelvis spine\n",
      "     right_knee       right_hip pelvis\n",
      "    right_ankle      right_knee right_hip\n",
      "     right_foot     right_ankle right_knee\n",
      "      right_toe      right_foot right_ankle\n"
     ]
    }
   ],
   "source": [
    "full_names =  ['spine3', 'spine4', 'spine2', 'spine', 'pelvis',     \n",
    "        'neck', 'head', 'head_top', 'left_clavicle', 'left_shoulder', 'left_elbow', \n",
    "       'left_wrist', 'left_hand',  'right_clavicle', 'right_shoulder', 'right_elbow', 'right_wrist',\n",
    "       'right_hand', 'left_hip', 'left_knee', 'left_ankle', 'left_foot', 'left_toe',  \n",
    "       'right_hip' , 'right_knee', 'right_ankle', 'right_foot', 'right_toe']\n",
    "parent1 = np.array([3, 1, 4, 5, 5, 2, 6, 7, 6, 9, 10, 11, 12, 6, 14, 15, 16, 17, 5, 19, 20, 21, 22, 5, 24, 25, 26, 27 ])-1\n",
    "parent2 = np.array([4, 3, 5, 5, 5, 1, 2, 6, 2, 6, 9, 10, 11, 2, 6, 14, 15, 16, 4, 5, 19, 20, 21, 4, 5, 24, 25, 26]) -1\n",
    "\n",
    "for i in range(len(full_names)):\n",
    "    print('%15s %15s %s' % (full_names[i], full_names[parent1[i]], full_names[parent2[i]]))"
   ]
  },
  {
   "cell_type": "code",
   "execution_count": 10,
   "metadata": {},
   "outputs": [
    {
     "ename": "FileNotFoundError",
     "evalue": "[Errno 2] No such file or directory: 'results_smoothed_83-2955.pkl'",
     "output_type": "error",
     "traceback": [
      "\u001b[0;31m---------------------------------------------------------------------------\u001b[0m",
      "\u001b[0;31mFileNotFoundError\u001b[0m                         Traceback (most recent call last)",
      "\u001b[0;32m<ipython-input-10-df1734a357d6>\u001b[0m in \u001b[0;36m<module>\u001b[0;34m\u001b[0m\n\u001b[1;32m      1\u001b[0m \u001b[0mval_data\u001b[0m \u001b[0;34m=\u001b[0m \u001b[0mPersonStackedMucoTempDataset\u001b[0m\u001b[0;34m(\u001b[0m\u001b[0;34m'hrnet'\u001b[0m\u001b[0;34m,\u001b[0m \u001b[0;34m'normal'\u001b[0m\u001b[0;34m)\u001b[0m\u001b[0;34m\u001b[0m\u001b[0;34m\u001b[0m\u001b[0m\n\u001b[1;32m      2\u001b[0m \u001b[0mtest_data\u001b[0m \u001b[0;34m=\u001b[0m \u001b[0mPersonStackedMuPoTsDataset\u001b[0m\u001b[0;34m(\u001b[0m\u001b[0;34m'hrnet'\u001b[0m\u001b[0;34m,\u001b[0m \u001b[0;34m'normal'\u001b[0m\u001b[0;34m,\u001b[0m \u001b[0;34m'all'\u001b[0m\u001b[0;34m)\u001b[0m\u001b[0;34m\u001b[0m\u001b[0;34m\u001b[0m\u001b[0m\n\u001b[0;32m----> 3\u001b[0;31m \u001b[0mrefine_results\u001b[0m \u001b[0;34m=\u001b[0m \u001b[0mload\u001b[0m\u001b[0;34m(\u001b[0m\u001b[0;34m'results_smoothed_83-2955.pkl'\u001b[0m\u001b[0;34m)\u001b[0m\u001b[0;34m\u001b[0m\u001b[0;34m\u001b[0m\u001b[0m\n\u001b[0m",
      "\u001b[0;32m/workspace/src/util/misc.py\u001b[0m in \u001b[0;36mload\u001b[0;34m(path, pkl_py2_comp)\u001b[0m\n\u001b[1;32m     32\u001b[0m     \"\"\"\n\u001b[1;32m     33\u001b[0m     \u001b[0;32mif\u001b[0m \u001b[0mpath\u001b[0m\u001b[0;34m.\u001b[0m\u001b[0mendswith\u001b[0m\u001b[0;34m(\u001b[0m\u001b[0;34m'.pkl'\u001b[0m\u001b[0;34m)\u001b[0m\u001b[0;34m:\u001b[0m\u001b[0;34m\u001b[0m\u001b[0;34m\u001b[0m\u001b[0m\n\u001b[0;32m---> 34\u001b[0;31m         \u001b[0;32mwith\u001b[0m \u001b[0mopen\u001b[0m\u001b[0;34m(\u001b[0m\u001b[0mpath\u001b[0m\u001b[0;34m,\u001b[0m \u001b[0;34m'rb'\u001b[0m\u001b[0;34m)\u001b[0m \u001b[0;32mas\u001b[0m \u001b[0mf\u001b[0m\u001b[0;34m:\u001b[0m\u001b[0;34m\u001b[0m\u001b[0;34m\u001b[0m\u001b[0m\n\u001b[0m\u001b[1;32m     35\u001b[0m             \u001b[0;32mif\u001b[0m \u001b[0mpkl_py2_comp\u001b[0m\u001b[0;34m:\u001b[0m\u001b[0;34m\u001b[0m\u001b[0;34m\u001b[0m\u001b[0m\n\u001b[1;32m     36\u001b[0m                 \u001b[0;32mreturn\u001b[0m \u001b[0mpickle\u001b[0m\u001b[0;34m.\u001b[0m\u001b[0mload\u001b[0m\u001b[0;34m(\u001b[0m\u001b[0mf\u001b[0m\u001b[0;34m,\u001b[0m \u001b[0mencoding\u001b[0m\u001b[0;34m=\u001b[0m\u001b[0;34m'latin1'\u001b[0m\u001b[0;34m)\u001b[0m\u001b[0;34m\u001b[0m\u001b[0;34m\u001b[0m\u001b[0m\n",
      "\u001b[0;31mFileNotFoundError\u001b[0m: [Errno 2] No such file or directory: 'results_smoothed_83-2955.pkl'"
     ]
    }
   ],
   "source": [
    "val_data = PersonStackedMucoTempDataset('hrnet', 'normal')\n",
    "test_data = PersonStackedMuPoTsDataset('hrnet', 'normal', 'all')\n",
    "refine_results = load('results_smoothed_83-2955.pkl')"
   ]
  },
  {
   "cell_type": "code",
   "execution_count": null,
   "metadata": {},
   "outputs": [],
   "source": [
    "class RefResults:\n",
    "    index= refine_results['index']\n",
    "    poses3d= refine_results['pred']\n",
    "refine_data = RefResults()"
   ]
  },
  {
   "cell_type": "code",
   "execution_count": null,
   "metadata": {},
   "outputs": [],
   "source": [
    "mpi_train_data = Mpi3dTrainDataset('hrnet', 'normal', 'megadepth_at_hrnet', True, 2)\n",
    "mpi_test_data = Mpi3dTestDataset('hrnet', 'normal', 'megadepth_at_hrnet')"
   ]
  },
  {
   "cell_type": "code",
   "execution_count": null,
   "metadata": {},
   "outputs": [],
   "source": [
    "gt = mupots_3d.load_gt_annotations(16)\n",
    "validFrame = gt['isValidFrame']"
   ]
  },
  {
   "cell_type": "code",
   "execution_count": null,
   "metadata": {},
   "outputs": [],
   "source": [
    "BONES = [['left_ankle', 'left_knee'], ['left_hip', 'left_knee'], ['left_hip', 'hip'], \n",
    "         ['hip', 'spine'], ['spine', 'head/nose'], ['left_shoulder', 'left_elbow']]\n",
    "# BONES = [['right_ankle', 'right_knee'], ['right_hip', 'right_knee'], ['right_hip', 'hip'], \n",
    "#          ['hip', 'spine'], ['spine', 'neck'], ['right_shoulder', 'right_elbow']]\n",
    "# BONES = [['neck', 'right_shoulder'], ['right_shoulder', 'right_elbow'], ['right_elbow', 'right_wrist']]\n",
    "# BONES = [['spine', 'neck'], ['neck', 'head/nose'], ['head/nose', 'head_top']]\n",
    "# BONES=[['left_ankle', 'left_knee'], ['left_hip', 'left_knee'],['left_shoulder', 'left_elbow']]\n",
    "joint_set = MuPoTSJoints()\n",
    "data = mpi_train_data\n",
    "\n",
    "seqs = np.unique(data.index.seq)\n",
    "seq = np.random.choice(seqs)\n",
    "# seq='16/2'\n",
    "print(seq)\n",
    "\n",
    "inds = data.index.seq==seq\n",
    "plfig(1, False)\n",
    "# plt.subplot(1,3,1)\n",
    "\n",
    "names=['ankle-knee', 'knee-hip', 'elbow-shoulder']\n",
    "for i,bone in enumerate(BONES):\n",
    "    lens = _calc_limb_length(data.poses3d[inds], joint_set, [bone])\n",
    "    plt.plot(lens, label=bone[0])\n",
    "    print(np.std(lens))\n",
    "# ax2=plt.gca().twinx()\n",
    "# ax2.plot(gt['occlusions'][:,2, joint_set.index_of('left_shoulder')], color='black')\n",
    "\n",
    "plt.legend()"
   ]
  },
  {
   "cell_type": "markdown",
   "metadata": {},
   "source": [
    "mupots: 16/2 - jumps, all frames are valid"
   ]
  },
  {
   "cell_type": "code",
   "execution_count": null,
   "metadata": {},
   "outputs": [],
   "source": [
    "# Mupots gt vs pred\n",
    "\n",
    "joint_set = MuPoTSJoints()\n",
    "\n",
    "seqs = np.unique(test_data.index.seq)\n",
    "seq = np.random.choice(seqs)\n",
    "print(seq)\n",
    "\n",
    "inds = test_data.index.seq==seq\n",
    "assert np.all(refine_data.index.seq[inds]==seq)\n",
    "\n",
    "bones = [['left_ankle', 'left_knee'], ['left_knee', 'left_hip', ], ['left_hip', 'hip'],\n",
    "        ['right_wrist', 'right_elbow'], ['right_elbow', 'right_shoulder', ], ['right_shoulder', 'neck']]\n",
    "plfig(2, True)\n",
    "for i, bone in enumerate(bones):\n",
    "    plt.subplot(2,3,i+1)\n",
    "    lens = _calc_limb_length(test_data.poses3d[inds], joint_set, [bone])\n",
    "    plt.plot(lens, label='gt')\n",
    "    lens = _calc_limb_length(refine_data.poses3d[inds], joint_set, [bone])\n",
    "    plt.plot(lens, label='pred')\n",
    "    plt.title('%s %s' % (bone[0], bone[1]))\n",
    "plt.tight_layout()"
   ]
  },
  {
   "cell_type": "markdown",
   "metadata": {
    "heading_collapsed": true
   },
   "source": [
    "### Mpii-train data full joints"
   ]
  },
  {
   "cell_type": "code",
   "execution_count": null,
   "metadata": {
    "hidden": true
   },
   "outputs": [],
   "source": [
    "sub=7\n",
    "seq=1\n",
    "annot = load(os.path.join(mpii_3dhp.MPII_3DHP_PATH, 'S%d' % sub, 'Seq%d' % seq, 'annot.mat'))\n",
    "annot3 = list([x[0].reshape((-1, 28, 3)).astype('float32') for x in annot['annot3']])"
   ]
  },
  {
   "cell_type": "code",
   "execution_count": null,
   "metadata": {
    "hidden": true
   },
   "outputs": [],
   "source": [
    "lhip = joint_set.index_of('left_hip')\n",
    "rhip = joint_set.index_of('right_hip')\n",
    "np.std(np.linalg.norm((p[:,rhip]+p[:,lhip])/2-p[:,joint_set.index_of('pelvis')], axis=1))"
   ]
  },
  {
   "cell_type": "code",
   "execution_count": null,
   "metadata": {
    "hidden": true
   },
   "outputs": [],
   "source": [
    "# is there any joint the knee is normalized to? answer: No\n",
    "lhip = joint_set.index_of('left_knee')\n",
    "p = annot3[7]\n",
    "for i in range(28):\n",
    "    print(i, FullMpiiSet.NAMES[i], np.std(np.linalg.norm(p[:,lhip]-p[:,i], axis=1)))"
   ]
  },
  {
   "cell_type": "code",
   "execution_count": null,
   "metadata": {
    "hidden": true
   },
   "outputs": [],
   "source": [
    "# \n",
    "BONES = [['left_hip', 'pelvis'], ['neck', 'left_clavicle'], ['spine4', 'neck']]\n",
    "joint_set = FullMpiiSet()\n",
    "\n",
    "plfig()\n",
    "for bone in BONES:\n",
    "    lens = _calc_limb_length(annot3[9], joint_set, [bone])\n",
    "    plt.plot(lens, label=bone[0])\n",
    "    print(np.std(lens))\n",
    "plt.legend()"
   ]
  }
 ],
 "metadata": {
  "kernelspec": {
   "display_name": "Python 3",
   "language": "python",
   "name": "python3"
  },
  "language_info": {
   "codemirror_mode": {
    "name": "ipython",
    "version": 3
   },
   "file_extension": ".py",
   "mimetype": "text/x-python",
   "name": "python",
   "nbconvert_exporter": "python",
   "pygments_lexer": "ipython3",
   "version": "3.7.6"
  },
  "toc": {
   "nav_menu": {},
   "number_sections": true,
   "sideBar": true,
   "skip_h1_title": true,
   "toc_cell": false,
   "toc_position": {},
   "toc_section_display": "block",
   "toc_window_display": true
  }
 },
 "nbformat": 4,
 "nbformat_minor": 4
}
