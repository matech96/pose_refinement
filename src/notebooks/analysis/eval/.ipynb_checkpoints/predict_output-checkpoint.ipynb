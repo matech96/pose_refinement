{
 "cells": [
  {
   "cell_type": "code",
   "execution_count": 1,
   "metadata": {
    "ExecuteTime": {
     "end_time": "2020-12-31T09:56:03.528501Z",
     "start_time": "2020-12-31T09:56:03.526201Z"
    }
   },
   "outputs": [],
   "source": [
    "import os\n",
    "os.chdir('../../..')"
   ]
  },
  {
   "cell_type": "code",
   "execution_count": 2,
   "metadata": {
    "ExecuteTime": {
     "end_time": "2020-12-31T09:56:04.137749Z",
     "start_time": "2020-12-31T09:56:03.530247Z"
    }
   },
   "outputs": [],
   "source": [
    "import numpy as np\n",
    "import matplotlib.pyplot as plt\n",
    "from ai import cs\n",
    "import torch\n",
    "\n",
    "from databases.joint_sets import MuPoTSJoints\n",
    "from databases.datasets import PersonStackedMuPoTsDataset, Mpi3dTestDataset\n",
    "from util.misc import load\n",
    "from util.viz import *\n",
    "from training.torch_tools import *\n",
    "from training.preprocess import get_postprocessor, SaveableCompose, MeanNormalize3D\n",
    "from training.loaders import UnchunkedGenerator\n",
    "from scripts.eval import load_model"
   ]
  },
  {
   "cell_type": "code",
   "execution_count": 20,
   "metadata": {
    "ExecuteTime": {
     "end_time": "2020-12-31T10:01:35.955041Z",
     "start_time": "2020-12-31T10:01:35.944332Z"
    }
   },
   "outputs": [],
   "source": [
    "def joint2bone(nd):\n",
    "    cj = get_cjs()\n",
    "    return nd[:, cj[:, 0], :] - nd[:, cj[:, 1], :]\n",
    "\n",
    "def bone2joint(pred_bx, pred_by, pred_bz, root):\n",
    "    cj = get_cjs()\n",
    "    cj_index = [2, 1, 0, 5, 4, 3, 9, 8, 12, 11, 10, 15, 14, 13, 7, 6]\n",
    "    ordered_cj = cj[cj_index, :]\n",
    "    pred_bxyz = np.stack((pred_bx, pred_by, pred_bz), axis=-1)\n",
    "    res = np.zeros((root.shape[0], 17, 3))\n",
    "    res[:, 14, :] = root\n",
    "    for (a, b), i in zip(ordered_cj, cj_index):\n",
    "        res[:, a, :] = res[:, b, :] + pred_bxyz[:, i, :]\n",
    "    return res\n",
    "\n",
    "def get_cjs():\n",
    "    connected_joints = MuPoTSJoints().LIMBGRAPH\n",
    "    return np.array(connected_joints)\n",
    "\n",
    "def get_rtp(nd):\n",
    "    diff = joint2bone(nd)\n",
    "    r, t, p = cs.cart2sp(diff[:, :, 0], diff[:, :, 1], diff[:, :, 2])\n",
    "    return r, t, p\n",
    "\n",
    "def get_lengths(nd):\n",
    "    r, _, _ = get_rtp(nd)\n",
    "    return r\n",
    "\n",
    "def get_xyz(r, t, p, root):    \n",
    "    pred_bx, pred_by, pred_bz = cs.sp2cart(r, t, p)\n",
    "    return bone2joint(pred_bx, pred_by, pred_bz, root)"
   ]
  },
  {
   "cell_type": "code",
   "execution_count": 3,
   "metadata": {
    "ExecuteTime": {
     "end_time": "2020-12-31T09:56:04.822573Z",
     "start_time": "2020-12-31T09:56:04.138705Z"
    }
   },
   "outputs": [],
   "source": [
    "model_dir = '../models/4b1006aa968a47139217c9e7ac31e52f/'\n",
    "config, model = load_model(model_dir)"
   ]
  },
  {
   "cell_type": "code",
   "execution_count": 25,
   "metadata": {
    "ExecuteTime": {
     "end_time": "2020-12-31T10:03:37.777531Z",
     "start_time": "2020-12-31T10:03:37.773193Z"
    }
   },
   "outputs": [],
   "source": [
    "def get_dataset(config):\n",
    "    data = PersonStackedMuPoTsDataset(\n",
    "        config[\"pose2d_type\"],\n",
    "        config.get(\"pose3d_scaling\", \"normal\"),\n",
    "        pose_validity=\"all\",\n",
    "    )\n",
    "#     data = Mpi3dTestDataset(\n",
    "#         config[\"pose2d_type\"],\n",
    "#         config.get(\"pose3d_scaling\", \"normal\"),\n",
    "#         eval_frames_only=True,\n",
    "#     )\n",
    "    return data"
   ]
  },
  {
   "cell_type": "code",
   "execution_count": 26,
   "metadata": {
    "ExecuteTime": {
     "end_time": "2020-12-31T10:03:39.287750Z",
     "start_time": "2020-12-31T10:03:38.172168Z"
    }
   },
   "outputs": [],
   "source": [
    "dataset = get_dataset(config)"
   ]
  },
  {
   "cell_type": "code",
   "execution_count": 27,
   "metadata": {
    "ExecuteTime": {
     "end_time": "2020-12-31T10:03:39.303041Z",
     "start_time": "2020-12-31T10:03:39.288842Z"
    }
   },
   "outputs": [],
   "source": [
    "params_path = f\"{model_dir}/preprocess_params.pkl\"\n",
    "transform = SaveableCompose.from_file(params_path, dataset, globals())\n",
    "dataset.transform = transform\n",
    "\n",
    "assert isinstance(transform.transforms[1].normalizer, MeanNormalize3D)\n",
    "normalizer3d = transform.transforms[1].normalizer\n",
    "\n",
    "post_process_func = get_postprocessor(config, dataset, normalizer3d)"
   ]
  },
  {
   "cell_type": "code",
   "execution_count": 28,
   "metadata": {
    "ExecuteTime": {
     "end_time": "2020-12-31T10:03:39.756247Z",
     "start_time": "2020-12-31T10:03:39.644340Z"
    }
   },
   "outputs": [],
   "source": [
    "augment = True\n",
    "pad = (model.receptive_field() - 1) // 2\n",
    "generator = UnchunkedGenerator(dataset, pad, augment)\n",
    "seqs = sorted(np.unique(dataset.index.seq))\n",
    "\n",
    "data_3d_mm = {}\n",
    "preprocessed3d = {}\n",
    "for seq in seqs:\n",
    "    inds = np.where(dataset.index.seq == seq)[0]\n",
    "    batch = dataset.get_samples(inds, False)\n",
    "    preprocessed3d[seq] = batch[\"pose3d\"][batch[\"valid_pose\"]]\n",
    "    data_3d_mm[seq] = dataset.poses3d[inds][batch[\"valid_pose\"]]\n",
    "#     break\n",
    "\n",
    "bl = {}\n",
    "root = {}\n",
    "org_pose3d = {}\n",
    "for seq in seqs:\n",
    "    inds = np.where(dataset.index.seq == seq)[0]\n",
    "    batch = dataset.get_samples(inds, False)\n",
    "    bl[seq] = batch[\"length\"][batch[\"valid_pose\"]]\n",
    "    root[seq] = batch[\"root\"][batch[\"valid_pose\"]]\n",
    "    org_pose3d[seq] = batch[\"org_pose3d\"][batch[\"valid_pose\"]]\n",
    "#     break"
   ]
  },
  {
   "cell_type": "code",
   "execution_count": 29,
   "metadata": {
    "ExecuteTime": {
     "end_time": "2020-12-31T10:03:40.306966Z",
     "start_time": "2020-12-31T10:03:40.248793Z"
    }
   },
   "outputs": [],
   "source": [
    "_dgt = {}\n",
    "seqs = sorted(np.unique(dataset.index.seq))\n",
    "for seq in seqs:\n",
    "    inds = np.where(dataset.index.seq == seq)[0]\n",
    "    batch = dataset.get_samples(inds, False)\n",
    "    mgt =  dataset.poses3d[inds][batch[\"valid_pose\"]]\n",
    "    _dgt[seq] = mgt"
   ]
  },
  {
   "cell_type": "code",
   "execution_count": 30,
   "metadata": {
    "ExecuteTime": {
     "end_time": "2020-12-31T10:03:41.193399Z",
     "start_time": "2020-12-31T10:03:40.892573Z"
    }
   },
   "outputs": [],
   "source": [
    "_dpred = {}\n",
    "raw_preds = {}\n",
    "losses = {}\n",
    "with torch.no_grad():\n",
    "    for i, (pose2d, valid) in enumerate(generator):\n",
    "        seq = seqs[i]\n",
    "        pred3d = (\n",
    "            model(torch.from_numpy(pose2d).cuda()).detach().cpu().numpy()\n",
    "        )\n",
    "        raw_preds[seq] = pred3d.copy()  # .cpu().numpy()\n",
    "\n",
    "        valid = valid[0]\n",
    "#         pred_bo_np = pred3d[0][valid].reshape([-1, 2, 16])\n",
    "#         if orient_norm is None:\n",
    "#             pass\n",
    "#         elif orient_norm == \"_1_1\":\n",
    "#             pred_bo_np *= np.pi\n",
    "#         elif orient_norm == \"0_1\":\n",
    "#             pred_bo_np = (pred_bo_np * 2 * np.pi) - np.pi\n",
    "#         else:\n",
    "#             raise Exception(\n",
    "#                 f\"Not supported oreitation norm: {self.orient_norm}\"\n",
    "#             )\n",
    "#         pred_bo = torch.from_numpy(pred_bo_np).to(\"cuda\")\n",
    "#         orient_pred3d = (\n",
    "#             orient2pose(\n",
    "#                 pred_bo,\n",
    "#                 # torch.from_numpy(self.bo[seq]).to(\"cuda\"),\n",
    "#                 torch.from_numpy(bl[seq]).to(\"cuda\"),\n",
    "#                 torch.from_numpy(root[seq]).to(\"cuda\"),\n",
    "#             )\n",
    "#             .cpu()\n",
    "#             .numpy()\n",
    "#         )\n",
    "#         preds[seq] = orient_pred3d\n",
    "\n",
    "        pred_real_pose = post_process_func(pred3d[0], seq)\n",
    "    \n",
    "        if augment:\n",
    "            pred_real_pose_aug = post_process_func(pred3d[1], seq)\n",
    "            pred_real_pose_aug[:, :, 0] *= -1\n",
    "            pred_real_pose_aug = dataset.pose3d_jointset.flip(\n",
    "                pred_real_pose_aug\n",
    "            )\n",
    "            pred_real_pose = (pred_real_pose + pred_real_pose_aug) / 2\n",
    "            \n",
    "        mpred = pred_real_pose[valid]\n",
    "        _dpred[seq] = mpred"
   ]
  },
  {
   "cell_type": "code",
   "execution_count": 31,
   "metadata": {
    "ExecuteTime": {
     "end_time": "2020-12-31T10:03:41.849696Z",
     "start_time": "2020-12-31T10:03:41.819610Z"
    }
   },
   "outputs": [
    {
     "name": "stdout",
     "output_type": "stream",
     "text": [
      "----- Per sequence and joint errors in millimeter on the validation set ----- \n",
      "Sequence          Avg        PCK      99%   \t                            Avg        99%\n",
      "1/0     :   199.48 mm   57.0%   691.15 mm\t        head_top (# 0):  445.74 mm   5432.59 mm \n",
      "1/1     :   147.74 mm   53.9%   308.19 mm\t            neck (# 1):  428.46 mm   5554.78 mm \n",
      "10/0    :   110.92 mm   79.9%   490.63 mm\t  right_shoulder (# 2):  429.05 mm   5471.93 mm \n",
      "10/1    :   168.23 mm   48.7%   483.89 mm\t     right_elbow (# 3):  442.73 mm   5408.93 mm \n",
      "11/0    :   538.27 mm    5.1%   1171.57 mm\t     right_wrist (# 4):  466.36 mm   5417.14 mm \n",
      "11/1    :   457.97 mm   21.2%   2758.49 mm\t   left_shoulder (# 5):  432.33 mm   5573.14 mm \n",
      "12/0    :   275.38 mm   32.6%   1079.31 mm\t      left_elbow (# 6):  446.67 mm   5585.37 mm \n",
      "12/1    :   295.70 mm   19.9%   1194.95 mm\t      left_wrist (# 7):  448.35 mm   5290.07 mm \n",
      "13/0    :   167.61 mm   48.4%   437.87 mm\t       right_hip (# 8):  426.07 mm   5480.76 mm \n",
      "13/1    :   1020.77 mm   17.5%   3726.95 mm\t      right_knee (# 9):  421.59 mm   5377.78 mm \n",
      "13/2    :   188.25 mm   44.2%   551.18 mm\t     right_ankle (#10):  441.75 mm   5483.59 mm \n",
      "14/0    :   153.34 mm   55.6%   382.78 mm\t        left_hip (#11):  425.38 mm   5518.02 mm \n",
      "14/1    :   181.42 mm   39.1%   423.85 mm\t       left_knee (#12):  417.44 mm   5544.45 mm \n",
      "14/2    :   3164.46 mm    0.3%   5754.02 mm\t      left_ankle (#13):  427.34 mm   5623.21 mm \n",
      "15/0    :   150.84 mm   57.4%   439.88 mm\t             hip (#14):  419.14 mm   5510.45 mm \n",
      "15/1    :   281.98 mm   24.2%   1145.39 mm\t           spine (#15):  426.64 mm   5517.45 mm \n",
      "15/2    :   159.87 mm   56.1%   447.06 mm\t       head/nose (#16):  429.54 mm   5510.30 mm \n",
      "16/0    :   442.88 mm    5.0%   3295.89 mm\t \n",
      "16/1    :   191.02 mm   54.5%   1468.89 mm\t \n",
      "16/2    :   467.58 mm    1.8%   1895.37 mm\t \n",
      "17/0    :   539.89 mm    1.2%   1310.83 mm\t \n",
      "17/1    :   146.57 mm   56.7%   401.53 mm\t \n",
      "17/2    :   339.55 mm    7.5%   1083.35 mm\t \n",
      "18/0    :   378.81 mm   12.7%   1266.80 mm\t \n",
      "18/1    :   185.02 mm   67.8%   1403.07 mm\t \n",
      "18/2    :   469.80 mm    3.0%   1456.32 mm\t \n",
      "19/0    :   247.72 mm   31.7%   633.51 mm\t \n",
      "19/1    :   788.51 mm   33.2%   3125.15 mm\t \n",
      "19/2    :   484.30 mm    4.5%   1720.69 mm\t \n",
      "2/0     :   241.29 mm   27.4%   1252.81 mm\t \n",
      "2/1     :   592.56 mm   15.6%   2418.63 mm\t \n",
      "20/0    :   198.10 mm   32.6%   475.91 mm\t \n",
      "20/1    :   145.55 mm   57.5%   336.57 mm\t \n",
      "20/2    :   1808.68 mm    1.5%   2488.90 mm\t \n",
      "3/0     :   214.07 mm   42.9%   1765.92 mm\t \n",
      "3/1     :   146.07 mm   61.4%   403.70 mm\t \n",
      "4/0     :   222.81 mm   28.6%   621.69 mm\t \n",
      "4/1     :   290.72 mm   36.5%   716.85 mm\t \n",
      "5/0     :   299.58 mm   43.7%   1663.51 mm\t \n",
      "5/1     :   359.36 mm   37.8%   1942.69 mm\t \n",
      "6/0     :   216.57 mm   31.8%   519.74 mm\t \n",
      "6/1     :   570.65 mm    6.1%   2181.83 mm\t \n",
      "7/0     :   150.99 mm   51.5%   319.80 mm\t \n",
      "7/1     :   243.86 mm   48.3%   1050.23 mm\t \n",
      "7/2     :   345.15 mm    9.5%   939.62 mm\t \n",
      "8/0     :   582.56 mm   33.7%   2356.36 mm\t \n",
      "8/1     :   283.86 mm   50.7%   4560.29 mm\t \n",
      "9/0     :   146.61 mm   64.0%   474.56 mm\t \n",
      "9/1     :   292.51 mm   32.7%   873.50 mm\t \n",
      "\n",
      "Mean sequence error (Absolute MPJPE) is 401.95 mm\n",
      "---------------------------------------------------------------- \n",
      "MRPE: 387.6\n"
     ]
    }
   ],
   "source": [
    "_ = eval_results(_dgt, _dpred, MuPoTSJoints())"
   ]
  },
  {
   "cell_type": "code",
   "execution_count": 32,
   "metadata": {
    "ExecuteTime": {
     "end_time": "2020-12-31T10:03:49.098480Z",
     "start_time": "2020-12-31T10:03:49.027827Z"
    }
   },
   "outputs": [
    {
     "name": "stdout",
     "output_type": "stream",
     "text": [
      "----- Per sequence and joint errors in millimeter on the validation set ----- \n",
      "Sequence          Avg        PCK      99%   \t                            Avg        99%\n",
      "1/0     :    98.62 mm   83.1%   678.74 mm\t        head_top (# 0):  148.10 mm   506.26 mm \n",
      "1/1     :    64.59 mm   96.2%   220.87 mm\t            neck (# 1):   94.34 mm   288.20 mm \n",
      "10/0    :    74.61 mm   91.4%   429.60 mm\t  right_shoulder (# 2):   99.57 mm   298.29 mm \n",
      "10/1    :    65.39 mm   95.9%   406.74 mm\t     right_elbow (# 3):  131.10 mm   561.92 mm \n",
      "11/0    :   120.71 mm   76.2%   644.68 mm\t     right_wrist (# 4):  169.31 mm   756.89 mm \n",
      "11/1    :    99.87 mm   84.3%   560.29 mm\t   left_shoulder (# 5):   96.78 mm   303.18 mm \n",
      "12/0    :   127.22 mm   68.6%   455.91 mm\t      left_elbow (# 6):  129.96 mm   530.26 mm \n",
      "12/1    :    85.15 mm   87.1%   291.10 mm\t      left_wrist (# 7):  161.92 mm   679.60 mm \n",
      "13/0    :   137.21 mm   60.3%   381.65 mm\t       right_hip (# 8):   56.69 mm   255.20 mm \n",
      "13/1    :   146.75 mm   63.9%   682.91 mm\t      right_knee (# 9):  107.19 mm   503.56 mm \n",
      "13/2    :   104.18 mm   78.5%   383.29 mm\t     right_ankle (#10):  140.73 mm   598.57 mm \n",
      "14/0    :    95.91 mm   81.5%   300.96 mm\t        left_hip (#11):   56.72 mm   256.09 mm \n",
      "14/1    :   118.96 mm   69.4%   376.81 mm\t       left_knee (#12):  116.29 mm   550.97 mm \n",
      "14/2    :   219.90 mm   39.4%   674.09 mm\t      left_ankle (#13):  154.87 mm   630.09 mm \n",
      "15/0    :   120.84 mm   70.1%   417.01 mm\t             hip (#14):    0.00 mm     0.00 mm \n",
      "15/1    :   116.44 mm   77.8%   613.76 mm\t           spine (#15):   50.53 mm   150.10 mm \n",
      "15/2    :    83.86 mm   86.8%   274.73 mm\t       head/nose (#16):  105.14 mm   368.87 mm \n",
      "16/0    :    92.77 mm   83.7%   466.52 mm\t \n",
      "16/1    :    60.58 mm   96.3%   235.69 mm\t \n",
      "16/2    :    67.62 mm   91.8%   306.66 mm\t \n",
      "17/0    :   125.00 mm   73.9%   846.15 mm\t \n",
      "17/1    :    64.88 mm   94.0%   209.26 mm\t \n",
      "17/2    :    68.96 mm   95.3%   428.51 mm\t \n",
      "18/0    :   118.52 mm   72.6%   449.47 mm\t \n",
      "18/1    :    69.18 mm   89.5%   389.11 mm\t \n",
      "18/2    :    84.03 mm   87.2%   329.84 mm\t \n",
      "19/0    :    83.08 mm   86.9%   356.79 mm\t \n",
      "19/1    :   131.84 mm   72.9%   708.30 mm\t \n",
      "19/2    :    75.38 mm   92.7%   489.17 mm\t \n",
      "2/0     :    98.81 mm   86.2%   627.22 mm\t \n",
      "2/1     :   145.08 mm   68.2%   685.55 mm\t \n",
      "20/0    :    96.01 mm   79.3%   313.05 mm\t \n",
      "20/1    :    59.90 mm   97.2%   174.45 mm\t \n",
      "20/2    :   200.23 mm   37.0%   522.72 mm\t \n",
      "3/0     :    85.90 mm   86.9%   352.60 mm\t \n",
      "3/1     :    86.73 mm   85.9%   327.29 mm\t \n",
      "4/0     :    99.44 mm   80.7%   396.65 mm\t \n",
      "4/1     :    78.12 mm   90.8%   357.79 mm\t \n",
      "5/0     :    99.14 mm   82.6%   468.65 mm\t \n",
      "5/1     :    85.62 mm   87.3%   485.83 mm\t \n",
      "6/0     :   105.34 mm   73.9%   284.71 mm\t \n",
      "6/1     :   146.83 mm   62.0%   599.66 mm\t \n",
      "7/0     :    83.17 mm   85.9%   204.36 mm\t \n",
      "7/1     :   110.41 mm   77.0%   409.91 mm\t \n",
      "7/2     :    64.63 mm   95.3%   312.21 mm\t \n",
      "8/0     :   182.57 mm   59.9%   756.96 mm\t \n",
      "8/1     :   110.42 mm   75.7%   453.00 mm\t \n",
      "9/0     :    84.40 mm   83.9%   317.51 mm\t \n",
      "9/1     :   125.80 mm   61.8%   377.79 mm\t \n",
      "\n",
      "Mean sequence error (Absolute MPJPE) is 103.48 mm\n",
      "---------------------------------------------------------------- \n",
      "MRPE: 0.0\n"
     ]
    }
   ],
   "source": [
    "dgt = {}\n",
    "dpred = {}\n",
    "for seq in seqs:\n",
    "    mgt = _dgt[seq]\n",
    "    mpred = _dpred[seq]\n",
    "    gt_r = get_lengths(mgt)\n",
    "    r, t, p = get_rtp(mpred)\n",
    "    mpred = get_xyz(gt_r, t, p, mgt[:, 14, :])\n",
    "    dgt[seq] = mgt\n",
    "    dpred[seq] = mpred\n",
    "_ = eval_results(dgt, dpred, MuPoTSJoints())"
   ]
  },
  {
   "cell_type": "code",
   "execution_count": 33,
   "metadata": {
    "ExecuteTime": {
     "end_time": "2020-12-31T10:03:55.335258Z",
     "start_time": "2020-12-31T10:03:55.269568Z"
    }
   },
   "outputs": [
    {
     "name": "stdout",
     "output_type": "stream",
     "text": [
      "----- Per sequence and joint errors in millimeter on the validation set ----- \n",
      "Sequence          Avg        PCK      99%   \t                            Avg        99%\n",
      "1/0     :   137.50 mm   64.4%   647.80 mm\t        head_top (# 0):  281.71 mm   719.71 mm \n",
      "1/1     :   148.62 mm   56.2%   470.56 mm\t            neck (# 1):  187.17 mm   487.39 mm \n",
      "10/0    :   135.17 mm   67.6%   549.37 mm\t  right_shoulder (# 2):  186.32 mm   498.97 mm \n",
      "10/1    :    96.55 mm   81.9%   449.70 mm\t     right_elbow (# 3):  210.92 mm   648.37 mm \n",
      "11/0    :   162.95 mm   60.2%   634.62 mm\t     right_wrist (# 4):  238.95 mm   809.27 mm \n",
      "11/1    :   190.05 mm   46.1%   631.91 mm\t   left_shoulder (# 5):  178.77 mm   510.53 mm \n",
      "12/0    :   167.51 mm   51.4%   558.03 mm\t      left_elbow (# 6):  209.15 mm   589.69 mm \n",
      "12/1    :   144.26 mm   60.8%   493.75 mm\t      left_wrist (# 7):  237.77 mm   755.85 mm \n",
      "13/0    :   189.67 mm   40.2%   469.73 mm\t       right_hip (# 8):   63.39 mm   257.48 mm \n",
      "13/1    :   222.28 mm   37.0%   758.74 mm\t      right_knee (# 9):  164.22 mm   615.02 mm \n",
      "13/2    :   170.98 mm   46.6%   520.72 mm\t     right_ankle (#10):  210.85 mm   742.17 mm \n",
      "14/0    :   196.34 mm   34.8%   462.79 mm\t        left_hip (#11):   63.38 mm   257.55 mm \n",
      "14/1    :   217.79 mm   40.7%   588.22 mm\t       left_knee (#12):  169.84 mm   736.00 mm \n",
      "14/2    :   309.34 mm   23.3%   885.58 mm\t      left_ankle (#13):  221.62 mm   874.52 mm \n",
      "15/0    :   151.65 mm   57.2%   527.98 mm\t             hip (#14):    0.00 mm     0.00 mm \n",
      "15/1    :   199.26 mm   45.8%   724.84 mm\t           spine (#15):  103.97 mm   249.41 mm \n",
      "15/2    :   148.54 mm   59.1%   440.15 mm\t       head/nose (#16):  208.11 mm   544.34 mm \n",
      "16/0    :   226.38 mm   37.5%   712.46 mm\t \n",
      "16/1    :    92.25 mm   82.3%   360.21 mm\t \n",
      "16/2    :   144.61 mm   56.1%   431.18 mm\t \n",
      "17/0    :   283.70 mm   32.2%   1023.23 mm\t \n",
      "17/1    :    89.16 mm   84.2%   293.99 mm\t \n",
      "17/2    :   116.27 mm   72.8%   484.61 mm\t \n",
      "18/0    :   244.41 mm   33.2%   633.97 mm\t \n",
      "18/1    :   123.37 mm   69.0%   612.73 mm\t \n",
      "18/2    :   158.52 mm   53.4%   492.01 mm\t \n",
      "19/0    :   189.94 mm   52.7%   671.59 mm\t \n",
      "19/1    :   196.64 mm   54.9%   844.74 mm\t \n",
      "19/2    :   182.06 mm   42.1%   552.19 mm\t \n",
      "2/0     :   197.58 mm   45.7%   797.86 mm\t \n",
      "2/1     :   269.90 mm   35.5%   962.71 mm\t \n",
      "20/0    :   234.63 mm   42.5%   632.33 mm\t \n",
      "20/1    :   106.70 mm   74.7%   334.96 mm\t \n",
      "20/2    :   274.60 mm   22.2%   731.92 mm\t \n",
      "3/0     :   143.62 mm   60.3%   523.95 mm\t \n",
      "3/1     :   142.97 mm   62.7%   440.71 mm\t \n",
      "4/0     :   148.35 mm   61.8%   621.85 mm\t \n",
      "4/1     :   127.34 mm   68.1%   419.40 mm\t \n",
      "5/0     :   190.71 mm   51.3%   599.04 mm\t \n",
      "5/1     :   194.25 mm   47.8%   729.14 mm\t \n",
      "6/0     :   143.91 mm   62.6%   449.22 mm\t \n",
      "6/1     :   175.42 mm   51.1%   684.90 mm\t \n",
      "7/0     :   109.88 mm   70.6%   290.76 mm\t \n",
      "7/1     :   124.33 mm   73.6%   628.91 mm\t \n",
      "7/2     :   102.15 mm   82.0%   339.83 mm\t \n",
      "8/0     :   229.79 mm   43.5%   778.99 mm\t \n",
      "8/1     :   145.24 mm   56.5%   568.97 mm\t \n",
      "9/0     :   116.26 mm   74.0%   411.42 mm\t \n",
      "9/1     :   139.57 mm   56.2%   371.00 mm\t \n",
      "\n",
      "Mean sequence error (Absolute MPJPE) is 170.47 mm\n",
      "---------------------------------------------------------------- \n",
      "MRPE: 0.0\n"
     ]
    }
   ],
   "source": [
    "dgt = {}\n",
    "dpred = {}\n",
    "for seq in seqs:\n",
    "    mgt = _dgt[seq]\n",
    "    mpred = _dpred[seq]\n",
    "    gt_r = get_lengths(mgt)\n",
    "    diff = joint2bone(mpred)\n",
    "    dx = diff[:, :, 0]\n",
    "    dy = diff[:, :, 1]\n",
    "    dz = diff[:, :, 2]\n",
    "    adj_dz = np.sign(diff[:, :, 2]) * np.sqrt(np.maximum((gt_r**2) - (dx**2) - (dy**2), 0))\n",
    "    mpred = bone2joint(dx, dy, adj_dz, mgt[:, 14, :])\n",
    "    dgt[seq] = mgt\n",
    "    dpred[seq] = mpred\n",
    "_ = eval_results(dgt, dpred, MuPoTSJoints())"
   ]
  },
  {
   "cell_type": "code",
   "execution_count": 34,
   "metadata": {
    "ExecuteTime": {
     "end_time": "2020-12-31T10:03:59.680902Z",
     "start_time": "2020-12-31T10:03:59.499510Z"
    }
   },
   "outputs": [
    {
     "data": {
      "image/png": "[encoded data removed]",
      "text/plain": [
       "<Figure size 432x288 with 1 Axes>"
      ]
     },
     "metadata": {},
     "output_type": "display_data"
    },
    {
     "name": "stdout",
     "output_type": "stream",
     "text": [
      "150.04365328427002\n"
     ]
    },
    {
     "data": {
      "image/png": "[encoded data removed]",
      "text/plain": [
       "<Figure size 432x288 with 1 Axes>"
      ]
     },
     "metadata": {},
     "output_type": "display_data"
    },
    {
     "name": "stdout",
     "output_type": "stream",
     "text": [
      "173.56249601586396\n"
     ]
    },
    {
     "data": {
      "image/png": "[encoded data removed]",
      "text/plain": [
       "<Figure size 432x288 with 1 Axes>"
      ]
     },
     "metadata": {},
     "output_type": "display_data"
    },
    {
     "name": "stdout",
     "output_type": "stream",
     "text": [
      "159.9412605282949\n"
     ]
    }
   ],
   "source": [
    "for i in range(3):\n",
    "    i *= 10\n",
    "    show3Dpose(np.array([mgt[i, ], mpred[i, ]]), MuPoTSJoints(), invert_vertical=True)\n",
    "    plt.show()\n",
    "    print(eval_results({'0': mgt[i:i+1, ]}, {'0': mpred[i:i+1]}, MuPoTSJoints(), verbose=False)[0]['0'])"
   ]
  },
  {
   "cell_type": "code",
   "execution_count": null,
   "metadata": {},
   "outputs": [],
   "source": []
  }
 ],
 "metadata": {
  "kernelspec": {
   "display_name": "Python 3",
   "language": "python",
   "name": "python3"
  },
  "language_info": {
   "codemirror_mode": {
    "name": "ipython",
    "version": 3
   },
   "file_extension": ".py",
   "mimetype": "text/x-python",
   "name": "python",
   "nbconvert_exporter": "python",
   "pygments_lexer": "ipython3",
   "version": "3.7.6"
  },
  "toc": {
   "base_numbering": 1,
   "nav_menu": {},
   "number_sections": false,
   "sideBar": true,
   "skip_h1_title": false,
   "title_cell": "Table of Contents",
   "title_sidebar": "Contents",
   "toc_cell": false,
   "toc_position": {},
   "toc_section_display": true,
   "toc_window_display": false
  }
 },
 "nbformat": 4,
 "nbformat_minor": 4
}
