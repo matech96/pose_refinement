{
 "cells": [
  {
   "cell_type": "code",
   "execution_count": 1,
   "metadata": {
    "ExecuteTime": {
     "end_time": "2020-12-29T18:11:52.319353Z",
     "start_time": "2020-12-29T18:11:52.317326Z"
    }
   },
   "outputs": [],
   "source": [
    "import os\n",
    "os.chdir('../../..')"
   ]
  },
  {
   "cell_type": "code",
   "execution_count": 2,
   "metadata": {
    "ExecuteTime": {
     "end_time": "2020-12-29T18:11:53.114239Z",
     "start_time": "2020-12-29T18:11:52.595110Z"
    }
   },
   "outputs": [],
   "source": [
    "import numpy as np\n",
    "import matplotlib.pyplot as plt\n",
    "from ai import cs\n",
    "import torch\n",
    "\n",
    "from databases.joint_sets import MuPoTSJoints\n",
    "from util.misc import load\n",
    "from util.viz import *\n",
    "from training.torch_tools import *"
   ]
  },
  {
   "cell_type": "code",
   "execution_count": 105,
   "metadata": {
    "ExecuteTime": {
     "end_time": "2020-12-30T00:11:10.401278Z",
     "start_time": "2020-12-30T00:11:10.346407Z"
    }
   },
   "outputs": [],
   "source": [
    "p = load('../models/4b1006aa968a47139217c9e7ac31e52f/test_results.pkl') # l1\n",
    "# p = load('../models/21a1850a239642e4978f2cfa0756803f/test_results.pkl') # orient"
   ]
  },
  {
   "cell_type": "code",
   "execution_count": 106,
   "metadata": {
    "ExecuteTime": {
     "end_time": "2020-12-30T00:11:10.670819Z",
     "start_time": "2020-12-30T00:11:10.667642Z"
    }
   },
   "outputs": [],
   "source": [
    "mask = p['pred'][:, 14, 0] != 0"
   ]
  },
  {
   "cell_type": "code",
   "execution_count": 107,
   "metadata": {
    "ExecuteTime": {
     "end_time": "2020-12-30T00:11:11.063240Z",
     "start_time": "2020-12-30T00:11:10.989281Z"
    }
   },
   "outputs": [],
   "source": [
    "gt = p['pose3d'][mask]\n",
    "pred = p['pred'][mask]\n",
    "vid_id = np.array([a for a, b in p['index']])[mask]"
   ]
  },
  {
   "cell_type": "code",
   "execution_count": 108,
   "metadata": {
    "ExecuteTime": {
     "end_time": "2020-12-30T00:11:11.344504Z",
     "start_time": "2020-12-30T00:11:11.333402Z"
    }
   },
   "outputs": [],
   "source": [
    "def joint2bone(nd):\n",
    "    cj = get_cjs()\n",
    "    return nd[:, cj[:, 0], :] - nd[:, cj[:, 1], :]\n",
    "\n",
    "def bone2joint(pred_bx, pred_by, pred_bz, root):\n",
    "    cj = get_cjs()\n",
    "    cj_index = [2, 1, 0, 5, 4, 3, 9, 8, 12, 11, 10, 15, 14, 13, 7, 6]\n",
    "    ordered_cj = cj[cj_index, :]\n",
    "    pred_bxyz = np.stack((pred_bx, pred_by, pred_bz), axis=-1)\n",
    "    res = np.zeros((root.shape[0], 17, 3))\n",
    "    res[:, 14, :] = root\n",
    "    for (a, b), i in zip(ordered_cj, cj_index):\n",
    "        res[:, a, :] = res[:, b, :] + pred_bxyz[:, i, :]\n",
    "    return res\n",
    "\n",
    "def get_cjs():\n",
    "    connected_joints = MuPoTSJoints().LIMBGRAPH\n",
    "    return np.array(connected_joints)\n",
    "\n",
    "def get_rtp(nd):\n",
    "    diff = joint2bone(nd)\n",
    "    r, t, p = cs.cart2sp(diff[:, :, 0], diff[:, :, 1], diff[:, :, 2])\n",
    "    return r, t, p\n",
    "\n",
    "def get_lengths(nd):\n",
    "    r, _, _ = get_rtp(nd)\n",
    "    return r\n",
    "\n",
    "def get_xyz(r, t, p, root):    \n",
    "    pred_bx, pred_by, pred_bz = cs.sp2cart(r, t, p)\n",
    "    return bone2joint(pred_bx, pred_by, pred_bz, root)"
   ]
  },
  {
   "cell_type": "code",
   "execution_count": 112,
   "metadata": {
    "ExecuteTime": {
     "end_time": "2020-12-30T00:11:36.325807Z",
     "start_time": "2020-12-30T00:11:36.313838Z"
    }
   },
   "outputs": [
    {
     "name": "stdout",
     "output_type": "stream",
     "text": [
      "----- Per sequence and joint errors in millimeter on the validation set ----- \n",
      "Sequence          Avg        PCK      99%   \t                            Avg        99%\n",
      "1       :   248.02 mm   22.8%   583.54 mm\t        head_top (# 0):  178.64 mm   520.41 mm \n",
      "2       :   159.34 mm   56.9%   512.55 mm\t            neck (# 1):  157.32 mm   475.45 mm \n",
      "3       :   149.75 mm   59.3%   440.61 mm\t  right_shoulder (# 2):  161.13 mm   505.84 mm \n",
      "4       :   143.27 mm   63.0%   486.74 mm\t     right_elbow (# 3):  185.16 mm   515.88 mm \n",
      "5       :   142.70 mm   62.9%   440.47 mm\t     right_wrist (# 4):  218.29 mm   639.82 mm \n",
      "6       :   146.92 mm   64.1%   534.83 mm\t   left_shoulder (# 5):  156.89 mm   479.31 mm \n",
      "                                                      left_elbow (# 6):  170.61 mm   509.37 mm \n",
      "                                                      left_wrist (# 7):  199.32 mm   696.82 mm \n",
      "                                                       right_hip (# 8):  156.01 mm   487.22 mm \n",
      "                                                      right_knee (# 9):  163.06 mm   502.69 mm \n",
      "                                                     right_ankle (#10):  181.91 mm   583.83 mm \n",
      "                                                        left_hip (#11):  156.57 mm   469.02 mm \n",
      "                                                       left_knee (#12):  158.67 mm   471.07 mm \n",
      "                                                      left_ankle (#13):  174.43 mm   557.66 mm \n",
      "                                                             hip (#14):  153.40 mm   472.29 mm \n",
      "                                                           spine (#15):  156.16 mm   474.86 mm \n",
      "                                                       head/nose (#16):  160.22 mm   471.46 mm \n",
      "\n",
      "Mean sequence error (Absolute MPJPE) is 165.00 mm\n",
      "---------------------------------------------------------------- \n",
      "MRPE: 147.1\n"
     ]
    }
   ],
   "source": [
    "dgt = {}\n",
    "dpred = {}\n",
    "for i in np.unique(vid_id):\n",
    "    m = vid_id == i\n",
    "    mgt = gt[m,]\n",
    "    mpred = pred[m,]\n",
    "    dgt[f\"{i}\"] = mgt\n",
    "    dpred[f\"{i}\"] = mpred\n",
    "_ = eval_results(dgt, dpred, MuPoTSJoints())"
   ]
  },
  {
   "cell_type": "code",
   "execution_count": 113,
   "metadata": {
    "ExecuteTime": {
     "end_time": "2020-12-30T00:11:41.416659Z",
     "start_time": "2020-12-30T00:11:41.389916Z"
    }
   },
   "outputs": [
    {
     "name": "stdout",
     "output_type": "stream",
     "text": [
      "----- Per sequence and joint errors in millimeter on the validation set ----- \n",
      "Sequence          Avg        PCK      99%   \t                            Avg        99%\n",
      "1       :    59.95 mm   93.1%   306.18 mm\t        head_top (# 0):  111.70 mm   394.62 mm \n",
      "2       :    78.07 mm   87.4%   398.37 mm\t            neck (# 1):   63.76 mm   228.01 mm \n",
      "3       :    77.00 mm   88.3%   379.04 mm\t  right_shoulder (# 2):   65.77 mm   225.67 mm \n",
      "4       :    90.03 mm   83.5%   428.68 mm\t     right_elbow (# 3):  104.92 mm   419.01 mm \n",
      "5       :    78.43 mm   87.3%   363.11 mm\t     right_wrist (# 4):  156.26 mm   755.84 mm \n",
      "6       :    88.21 mm   84.6%   558.44 mm\t   left_shoulder (# 5):   63.45 mm   206.21 mm \n",
      "                                                      left_elbow (# 6):   93.32 mm   345.84 mm \n",
      "                                                      left_wrist (# 7):  136.23 mm   542.48 mm \n",
      "                                                       right_hip (# 8):   23.99 mm    85.62 mm \n",
      "                                                      right_knee (# 9):   75.75 mm   346.08 mm \n",
      "                                                     right_ankle (#10):  112.59 mm   608.47 mm \n",
      "                                                        left_hip (#11):   23.99 mm    85.63 mm \n",
      "                                                       left_knee (#12):   75.84 mm   355.70 mm \n",
      "                                                      left_ankle (#13):  109.48 mm   513.25 mm \n",
      "                                                             hip (#14):    0.00 mm     0.00 mm \n",
      "                                                           spine (#15):   29.67 mm   100.33 mm \n",
      "                                                       head/nose (#16):   76.19 mm   283.10 mm \n",
      "\n",
      "Mean sequence error (Absolute MPJPE) is  78.61 mm\n",
      "---------------------------------------------------------------- \n",
      "MRPE: 0.0\n"
     ]
    }
   ],
   "source": [
    "dgt = {}\n",
    "dpred = {}\n",
    "for i in np.unique(vid_id):\n",
    "    m = vid_id == i\n",
    "    mgt = gt[m,]\n",
    "    mpred = pred[m,]\n",
    "    gt_r = get_lengths(mgt)\n",
    "    r, t, p = get_rtp(mpred)\n",
    "    mpred = get_xyz(gt_r, t, p, mgt[:, 14, :])\n",
    "    dgt[f\"{i}\"] = mgt\n",
    "    dpred[f\"{i}\"] = mpred\n",
    "_ = eval_results(dgt, dpred, MuPoTSJoints())"
   ]
  },
  {
   "cell_type": "code",
   "execution_count": 114,
   "metadata": {
    "ExecuteTime": {
     "end_time": "2020-12-30T00:11:59.240354Z",
     "start_time": "2020-12-30T00:11:59.220301Z"
    }
   },
   "outputs": [
    {
     "name": "stdout",
     "output_type": "stream",
     "text": [
      "----- Per sequence and joint errors in millimeter on the validation set ----- \n",
      "Sequence          Avg        PCK      99%   \t                            Avg        99%\n",
      "1       :   117.42 mm   69.2%   438.30 mm\t        head_top (# 0):  175.71 mm   479.52 mm \n",
      "2       :   127.27 mm   66.6%   496.24 mm\t            neck (# 1):  107.90 mm   298.70 mm \n",
      "3       :    99.54 mm   78.9%   436.75 mm\t  right_shoulder (# 2):  108.77 mm   301.74 mm \n",
      "4       :   128.70 mm   66.4%   480.53 mm\t     right_elbow (# 3):  139.29 mm   481.14 mm \n",
      "5       :    88.78 mm   85.3%   434.77 mm\t     right_wrist (# 4):  182.94 mm   664.34 mm \n",
      "6       :   123.77 mm   74.1%   542.68 mm\t   left_shoulder (# 5):  112.06 mm   283.98 mm \n",
      "                                                      left_elbow (# 6):  141.41 mm   431.07 mm \n",
      "                                                      left_wrist (# 7):  173.86 mm   574.78 mm \n",
      "                                                       right_hip (# 8):   31.65 mm    95.83 mm \n",
      "                                                      right_knee (# 9):  118.33 mm   427.37 mm \n",
      "                                                     right_ankle (#10):  174.43 mm   663.84 mm \n",
      "                                                        left_hip (#11):   31.67 mm    95.82 mm \n",
      "                                                       left_knee (#12):  123.40 mm   440.78 mm \n",
      "                                                      left_ankle (#13):  174.48 mm   571.28 mm \n",
      "                                                             hip (#14):    0.00 mm     0.00 mm \n",
      "                                                           spine (#15):   59.54 mm   150.69 mm \n",
      "                                                       head/nose (#16):  122.92 mm   332.35 mm \n",
      "\n",
      "Mean sequence error (Absolute MPJPE) is 114.25 mm\n",
      "---------------------------------------------------------------- \n",
      "MRPE: 0.0\n"
     ]
    }
   ],
   "source": [
    "dgt = {}\n",
    "dpred = {}\n",
    "for i in np.unique(vid_id):\n",
    "    m = vid_id == i\n",
    "    mgt = gt[m,]\n",
    "    mpred = pred[m,]\n",
    "    gt_r = get_lengths(mgt)\n",
    "    diff = get_bone(mpred)\n",
    "    dx = diff[:, :, 0]\n",
    "    dy = diff[:, :, 1]\n",
    "    dz = diff[:, :, 2]\n",
    "    adj_dz = np.sign(diff[:, :, 2]) * np.sqrt(np.maximum((gt_r**2) - (dx**2) - (dy**2), 0))\n",
    "    mpred = bone2joint(dx, dy, adj_dz, mgt[:, 14, :])\n",
    "    dgt[f\"{i}\"] = mgt\n",
    "    dpred[f\"{i}\"] = mpred\n",
    "_ = eval_results(dgt, dpred, MuPoTSJoints())"
   ]
  },
  {
   "cell_type": "code",
   "execution_count": 29,
   "metadata": {},
   "outputs": [
    {
     "data": {
      "image/png": "[encoded data removed]",
      "text/plain": [
       "<Figure size 432x288 with 1 Axes>"
      ]
     },
     "metadata": {},
     "output_type": "display_data"
    },
    {
     "name": "stdout",
     "output_type": "stream",
     "text": [
      "100.83838222338177\n"
     ]
    },
    {
     "data": {
      "image/png": "[encoded data removed]",
      "text/plain": [
       "<Figure size 432x288 with 1 Axes>"
      ]
     },
     "metadata": {},
     "output_type": "display_data"
    },
    {
     "name": "stdout",
     "output_type": "stream",
     "text": [
      "139.00281313623358\n"
     ]
    },
    {
     "data": {
      "image/png": "[encoded data removed]",
      "text/plain": [
       "<Figure size 432x288 with 1 Axes>"
      ]
     },
     "metadata": {},
     "output_type": "display_data"
    },
    {
     "name": "stdout",
     "output_type": "stream",
     "text": [
      "59.58356936379004\n"
     ]
    }
   ],
   "source": [
    "for i in range(3):\n",
    "    i *= 10\n",
    "    show3Dpose(np.array([mgt[i, ], mpred[i, ]]), MuPoTSJoints(), invert_vertical=True)\n",
    "    plt.show()\n",
    "    print(eval_results({'0': mgt[i:i+1, ]}, {'0': mpred[i:i+1]}, MuPoTSJoints(), verbose=False)[0]['0'])"
   ]
  },
  {
   "cell_type": "code",
   "execution_count": null,
   "metadata": {},
   "outputs": [],
   "source": []
  }
 ],
 "metadata": {
  "kernelspec": {
   "display_name": "Python 3",
   "language": "python",
   "name": "python3"
  },
  "language_info": {
   "codemirror_mode": {
    "name": "ipython",
    "version": 3
   },
   "file_extension": ".py",
   "mimetype": "text/x-python",
   "name": "python",
   "nbconvert_exporter": "python",
   "pygments_lexer": "ipython3",
   "version": "3.7.6"
  },
  "toc": {
   "base_numbering": 1,
   "nav_menu": {},
   "number_sections": false,
   "sideBar": true,
   "skip_h1_title": false,
   "title_cell": "Table of Contents",
   "title_sidebar": "Contents",
   "toc_cell": false,
   "toc_position": {},
   "toc_section_display": true,
   "toc_window_display": false
  }
 },
 "nbformat": 4,
 "nbformat_minor": 4
}
