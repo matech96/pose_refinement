{
 "cells": [
  {
   "cell_type": "code",
   "execution_count": 1,
   "metadata": {
    "ExecuteTime": {
     "end_time": "2020-12-31T09:56:03.528501Z",
     "start_time": "2020-12-31T09:56:03.526201Z"
    }
   },
   "outputs": [],
   "source": [
    "import os\n",
    "os.chdir('../../..')"
   ]
  },
  {
   "cell_type": "code",
   "execution_count": 2,
   "metadata": {
    "ExecuteTime": {
     "end_time": "2020-12-31T09:56:04.137749Z",
     "start_time": "2020-12-31T09:56:03.530247Z"
    }
   },
   "outputs": [],
   "source": [
    "import numpy as np\n",
    "import matplotlib.pyplot as plt\n",
    "from ai import cs\n",
    "import torch\n",
    "\n",
    "from databases.joint_sets import MuPoTSJoints\n",
    "from databases.datasets import PersonStackedMuPoTsDataset, Mpi3dTestDataset\n",
    "from util.misc import load\n",
    "from util.viz import *\n",
    "from util.pose import remove_root\n",
    "from training.torch_tools import *\n",
    "from training.preprocess import get_postprocessor, SaveableCompose, MeanNormalize3D\n",
    "from training.loaders import UnchunkedGenerator\n",
    "from scripts.eval import load_model"
   ]
  },
  {
   "cell_type": "code",
   "execution_count": 3,
   "metadata": {
    "ExecuteTime": {
     "end_time": "2020-12-31T10:01:35.955041Z",
     "start_time": "2020-12-31T10:01:35.944332Z"
    }
   },
   "outputs": [],
   "source": [
    "def joint2bone(nd):\n",
    "    cj = get_cjs()\n",
    "    return nd[:, cj[:, 0], :] - nd[:, cj[:, 1], :]\n",
    "\n",
    "def bone2joint(pred_bx, pred_by, pred_bz, root):\n",
    "    cj = get_cjs()\n",
    "    cj_index = [2, 1, 0, 5, 4, 3, 9, 8, 12, 11, 10, 15, 14, 13, 7, 6]\n",
    "    ordered_cj = cj[cj_index, :]\n",
    "    pred_bxyz = np.stack((pred_bx, pred_by, pred_bz), axis=-1)\n",
    "    res = np.zeros((root.shape[0], 17, 3))\n",
    "    res[:, 14, :] = root\n",
    "    for (a, b), i in zip(ordered_cj, cj_index):\n",
    "        res[:, a, :] = res[:, b, :] + pred_bxyz[:, i, :]\n",
    "    return res\n",
    "\n",
    "def get_cjs():\n",
    "    connected_joints = MuPoTSJoints().LIMBGRAPH\n",
    "    return np.array(connected_joints)\n",
    "\n",
    "def get_rtp(nd):\n",
    "    diff = joint2bone(nd)\n",
    "    r, t, p = cs.cart2sp(diff[:, :, 0], diff[:, :, 1], diff[:, :, 2])\n",
    "    return r, t, p\n",
    "\n",
    "def get_lengths(nd):\n",
    "    r, _, _ = get_rtp(nd)\n",
    "    return r\n",
    "\n",
    "def get_xyz(r, t, p, root):    \n",
    "    pred_bx, pred_by, pred_bz = cs.sp2cart(r, t, p)\n",
    "    return bone2joint(pred_bx, pred_by, pred_bz, root)"
   ]
  },
  {
   "cell_type": "code",
   "execution_count": 4,
   "metadata": {
    "ExecuteTime": {
     "end_time": "2020-12-31T09:56:04.822573Z",
     "start_time": "2020-12-31T09:56:04.138705Z"
    }
   },
   "outputs": [
    {
     "ename": "RuntimeError",
     "evalue": "Attempting to deserialize object on a CUDA device but torch.cuda.is_available() is False. If you are running on a CPU-only machine, please use torch.load with map_location=torch.device('cpu') to map your storages to the CPU.",
     "output_type": "error",
     "traceback": [
      "\u001b[0;31m---------------------------------------------------------------------------\u001b[0m",
      "\u001b[0;31mRuntimeError\u001b[0m                              Traceback (most recent call last)",
      "\u001b[0;32m<ipython-input-4-fe96736d61e0>\u001b[0m in \u001b[0;36m<module>\u001b[0;34m\u001b[0m\n\u001b[1;32m      1\u001b[0m \u001b[0mmodel_dir\u001b[0m \u001b[0;34m=\u001b[0m \u001b[0;34m'../models/4b1006aa968a47139217c9e7ac31e52f/'\u001b[0m\u001b[0;34m\u001b[0m\u001b[0;34m\u001b[0m\u001b[0m\n\u001b[0;32m----> 2\u001b[0;31m \u001b[0mconfig\u001b[0m\u001b[0;34m,\u001b[0m \u001b[0mmodel\u001b[0m \u001b[0;34m=\u001b[0m \u001b[0mload_model\u001b[0m\u001b[0;34m(\u001b[0m\u001b[0mmodel_dir\u001b[0m\u001b[0;34m)\u001b[0m\u001b[0;34m\u001b[0m\u001b[0;34m\u001b[0m\u001b[0m\n\u001b[0m",
      "\u001b[0;32m/workspace/src/scripts/eval.py\u001b[0m in \u001b[0;36mload_model\u001b[0;34m(model_folder)\u001b[0m\n\u001b[1;32m     91\u001b[0m \u001b[0;34m\u001b[0m\u001b[0m\n\u001b[1;32m     92\u001b[0m     \u001b[0;31m# Input/output size calculation is hacky\u001b[0m\u001b[0;34m\u001b[0m\u001b[0;34m\u001b[0m\u001b[0;34m\u001b[0m\u001b[0m\n\u001b[0;32m---> 93\u001b[0;31m     \u001b[0mweights\u001b[0m \u001b[0;34m=\u001b[0m \u001b[0mtorch\u001b[0m\u001b[0;34m.\u001b[0m\u001b[0mload\u001b[0m\u001b[0;34m(\u001b[0m\u001b[0mpath\u001b[0m\u001b[0;34m)\u001b[0m\u001b[0;34m\u001b[0m\u001b[0;34m\u001b[0m\u001b[0m\n\u001b[0m\u001b[1;32m     94\u001b[0m     \u001b[0mnum_in_features\u001b[0m \u001b[0;34m=\u001b[0m \u001b[0mweights\u001b[0m\u001b[0;34m[\u001b[0m\u001b[0;34m\"expand_conv.weight\"\u001b[0m\u001b[0;34m]\u001b[0m\u001b[0;34m.\u001b[0m\u001b[0mshape\u001b[0m\u001b[0;34m[\u001b[0m\u001b[0;36m1\u001b[0m\u001b[0;34m]\u001b[0m\u001b[0;34m\u001b[0m\u001b[0;34m\u001b[0m\u001b[0m\n\u001b[1;32m     95\u001b[0m \u001b[0;34m\u001b[0m\u001b[0m\n",
      "\u001b[0;32m/opt/conda/lib/python3.7/site-packages/torch/serialization.py\u001b[0m in \u001b[0;36mload\u001b[0;34m(f, map_location, pickle_module, **pickle_load_args)\u001b[0m\n\u001b[1;32m    527\u001b[0m             \u001b[0;32mwith\u001b[0m \u001b[0m_open_zipfile_reader\u001b[0m\u001b[0;34m(\u001b[0m\u001b[0mf\u001b[0m\u001b[0;34m)\u001b[0m \u001b[0;32mas\u001b[0m \u001b[0mopened_zipfile\u001b[0m\u001b[0;34m:\u001b[0m\u001b[0;34m\u001b[0m\u001b[0;34m\u001b[0m\u001b[0m\n\u001b[1;32m    528\u001b[0m                 \u001b[0;32mreturn\u001b[0m \u001b[0m_load\u001b[0m\u001b[0;34m(\u001b[0m\u001b[0mopened_zipfile\u001b[0m\u001b[0;34m,\u001b[0m \u001b[0mmap_location\u001b[0m\u001b[0;34m,\u001b[0m \u001b[0mpickle_module\u001b[0m\u001b[0;34m,\u001b[0m \u001b[0;34m**\u001b[0m\u001b[0mpickle_load_args\u001b[0m\u001b[0;34m)\u001b[0m\u001b[0;34m\u001b[0m\u001b[0;34m\u001b[0m\u001b[0m\n\u001b[0;32m--> 529\u001b[0;31m         \u001b[0;32mreturn\u001b[0m \u001b[0m_legacy_load\u001b[0m\u001b[0;34m(\u001b[0m\u001b[0mopened_file\u001b[0m\u001b[0;34m,\u001b[0m \u001b[0mmap_location\u001b[0m\u001b[0;34m,\u001b[0m \u001b[0mpickle_module\u001b[0m\u001b[0;34m,\u001b[0m \u001b[0;34m**\u001b[0m\u001b[0mpickle_load_args\u001b[0m\u001b[0;34m)\u001b[0m\u001b[0;34m\u001b[0m\u001b[0;34m\u001b[0m\u001b[0m\n\u001b[0m\u001b[1;32m    530\u001b[0m \u001b[0;34m\u001b[0m\u001b[0m\n\u001b[1;32m    531\u001b[0m \u001b[0;34m\u001b[0m\u001b[0m\n",
      "\u001b[0;32m/opt/conda/lib/python3.7/site-packages/torch/serialization.py\u001b[0m in \u001b[0;36m_legacy_load\u001b[0;34m(f, map_location, pickle_module, **pickle_load_args)\u001b[0m\n\u001b[1;32m    700\u001b[0m     \u001b[0munpickler\u001b[0m \u001b[0;34m=\u001b[0m \u001b[0mpickle_module\u001b[0m\u001b[0;34m.\u001b[0m\u001b[0mUnpickler\u001b[0m\u001b[0;34m(\u001b[0m\u001b[0mf\u001b[0m\u001b[0;34m,\u001b[0m \u001b[0;34m**\u001b[0m\u001b[0mpickle_load_args\u001b[0m\u001b[0;34m)\u001b[0m\u001b[0;34m\u001b[0m\u001b[0;34m\u001b[0m\u001b[0m\n\u001b[1;32m    701\u001b[0m     \u001b[0munpickler\u001b[0m\u001b[0;34m.\u001b[0m\u001b[0mpersistent_load\u001b[0m \u001b[0;34m=\u001b[0m \u001b[0mpersistent_load\u001b[0m\u001b[0;34m\u001b[0m\u001b[0;34m\u001b[0m\u001b[0m\n\u001b[0;32m--> 702\u001b[0;31m     \u001b[0mresult\u001b[0m \u001b[0;34m=\u001b[0m \u001b[0munpickler\u001b[0m\u001b[0;34m.\u001b[0m\u001b[0mload\u001b[0m\u001b[0;34m(\u001b[0m\u001b[0;34m)\u001b[0m\u001b[0;34m\u001b[0m\u001b[0;34m\u001b[0m\u001b[0m\n\u001b[0m\u001b[1;32m    703\u001b[0m \u001b[0;34m\u001b[0m\u001b[0m\n\u001b[1;32m    704\u001b[0m     \u001b[0mdeserialized_storage_keys\u001b[0m \u001b[0;34m=\u001b[0m \u001b[0mpickle_module\u001b[0m\u001b[0;34m.\u001b[0m\u001b[0mload\u001b[0m\u001b[0;34m(\u001b[0m\u001b[0mf\u001b[0m\u001b[0;34m,\u001b[0m \u001b[0;34m**\u001b[0m\u001b[0mpickle_load_args\u001b[0m\u001b[0;34m)\u001b[0m\u001b[0;34m\u001b[0m\u001b[0;34m\u001b[0m\u001b[0m\n",
      "\u001b[0;32m/opt/conda/lib/python3.7/site-packages/torch/serialization.py\u001b[0m in \u001b[0;36mpersistent_load\u001b[0;34m(saved_id)\u001b[0m\n\u001b[1;32m    663\u001b[0m                 \u001b[0mobj\u001b[0m \u001b[0;34m=\u001b[0m \u001b[0mdata_type\u001b[0m\u001b[0;34m(\u001b[0m\u001b[0msize\u001b[0m\u001b[0;34m)\u001b[0m\u001b[0;34m\u001b[0m\u001b[0;34m\u001b[0m\u001b[0m\n\u001b[1;32m    664\u001b[0m                 \u001b[0mobj\u001b[0m\u001b[0;34m.\u001b[0m\u001b[0m_torch_load_uninitialized\u001b[0m \u001b[0;34m=\u001b[0m \u001b[0;32mTrue\u001b[0m\u001b[0;34m\u001b[0m\u001b[0;34m\u001b[0m\u001b[0m\n\u001b[0;32m--> 665\u001b[0;31m                 \u001b[0mdeserialized_objects\u001b[0m\u001b[0;34m[\u001b[0m\u001b[0mroot_key\u001b[0m\u001b[0;34m]\u001b[0m \u001b[0;34m=\u001b[0m \u001b[0mrestore_location\u001b[0m\u001b[0;34m(\u001b[0m\u001b[0mobj\u001b[0m\u001b[0;34m,\u001b[0m \u001b[0mlocation\u001b[0m\u001b[0;34m)\u001b[0m\u001b[0;34m\u001b[0m\u001b[0;34m\u001b[0m\u001b[0m\n\u001b[0m\u001b[1;32m    666\u001b[0m             \u001b[0mstorage\u001b[0m \u001b[0;34m=\u001b[0m \u001b[0mdeserialized_objects\u001b[0m\u001b[0;34m[\u001b[0m\u001b[0mroot_key\u001b[0m\u001b[0;34m]\u001b[0m\u001b[0;34m\u001b[0m\u001b[0;34m\u001b[0m\u001b[0m\n\u001b[1;32m    667\u001b[0m             \u001b[0;32mif\u001b[0m \u001b[0mview_metadata\u001b[0m \u001b[0;32mis\u001b[0m \u001b[0;32mnot\u001b[0m \u001b[0;32mNone\u001b[0m\u001b[0;34m:\u001b[0m\u001b[0;34m\u001b[0m\u001b[0;34m\u001b[0m\u001b[0m\n",
      "\u001b[0;32m/opt/conda/lib/python3.7/site-packages/torch/serialization.py\u001b[0m in \u001b[0;36mdefault_restore_location\u001b[0;34m(storage, location)\u001b[0m\n\u001b[1;32m    154\u001b[0m \u001b[0;32mdef\u001b[0m \u001b[0mdefault_restore_location\u001b[0m\u001b[0;34m(\u001b[0m\u001b[0mstorage\u001b[0m\u001b[0;34m,\u001b[0m \u001b[0mlocation\u001b[0m\u001b[0;34m)\u001b[0m\u001b[0;34m:\u001b[0m\u001b[0;34m\u001b[0m\u001b[0;34m\u001b[0m\u001b[0m\n\u001b[1;32m    155\u001b[0m     \u001b[0;32mfor\u001b[0m \u001b[0m_\u001b[0m\u001b[0;34m,\u001b[0m \u001b[0m_\u001b[0m\u001b[0;34m,\u001b[0m \u001b[0mfn\u001b[0m \u001b[0;32min\u001b[0m \u001b[0m_package_registry\u001b[0m\u001b[0;34m:\u001b[0m\u001b[0;34m\u001b[0m\u001b[0;34m\u001b[0m\u001b[0m\n\u001b[0;32m--> 156\u001b[0;31m         \u001b[0mresult\u001b[0m \u001b[0;34m=\u001b[0m \u001b[0mfn\u001b[0m\u001b[0;34m(\u001b[0m\u001b[0mstorage\u001b[0m\u001b[0;34m,\u001b[0m \u001b[0mlocation\u001b[0m\u001b[0;34m)\u001b[0m\u001b[0;34m\u001b[0m\u001b[0;34m\u001b[0m\u001b[0m\n\u001b[0m\u001b[1;32m    157\u001b[0m         \u001b[0;32mif\u001b[0m \u001b[0mresult\u001b[0m \u001b[0;32mis\u001b[0m \u001b[0;32mnot\u001b[0m \u001b[0;32mNone\u001b[0m\u001b[0;34m:\u001b[0m\u001b[0;34m\u001b[0m\u001b[0;34m\u001b[0m\u001b[0m\n\u001b[1;32m    158\u001b[0m             \u001b[0;32mreturn\u001b[0m \u001b[0mresult\u001b[0m\u001b[0;34m\u001b[0m\u001b[0;34m\u001b[0m\u001b[0m\n",
      "\u001b[0;32m/opt/conda/lib/python3.7/site-packages/torch/serialization.py\u001b[0m in \u001b[0;36m_cuda_deserialize\u001b[0;34m(obj, location)\u001b[0m\n\u001b[1;32m    130\u001b[0m \u001b[0;32mdef\u001b[0m \u001b[0m_cuda_deserialize\u001b[0m\u001b[0;34m(\u001b[0m\u001b[0mobj\u001b[0m\u001b[0;34m,\u001b[0m \u001b[0mlocation\u001b[0m\u001b[0;34m)\u001b[0m\u001b[0;34m:\u001b[0m\u001b[0;34m\u001b[0m\u001b[0;34m\u001b[0m\u001b[0m\n\u001b[1;32m    131\u001b[0m     \u001b[0;32mif\u001b[0m \u001b[0mlocation\u001b[0m\u001b[0;34m.\u001b[0m\u001b[0mstartswith\u001b[0m\u001b[0;34m(\u001b[0m\u001b[0;34m'cuda'\u001b[0m\u001b[0;34m)\u001b[0m\u001b[0;34m:\u001b[0m\u001b[0;34m\u001b[0m\u001b[0;34m\u001b[0m\u001b[0m\n\u001b[0;32m--> 132\u001b[0;31m         \u001b[0mdevice\u001b[0m \u001b[0;34m=\u001b[0m \u001b[0mvalidate_cuda_device\u001b[0m\u001b[0;34m(\u001b[0m\u001b[0mlocation\u001b[0m\u001b[0;34m)\u001b[0m\u001b[0;34m\u001b[0m\u001b[0;34m\u001b[0m\u001b[0m\n\u001b[0m\u001b[1;32m    133\u001b[0m         \u001b[0;32mif\u001b[0m \u001b[0mgetattr\u001b[0m\u001b[0;34m(\u001b[0m\u001b[0mobj\u001b[0m\u001b[0;34m,\u001b[0m \u001b[0;34m\"_torch_load_uninitialized\"\u001b[0m\u001b[0;34m,\u001b[0m \u001b[0;32mFalse\u001b[0m\u001b[0;34m)\u001b[0m\u001b[0;34m:\u001b[0m\u001b[0;34m\u001b[0m\u001b[0;34m\u001b[0m\u001b[0m\n\u001b[1;32m    134\u001b[0m             \u001b[0mstorage_type\u001b[0m \u001b[0;34m=\u001b[0m \u001b[0mgetattr\u001b[0m\u001b[0;34m(\u001b[0m\u001b[0mtorch\u001b[0m\u001b[0;34m.\u001b[0m\u001b[0mcuda\u001b[0m\u001b[0;34m,\u001b[0m \u001b[0mtype\u001b[0m\u001b[0;34m(\u001b[0m\u001b[0mobj\u001b[0m\u001b[0;34m)\u001b[0m\u001b[0;34m.\u001b[0m\u001b[0m__name__\u001b[0m\u001b[0;34m)\u001b[0m\u001b[0;34m\u001b[0m\u001b[0;34m\u001b[0m\u001b[0m\n",
      "\u001b[0;32m/opt/conda/lib/python3.7/site-packages/torch/serialization.py\u001b[0m in \u001b[0;36mvalidate_cuda_device\u001b[0;34m(location)\u001b[0m\n\u001b[1;32m    114\u001b[0m \u001b[0;34m\u001b[0m\u001b[0m\n\u001b[1;32m    115\u001b[0m     \u001b[0;32mif\u001b[0m \u001b[0;32mnot\u001b[0m \u001b[0mtorch\u001b[0m\u001b[0;34m.\u001b[0m\u001b[0mcuda\u001b[0m\u001b[0;34m.\u001b[0m\u001b[0mis_available\u001b[0m\u001b[0;34m(\u001b[0m\u001b[0;34m)\u001b[0m\u001b[0;34m:\u001b[0m\u001b[0;34m\u001b[0m\u001b[0;34m\u001b[0m\u001b[0m\n\u001b[0;32m--> 116\u001b[0;31m         raise RuntimeError('Attempting to deserialize object on a CUDA '\n\u001b[0m\u001b[1;32m    117\u001b[0m                            \u001b[0;34m'device but torch.cuda.is_available() is False. '\u001b[0m\u001b[0;34m\u001b[0m\u001b[0;34m\u001b[0m\u001b[0m\n\u001b[1;32m    118\u001b[0m                            \u001b[0;34m'If you are running on a CPU-only machine, '\u001b[0m\u001b[0;34m\u001b[0m\u001b[0;34m\u001b[0m\u001b[0m\n",
      "\u001b[0;31mRuntimeError\u001b[0m: Attempting to deserialize object on a CUDA device but torch.cuda.is_available() is False. If you are running on a CPU-only machine, please use torch.load with map_location=torch.device('cpu') to map your storages to the CPU."
     ]
    }
   ],
   "source": [
    "model_dir = '../models/4b1006aa968a47139217c9e7ac31e52f/'\n",
    "config, model = load_model(model_dir)"
   ]
  },
  {
   "cell_type": "code",
   "execution_count": null,
   "metadata": {
    "ExecuteTime": {
     "end_time": "2020-12-31T10:03:37.777531Z",
     "start_time": "2020-12-31T10:03:37.773193Z"
    }
   },
   "outputs": [],
   "source": [
    "def get_dataset(config):\n",
    "    data = PersonStackedMuPoTsDataset(\n",
    "        config[\"pose2d_type\"],\n",
    "        config.get(\"pose3d_scaling\", \"normal\"),\n",
    "        pose_validity=\"all\",\n",
    "    )\n",
    "#     data = Mpi3dTestDataset(\n",
    "#         config[\"pose2d_type\"],\n",
    "#         config.get(\"pose3d_scaling\", \"normal\"),\n",
    "#         eval_frames_only=True,\n",
    "#     )\n",
    "    return data"
   ]
  },
  {
   "cell_type": "code",
   "execution_count": null,
   "metadata": {
    "ExecuteTime": {
     "end_time": "2020-12-31T10:03:39.287750Z",
     "start_time": "2020-12-31T10:03:38.172168Z"
    }
   },
   "outputs": [],
   "source": [
    "dataset = get_dataset(config)"
   ]
  },
  {
   "cell_type": "code",
   "execution_count": null,
   "metadata": {
    "ExecuteTime": {
     "end_time": "2020-12-31T10:03:39.303041Z",
     "start_time": "2020-12-31T10:03:39.288842Z"
    }
   },
   "outputs": [],
   "source": [
    "params_path = f\"{model_dir}/preprocess_params.pkl\"\n",
    "transform = SaveableCompose.from_file(params_path, dataset, globals())\n",
    "dataset.transform = transform\n",
    "\n",
    "assert isinstance(transform.transforms[1].normalizer, MeanNormalize3D)\n",
    "normalizer3d = transform.transforms[1].normalizer\n",
    "\n",
    "post_process_func = get_postprocessor(config, dataset, normalizer3d)"
   ]
  },
  {
   "cell_type": "code",
   "execution_count": null,
   "metadata": {
    "ExecuteTime": {
     "end_time": "2020-12-31T10:03:39.756247Z",
     "start_time": "2020-12-31T10:03:39.644340Z"
    }
   },
   "outputs": [],
   "source": [
    "augment = True\n",
    "pad = (model.receptive_field() - 1) // 2\n",
    "generator = UnchunkedGenerator(dataset, pad, augment)\n",
    "seqs = sorted(np.unique(dataset.index.seq))\n",
    "\n",
    "data_3d_mm = {}\n",
    "preprocessed3d = {}\n",
    "for seq in seqs:\n",
    "    inds = np.where(dataset.index.seq == seq)[0]\n",
    "    batch = dataset.get_samples(inds, False)\n",
    "    preprocessed3d[seq] = batch[\"pose3d\"][batch[\"valid_pose\"]]\n",
    "    data_3d_mm[seq] = dataset.poses3d[inds][batch[\"valid_pose\"]]\n",
    "#     break\n",
    "\n",
    "bl = {}\n",
    "root = {}\n",
    "org_pose3d = {}\n",
    "for seq in seqs:\n",
    "    inds = np.where(dataset.index.seq == seq)[0]\n",
    "    batch = dataset.get_samples(inds, False)\n",
    "    bl[seq] = batch[\"length\"][batch[\"valid_pose\"]]\n",
    "    root[seq] = batch[\"root\"][batch[\"valid_pose\"]]\n",
    "    org_pose3d[seq] = batch[\"org_pose3d\"][batch[\"valid_pose\"]]\n",
    "#     break"
   ]
  },
  {
   "cell_type": "code",
   "execution_count": null,
   "metadata": {
    "ExecuteTime": {
     "end_time": "2020-12-31T10:03:40.306966Z",
     "start_time": "2020-12-31T10:03:40.248793Z"
    }
   },
   "outputs": [],
   "source": [
    "_dgt = {}\n",
    "seqs = sorted(np.unique(dataset.index.seq))\n",
    "for seq in seqs:\n",
    "    inds = np.where(dataset.index.seq == seq)[0]\n",
    "    batch = dataset.get_samples(inds, False)\n",
    "    mgt =  dataset.poses3d[inds][batch[\"valid_pose\"]]\n",
    "    _dgt[seq] = mgt"
   ]
  },
  {
   "cell_type": "code",
   "execution_count": null,
   "metadata": {
    "ExecuteTime": {
     "end_time": "2020-12-31T10:03:41.193399Z",
     "start_time": "2020-12-31T10:03:40.892573Z"
    }
   },
   "outputs": [],
   "source": [
    "_dpred = {}\n",
    "raw_preds = {}\n",
    "losses = {}\n",
    "with torch.no_grad():\n",
    "    for i, (pose2d, valid) in enumerate(generator):\n",
    "        seq = seqs[i]\n",
    "        pred3d = (\n",
    "            model(torch.from_numpy(pose2d).cuda()).detach().cpu().numpy()\n",
    "        )\n",
    "        raw_preds[seq] = pred3d.copy()  # .cpu().numpy()\n",
    "\n",
    "        valid = valid[0]\n",
    "#         pred_bo_np = pred3d[0][valid].reshape([-1, 2, 16])\n",
    "#         if orient_norm is None:\n",
    "#             pass\n",
    "#         elif orient_norm == \"_1_1\":\n",
    "#             pred_bo_np *= np.pi\n",
    "#         elif orient_norm == \"0_1\":\n",
    "#             pred_bo_np = (pred_bo_np * 2 * np.pi) - np.pi\n",
    "#         else:\n",
    "#             raise Exception(\n",
    "#                 f\"Not supported oreitation norm: {self.orient_norm}\"\n",
    "#             )\n",
    "#         pred_bo = torch.from_numpy(pred_bo_np).to(\"cuda\")\n",
    "#         orient_pred3d = (\n",
    "#             orient2pose(\n",
    "#                 pred_bo,\n",
    "#                 # torch.from_numpy(self.bo[seq]).to(\"cuda\"),\n",
    "#                 torch.from_numpy(bl[seq]).to(\"cuda\"),\n",
    "#                 torch.from_numpy(root[seq]).to(\"cuda\"),\n",
    "#             )\n",
    "#             .cpu()\n",
    "#             .numpy()\n",
    "#         )\n",
    "#         preds[seq] = orient_pred3d\n",
    "\n",
    "        pred_real_pose = post_process_func(pred3d[0], seq)\n",
    "    \n",
    "        if augment:\n",
    "            pred_real_pose_aug = post_process_func(pred3d[1], seq)\n",
    "            pred_real_pose_aug[:, :, 0] *= -1\n",
    "            pred_real_pose_aug = dataset.pose3d_jointset.flip(\n",
    "                pred_real_pose_aug\n",
    "            )\n",
    "            pred_real_pose = (pred_real_pose + pred_real_pose_aug) / 2\n",
    "            \n",
    "        mpred = pred_real_pose[valid]\n",
    "        _dpred[seq] = mpred"
   ]
  },
  {
   "cell_type": "code",
   "execution_count": null,
   "metadata": {
    "ExecuteTime": {
     "end_time": "2020-12-31T10:03:41.849696Z",
     "start_time": "2020-12-31T10:03:41.819610Z"
    }
   },
   "outputs": [],
   "source": [
    "_ = eval_results(_dgt, _dpred, MuPoTSJoints())"
   ]
  },
  {
   "cell_type": "code",
   "execution_count": null,
   "metadata": {
    "ExecuteTime": {
     "end_time": "2020-12-31T10:03:49.098480Z",
     "start_time": "2020-12-31T10:03:49.027827Z"
    }
   },
   "outputs": [],
   "source": [
    "dgt = {}\n",
    "dpred = {}\n",
    "for seq in seqs:\n",
    "    mgt = _dgt[seq]\n",
    "    mpred = _dpred[seq]\n",
    "    gt_r = get_lengths(mgt)\n",
    "    r, t, p = get_rtp(mpred)\n",
    "    mpred = get_xyz(gt_r, t, p, mgt[:, 14, :])\n",
    "    dgt[seq] = mgt\n",
    "    dpred[seq] = mpred\n",
    "_ = eval_results(dgt, dpred, MuPoTSJoints())"
   ]
  },
  {
   "cell_type": "code",
   "execution_count": null,
   "metadata": {
    "ExecuteTime": {
     "end_time": "2020-12-31T10:03:55.335258Z",
     "start_time": "2020-12-31T10:03:55.269568Z"
    }
   },
   "outputs": [],
   "source": [
    "dgt = {}\n",
    "dpred = {}\n",
    "for seq in seqs:\n",
    "    mgt = _dgt[seq]\n",
    "    mpred = _dpred[seq]\n",
    "    gt_r = get_lengths(mgt)\n",
    "    diff = joint2bone(mpred)\n",
    "    dx = diff[:, :, 0]\n",
    "    dy = diff[:, :, 1]\n",
    "    dz = diff[:, :, 2]\n",
    "    adj_dz = np.sign(diff[:, :, 2]) * np.sqrt(np.maximum((gt_r**2) - (dx**2) - (dy**2), 0))\n",
    "    mpred = bone2joint(dx, dy, adj_dz, mgt[:, 14, :])\n",
    "    dgt[seq] = mgt\n",
    "    dpred[seq] = mpred\n",
    "_ = eval_results(dgt, dpred, MuPoTSJoints())"
   ]
  },
  {
   "cell_type": "code",
   "execution_count": null,
   "metadata": {
    "ExecuteTime": {
     "end_time": "2020-12-31T10:03:59.680902Z",
     "start_time": "2020-12-31T10:03:59.499510Z"
    }
   },
   "outputs": [],
   "source": [
    "for i in range(3):\n",
    "    i *= 10\n",
    "    show3Dpose(np.array([mgt[i, ], mpred[i, ]]), MuPoTSJoints(), invert_vertical=True)\n",
    "    plt.show()\n",
    "    print(eval_results({'0': mgt[i:i+1, ]}, {'0': mpred[i:i+1]}, MuPoTSJoints(), verbose=False)[0]['0'])"
   ]
  },
  {
   "cell_type": "code",
   "execution_count": null,
   "metadata": {},
   "outputs": [],
   "source": []
  }
 ],
 "metadata": {
  "kernelspec": {
   "display_name": "Python 3",
   "language": "python",
   "name": "python3"
  },
  "language_info": {
   "codemirror_mode": {
    "name": "ipython",
    "version": 3
   },
   "file_extension": ".py",
   "mimetype": "text/x-python",
   "name": "python",
   "nbconvert_exporter": "python",
   "pygments_lexer": "ipython3",
   "version": "3.7.6"
  },
  "toc": {
   "base_numbering": 1,
   "nav_menu": {},
   "number_sections": false,
   "sideBar": true,
   "skip_h1_title": false,
   "title_cell": "Table of Contents",
   "title_sidebar": "Contents",
   "toc_cell": false,
   "toc_position": {},
   "toc_section_display": true,
   "toc_window_display": false
  }
 },
 "nbformat": 4,
 "nbformat_minor": 4
}
