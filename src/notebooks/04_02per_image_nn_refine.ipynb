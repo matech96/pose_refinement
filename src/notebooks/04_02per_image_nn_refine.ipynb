{
 "cells": [
  {
   "cell_type": "code",
   "execution_count": 1,
   "metadata": {},
   "outputs": [],
   "source": [
    "import os\n",
    "os.chdir('..')"
   ]
  },
  {
   "cell_type": "code",
   "execution_count": 2,
   "metadata": {},
   "outputs": [],
   "source": [
    "import torch\n",
    "import numpy as np\n",
    "import copy\n",
    "\n",
    "from util.misc import load\n",
    "from model.videopose import TemporalModel\n",
    "from model.pose_refinement import abs_to_hiprel, add_back_hip, gmloss, capped_l2, capped_l2_euc_err, step_zero_velocity_loss\n",
    "from databases.joint_sets import MuPoTSJoints\n",
    "from databases.datasets import PersonStackedMuPoTsDataset\n",
    "from training.preprocess import get_postprocessor, SaveableCompose, MeanNormalize3D\n",
    "from training.callbacks import TemporalMupotsEvaluator\n",
    "from training.loaders import UnchunkedGenerator\n",
    "from training.torch_tools import get_optimizer\n",
    "\n",
    "LOG_PATH = \"../models\""
   ]
  },
  {
   "cell_type": "code",
   "execution_count": 3,
   "metadata": {},
   "outputs": [],
   "source": [
    "model_name = \"29cbfa0fc1774b9cbb06a3573b7fb711\""
   ]
  },
  {
   "cell_type": "code",
   "execution_count": 4,
   "metadata": {},
   "outputs": [],
   "source": [
    "def load_model(model_folder):\n",
    "    config = load(os.path.join(LOG_PATH, model_folder, \"config.json\"))\n",
    "    path = os.path.join(LOG_PATH, model_folder, \"model_params.pkl\")\n",
    "\n",
    "    # Input/output size calculation is hacky\n",
    "    weights = torch.load(path)\n",
    "    num_in_features = weights[\"expand_conv.weight\"].shape[1]\n",
    "\n",
    "    m = TemporalModel(\n",
    "        num_in_features,\n",
    "        MuPoTSJoints.NUM_JOINTS,\n",
    "        config[\"model\"][\"filter_widths\"],\n",
    "        dropout=config[\"model\"][\"dropout\"],\n",
    "        channels=config[\"model\"][\"channels\"],\n",
    "        layernorm=config[\"model\"][\"layernorm\"],\n",
    "    )\n",
    "\n",
    "    m.cuda()\n",
    "    m.load_state_dict(weights)\n",
    "    m.eval()\n",
    "\n",
    "    return config, m"
   ]
  },
  {
   "cell_type": "code",
   "execution_count": 5,
   "metadata": {},
   "outputs": [],
   "source": [
    "def get_dataset(config):\n",
    "    return PersonStackedMuPoTsDataset(\n",
    "        config[\"pose2d_type\"],\n",
    "        config.get(\"pose3d_scaling\", \"normal\"),\n",
    "        pose_validity=\"all\",\n",
    "    )"
   ]
  },
  {
   "cell_type": "code",
   "execution_count": 6,
   "metadata": {},
   "outputs": [],
   "source": [
    "config, model = load_model(model_name)"
   ]
  },
  {
   "cell_type": "code",
   "execution_count": 7,
   "metadata": {},
   "outputs": [],
   "source": [
    "test_set = get_dataset(config)"
   ]
  },
  {
   "cell_type": "code",
   "execution_count": 8,
   "metadata": {},
   "outputs": [],
   "source": [
    "refine_config = load(\"scripts/nn_refine_config.json\")\n",
    "joint_set = MuPoTSJoints()"
   ]
  },
  {
   "cell_type": "code",
   "execution_count": 9,
   "metadata": {},
   "outputs": [],
   "source": [
    "def extract_post(model_name, test_set):\n",
    "    params_path = os.path.join(LOG_PATH, str(model_name), \"preprocess_params.pkl\")\n",
    "    transform = SaveableCompose.from_file(params_path, test_set, globals())\n",
    "    test_set.transform = transform\n",
    "\n",
    "    assert isinstance(transform.transforms[1].normalizer, MeanNormalize3D)\n",
    "    normalizer3d = transform.transforms[1].normalizer\n",
    "\n",
    "    return get_postprocessor(config, test_set, normalizer3d)"
   ]
  },
  {
   "cell_type": "code",
   "execution_count": 10,
   "metadata": {},
   "outputs": [],
   "source": [
    "post_process_func = extract_post(model_name, test_set)"
   ]
  },
  {
   "cell_type": "code",
   "execution_count": 11,
   "metadata": {},
   "outputs": [],
   "source": [
    "pad = (model.receptive_field() - 1) // 2\n",
    "generator = UnchunkedGenerator(test_set, pad, True)\n",
    "seqs = sorted(np.unique(test_set.index.seq))"
   ]
  },
  {
   "cell_type": "code",
   "execution_count": 15,
   "metadata": {},
   "outputs": [
    {
     "data": {
      "text/plain": [
       "['1/0',\n",
       " '1/1',\n",
       " '10/0',\n",
       " '10/1',\n",
       " '11/0',\n",
       " '11/1',\n",
       " '12/0',\n",
       " '12/1',\n",
       " '13/0',\n",
       " '13/1',\n",
       " '13/2',\n",
       " '14/0',\n",
       " '14/1',\n",
       " '14/2',\n",
       " '15/0',\n",
       " '15/1',\n",
       " '15/2',\n",
       " '16/0',\n",
       " '16/1',\n",
       " '16/2',\n",
       " '17/0',\n",
       " '17/1',\n",
       " '17/2',\n",
       " '18/0',\n",
       " '18/1',\n",
       " '18/2',\n",
       " '19/0',\n",
       " '19/1',\n",
       " '19/2',\n",
       " '2/0',\n",
       " '2/1',\n",
       " '20/0',\n",
       " '20/1',\n",
       " '20/2',\n",
       " '3/0',\n",
       " '3/1',\n",
       " '4/0',\n",
       " '4/1',\n",
       " '5/0',\n",
       " '5/1',\n",
       " '6/0',\n",
       " '6/1',\n",
       " '7/0',\n",
       " '7/1',\n",
       " '7/2',\n",
       " '8/0',\n",
       " '8/1',\n",
       " '9/0',\n",
       " '9/1']"
      ]
     },
     "execution_count": 15,
     "metadata": {},
     "output_type": "execute_result"
    }
   ],
   "source": [
    "seqs"
   ]
  },
  {
   "cell_type": "code",
   "execution_count": 12,
   "metadata": {},
   "outputs": [],
   "source": [
    "refine_config['learning_rate'] = 0.0001"
   ]
  },
  {
   "cell_type": "code",
   "execution_count": 14,
   "metadata": {},
   "outputs": [
    {
     "ename": "KeyboardInterrupt",
     "evalue": "",
     "output_type": "error",
     "traceback": [
      "\u001b[0;31m---------------------------------------------------------------------------\u001b[0m",
      "\u001b[0;31mKeyboardInterrupt\u001b[0m                         Traceback (most recent call last)",
      "\u001b[0;32m<ipython-input-14-b7981073ef95>\u001b[0m in \u001b[0;36m<module>\u001b[0;34m\u001b[0m\n\u001b[1;32m     22\u001b[0m         \u001b[0;31m#     losses[seq] = self.loss(pred3d[0][valid], self.preprocessed3d[seq]) # .cpu().numpy()\u001b[0m\u001b[0;34m\u001b[0m\u001b[0;34m\u001b[0m\u001b[0;34m\u001b[0m\u001b[0m\n\u001b[1;32m     23\u001b[0m \u001b[0;34m\u001b[0m\u001b[0m\n\u001b[0;32m---> 24\u001b[0;31m             \u001b[0mpred_real_pose\u001b[0m \u001b[0;34m=\u001b[0m \u001b[0mpost_process_func\u001b[0m\u001b[0;34m(\u001b[0m\u001b[0mpred3d\u001b[0m\u001b[0;34m[\u001b[0m\u001b[0;36m0\u001b[0m\u001b[0;34m]\u001b[0m\u001b[0;34m,\u001b[0m \u001b[0mseq\u001b[0m\u001b[0;34m)\u001b[0m\u001b[0;31m#[f:t]  # unnormalized output\u001b[0m\u001b[0;34m\u001b[0m\u001b[0;34m\u001b[0m\u001b[0m\n\u001b[0m\u001b[1;32m     25\u001b[0m \u001b[0;34m\u001b[0m\u001b[0m\n\u001b[1;32m     26\u001b[0m             \u001b[0mpred_real_pose_aug\u001b[0m \u001b[0;34m=\u001b[0m \u001b[0mpost_process_func\u001b[0m\u001b[0;34m(\u001b[0m\u001b[0mpred3d\u001b[0m\u001b[0;34m[\u001b[0m\u001b[0;36m1\u001b[0m\u001b[0;34m]\u001b[0m\u001b[0;34m,\u001b[0m \u001b[0mseq\u001b[0m\u001b[0;34m)\u001b[0m\u001b[0;31m#[f:t]\u001b[0m\u001b[0;34m\u001b[0m\u001b[0;34m\u001b[0m\u001b[0m\n",
      "\u001b[0;32m/workspace/src/training/preprocess.py\u001b[0m in \u001b[0;36mf\u001b[0;34m(x, seq)\u001b[0m\n\u001b[1;32m    480\u001b[0m         \u001b[0;32mdef\u001b[0m \u001b[0mf\u001b[0m\u001b[0;34m(\u001b[0m\u001b[0mx\u001b[0m\u001b[0;34m,\u001b[0m \u001b[0mseq\u001b[0m\u001b[0;34m)\u001b[0m\u001b[0;34m:\u001b[0m\u001b[0;34m\u001b[0m\u001b[0;34m\u001b[0m\u001b[0m\n\u001b[1;32m    481\u001b[0m             \u001b[0mscale\u001b[0m \u001b[0;34m=\u001b[0m \u001b[0;36m1\u001b[0m \u001b[0;32mif\u001b[0m \u001b[0misinstance\u001b[0m\u001b[0;34m(\u001b[0m\u001b[0mtest_set\u001b[0m\u001b[0;34m.\u001b[0m\u001b[0mpose3d_jointset\u001b[0m\u001b[0;34m,\u001b[0m \u001b[0mMuPoTSJoints\u001b[0m\u001b[0;34m)\u001b[0m \u001b[0;32melse\u001b[0m \u001b[0;36m1000\u001b[0m\u001b[0;34m\u001b[0m\u001b[0;34m\u001b[0m\u001b[0m\n\u001b[0;32m--> 482\u001b[0;31m             \u001b[0;32mreturn\u001b[0m \u001b[0mscale\u001b[0m \u001b[0;34m*\u001b[0m \u001b[0mcombine_pose_and_trans\u001b[0m\u001b[0;34m(\u001b[0m\u001b[0mx\u001b[0m\u001b[0;34m,\u001b[0m \u001b[0mnormalizer3d\u001b[0m\u001b[0;34m.\u001b[0m\u001b[0mstd\u001b[0m\u001b[0;34m,\u001b[0m \u001b[0mnormalizer3d\u001b[0m\u001b[0;34m.\u001b[0m\u001b[0mmean\u001b[0m\u001b[0;34m,\u001b[0m \u001b[0mtest_set\u001b[0m\u001b[0;34m.\u001b[0m\u001b[0mpose3d_jointset\u001b[0m\u001b[0;34m,\u001b[0m \u001b[0;34m\"hip\"\u001b[0m\u001b[0;34m)\u001b[0m\u001b[0;34m\u001b[0m\u001b[0;34m\u001b[0m\u001b[0m\n\u001b[0m\u001b[1;32m    483\u001b[0m \u001b[0;34m\u001b[0m\u001b[0m\n\u001b[1;32m    484\u001b[0m         \u001b[0;32mreturn\u001b[0m \u001b[0mf\u001b[0m\u001b[0;34m\u001b[0m\u001b[0;34m\u001b[0m\u001b[0m\n",
      "\u001b[0;31mKeyboardInterrupt\u001b[0m: "
     ]
    }
   ],
   "source": [
    "# losses = {}\n",
    "optimized_preds_list = []\n",
    "for i, (pose2d, valid) in enumerate(generator):\n",
    "    for j in range(valid.shape[-1]):\n",
    "        if (j+1) > (valid.shape[-1] - refine_config['smoothness_loss_hip_largestep']):\n",
    "            reverse = True\n",
    "            f = j - refine_config['smoothness_loss_hip_largestep']\n",
    "            t = j + 1\n",
    "        else:\n",
    "            reverse = False\n",
    "            f = j\n",
    "            t = f + refine_config['smoothness_loss_hip_largestep'] + 1\n",
    "#         print(f, t)\n",
    "        model_ = copy.deepcopy(model)\n",
    "        optimizer = get_optimizer(model_.parameters(), refine_config)\n",
    "        for k in range(1):  # refine_config['num_iter']):\n",
    "            optimizer.zero_grad()\n",
    "\n",
    "            seq = seqs[i]\n",
    "            pred3d = model_(torch.from_numpy(pose2d[:,f:t+2*pad,:]).cuda())  # [2, 401, 42] -> [2, 21+2*13, 42], pred3d: [21, 16, 3]\n",
    "            valid_ = valid[0][f:t]\n",
    "        #     losses[seq] = self.loss(pred3d[0][valid], self.preprocessed3d[seq]) # .cpu().numpy()\n",
    "\n",
    "            pred_real_pose = post_process_func(pred3d[0], seq)#[f:t]  # unnormalized output\n",
    "\n",
    "            pred_real_pose_aug = post_process_func(pred3d[1], seq)#[f:t]\n",
    "            pred_real_pose_aug[:, :, 0] *= -1\n",
    "            pred_real_pose_aug = test_set.pose3d_jointset.flip(pred_real_pose_aug)\n",
    "            pred_real_pose = (pred_real_pose + pred_real_pose_aug) / 2\n",
    "\n",
    "\n",
    "            pred = pred_real_pose[valid_]\n",
    "\n",
    "            inds = test_set.index.seq == seq\n",
    "\n",
    "                # for seq in seqs:\n",
    "            poses_pred = abs_to_hiprel(pred, joint_set) / 1000 # (201, 17, 3)\n",
    "            if k == 0:\n",
    "                poses_init = poses_pred.detach().clone()\n",
    "                poses_init.requires_grad = False\n",
    "                kp_score = np.mean(test_set.poses2d[inds, :, 2], axis=-1)[f:t] # (201,)\n",
    "                #     if refine_config['smooth_visibility']:\n",
    "                #         kp_score = ndimage.median_filter(kp_score, 9)\n",
    "                kp_score = torch.from_numpy(kp_score).cuda() # [201]\n",
    "                scale = torch.ones((len(kp_score), 1, 1)) # torch.Size([201, 1, 1])\n",
    "\n",
    "                kp_score.requires_grad = False\n",
    "                scale.requires_grad = False\n",
    "\n",
    "\n",
    "            # smoothing formulation\n",
    "            if refine_config['pose_loss'] == 'gm':\n",
    "                pose_loss = torch.sum((kp_score.view(-1, 1, 1) * gmloss(poses_pred - poses_init, refine_config['gm_alpha']))[0, ])\n",
    "            elif refine_config['pose_loss'] == 'capped_l2':\n",
    "                pose_loss = torch.sum((kp_score.view(-1, 1, 1) * capped_l2(poses_pred - poses_init, torch.tensor(refine_config['l2_cap']).float().cuda()))[0, ])\n",
    "            elif refine_config['pose_loss'] == 'capped_l2_euc_err':\n",
    "                pose_loss = torch.sum((kp_score.view(-1, 1) * capped_l2_euc_err(poses_pred, poses_init,\n",
    "                                                                               torch.tensor(refine_config['l2_cap']).float().cuda()))[0, ])\n",
    "            else:\n",
    "                raise NotImplementedError('Unknown pose_loss' + refine_config['pose_loss'])\n",
    "\n",
    "            neighbour_dist_idx = 0 if not reverse else -1\n",
    "            velocity_loss_hip = globals()[refine_config['smoothness_loss_hip']](poses_pred[:, [0], :], 1)[[neighbour_dist_idx]]\n",
    "\n",
    "            step = refine_config['smoothness_loss_hip_largestep']\n",
    "            vel_loss = globals()[refine_config['smoothness_loss_hip']](poses_pred[:, [0], :], step)\n",
    "            velocity_loss_hip_large = (1 - kp_score[-len(vel_loss):]) * vel_loss\n",
    "\n",
    "            velocity_loss_rel = globals()[refine_config['smoothness_loss_rel']](poses_pred[:, 1:, :], 1)[[neighbour_dist_idx]]\n",
    "            vel_loss = globals()[refine_config['smoothness_loss_rel']](poses_pred[:, 1:, :], step)\n",
    "            velocity_loss_rel_large = (1 - kp_score[-len(vel_loss):]) * vel_loss\n",
    "\n",
    "            total_loss = pose_loss + refine_config['smoothness_weight_hip'] * velocity_loss_hip \\\n",
    "                         + refine_config['smoothness_weight_hip_large'] * velocity_loss_hip_large \\\n",
    "                         + refine_config['smoothness_weight_rel'] * velocity_loss_rel \\\n",
    "                         + refine_config['smoothness_weight_rel_large'] * velocity_loss_rel_large\n",
    "#             total_loss.backward()\n",
    "#             print(total_loss.cpu().detach().numpy())\n",
    "\n",
    "#             optimizer.step()\n",
    "        optimized_preds_list.append(poses_pred[[neighbour_dist_idx]].detach().cpu().numpy())\n",
    "#             break\n",
    "#         break\n",
    "#     break"
   ]
  },
  {
   "cell_type": "code",
   "execution_count": null,
   "metadata": {},
   "outputs": [],
   "source": [
    "{'total_loss': total_loss.detach().cpu(),\n",
    "'pose_loss': pose_loss.detach().cpu(),\n",
    "'velocity_loss_hip': velocity_loss_hip.detach().cpu(),\n",
    "'velocity_loss_hip_large': velocity_loss_hip_large.detach().cpu(),\n",
    "'velocity_loss_rel': velocity_loss_rel.detach().cpu(),\n",
    "'velocity_loss_rel_large': velocity_loss_rel_large.detach().cpu()}"
   ]
  },
  {
   "cell_type": "code",
   "execution_count": null,
   "metadata": {},
   "outputs": [],
   "source": [
    "poses_pred"
   ]
  },
  {
   "cell_type": "code",
   "execution_count": null,
   "metadata": {},
   "outputs": [],
   "source": [
    "# optimized_preds_list = [o.detach().cpu().numpy() for o in optimized_preds_list]"
   ]
  },
  {
   "cell_type": "code",
   "execution_count": null,
   "metadata": {},
   "outputs": [],
   "source": [
    "optimized_preds = np.concatenate(optimized_preds_list)"
   ]
  },
  {
   "cell_type": "code",
   "execution_count": null,
   "metadata": {},
   "outputs": [],
   "source": [
    "pred = optimized_preds"
   ]
  },
  {
   "cell_type": "code",
   "execution_count": null,
   "metadata": {},
   "outputs": [],
   "source": [
    "pred_gt = np.load('pre_optimize_poses.npy')"
   ]
  },
  {
   "cell_type": "code",
   "execution_count": null,
   "metadata": {},
   "outputs": [],
   "source": [
    "pred"
   ]
  },
  {
   "cell_type": "code",
   "execution_count": null,
   "metadata": {},
   "outputs": [],
   "source": []
  },
  {
   "cell_type": "code",
   "execution_count": null,
   "metadata": {},
   "outputs": [],
   "source": []
  },
  {
   "cell_type": "code",
   "execution_count": null,
   "metadata": {},
   "outputs": [],
   "source": [
    "np.save('mypred.py', optimized_preds)"
   ]
  },
  {
   "cell_type": "code",
   "execution_count": null,
   "metadata": {},
   "outputs": [],
   "source": [
    "pred = optimized_preds # np.load('mypred.npy')"
   ]
  },
  {
   "cell_type": "code",
   "execution_count": null,
   "metadata": {},
   "outputs": [],
   "source": [
    "from model.pose_refinement import StackedArrayAllMupotsEvaluator\n",
    "from scripts.eval_nn_refine import unstack_mupots_poses\n",
    "\n",
    "l = StackedArrayAllMupotsEvaluator(pred, test_set, True, prefix=\"R\")\n",
    "l.eval(calculate_scale_free=True, verbose=True)\n",
    "exp.log_metrics(l.losses_to_log)\n",
    "\n",
    "pred_by_seq = {}\n",
    "for seq in range(1, 21):\n",
    "    inds = test_set.index.seq_num == seq\n",
    "    pred_by_seq[seq] = pred[inds]\n",
    "pred_2d, pred_3d = unstack_mupots_poses(test_set, pred_by_seq)"
   ]
  },
  {
   "cell_type": "code",
   "execution_count": null,
   "metadata": {},
   "outputs": [],
   "source": [
    "from databases import mupots_3d\n",
    "print(\"\\nR-PCK  R-AUC  A-PCK  A-AUC\")\n",
    "keys = [\"R-PCK\", \"R-AUC\", \"A-PCK\", \"A-AUC\"]\n",
    "values = []\n",
    "for relative in [True, False]:\n",
    "    pcks, aucs = mupots_3d.eval_poses(\n",
    "        False,\n",
    "        relative,\n",
    "        \"annot3\" if config[\"pose3d_scaling\"] == \"normal\" else \"univ_annot3\",\n",
    "        pred_2d,\n",
    "        pred_3d,\n",
    "        keep_matching=True,\n",
    "    )\n",
    "    pck = np.mean(list(pcks.values()))\n",
    "    auc = np.mean(list(aucs.values()))\n",
    "    values.append(pck)\n",
    "    values.append(auc)\n",
    "\n",
    "    print(\" %4.1f   %4.1f  \" % (pck, auc), end=\"\")\n",
    "print()\n",
    "exp.log_metrics({f\"{prefix}-{k}\": v for k, v in zip(keys, values)})"
   ]
  }
 ],
 "metadata": {
  "kernelspec": {
   "display_name": "Python 3",
   "language": "python",
   "name": "python3"
  },
  "language_info": {
   "codemirror_mode": {
    "name": "ipython",
    "version": 3
   },
   "file_extension": ".py",
   "mimetype": "text/x-python",
   "name": "python",
   "nbconvert_exporter": "python",
   "pygments_lexer": "ipython3",
   "version": "3.7.6"
  }
 },
 "nbformat": 4,
 "nbformat_minor": 4
}
