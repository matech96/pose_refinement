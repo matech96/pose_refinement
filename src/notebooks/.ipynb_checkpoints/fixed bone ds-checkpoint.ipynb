{
 "cells": [
  {
   "cell_type": "code",
   "execution_count": 1,
   "metadata": {
    "ExecuteTime": {
     "end_time": "2020-10-20T08:53:12.310864Z",
     "start_time": "2020-10-20T08:53:12.307086Z"
    }
   },
   "outputs": [],
   "source": [
    "import os\n",
    "\n",
    "os.chdir('..')"
   ]
  },
  {
   "cell_type": "code",
   "execution_count": 2,
   "metadata": {
    "ExecuteTime": {
     "end_time": "2020-10-20T08:53:13.445627Z",
     "start_time": "2020-10-20T08:53:13.435426Z"
    }
   },
   "outputs": [],
   "source": [
    "_config = {\n",
    "    \"num_epochs\": 80,\n",
    "    \"preprocess_2d\": \"DepthposeNormalize2D\",\n",
    "    \"preprocess_3d\": \"SplitToRelativeAbsAndMeanNormalize3D\",\n",
    "    \"shuffle\": True,\n",
    "    \"ordered_batch\": False,\n",
    "    # training\n",
    "    \"optimiser\": \"adam\",\n",
    "    \"adam_amsgrad\": True,\n",
    "    \"learning_rate\": 1e-3,\n",
    "    \"sgd_momentum\": 0,\n",
    "    \"batch_size\": 1024,\n",
    "    \"train_time_flip\": True,\n",
    "    \"test_time_flip\": True,\n",
    "    \"lr_scheduler\": {\n",
    "        \"type\": \"multiplicative\",\n",
    "        \"multiplier\": 0.95,\n",
    "        \"step_size\": 1,\n",
    "    },\n",
    "    # dataset\n",
    "    \"train_data\": \"mpii_train\",\n",
    "    \"pose2d_type\": \"hrnet\",\n",
    "    \"pose3d_scaling\": \"normal\",\n",
    "    \"megadepth_type\": \"megadepth_at_hrnet\",\n",
    "    \"cap_25fps\": True,\n",
    "    \"stride\": 2,\n",
    "    \"simple_aug\": True,  # augments data by duplicating each frame\n",
    "}"
   ]
  },
  {
   "cell_type": "code",
   "execution_count": 17,
   "metadata": {
    "ExecuteTime": {
     "end_time": "2020-10-20T09:00:41.104045Z",
     "start_time": "2020-10-20T09:00:41.066709Z"
    },
    "code_folding": [
     13
    ]
   },
   "outputs": [],
   "source": [
    "import os\n",
    "import pandas as pd\n",
    "import torch\n",
    "import h5py\n",
    "import numpy as np\n",
    "from scipy.spatial.transform import Rotation\n",
    "from torch.utils.data import Dataset\n",
    "\n",
    "from databases import mupots_3d, mpii_3dhp, muco_temp\n",
    "from databases.joint_sets import CocoExJoints, OpenPoseJoints, MuPoTSJoints\n",
    "from databases.datasets import *\n",
    "from training.loaders import ChunkedGenerator\n",
    "\n",
    "class Mpi3dTrainDataset(Mpi3dTrainDataset):\n",
    "    def __init__(self, pose2d_type, pose3d_scaling, cap_at_25fps, stride=1):\n",
    "        assert pose2d_type == 'hrnet', \"Only hrnet 2d is implemented\"\n",
    "        assert pose3d_scaling in ['normal', 'univ'], \\\n",
    "            \"Unexpected pose3d scaling type: \" + str(pose3d_scaling)\n",
    "        self.transform = None\n",
    "\n",
    "        pose3d_key = 'annot3' if pose3d_scaling == 'normal' else 'univ_annot3'\n",
    "\n",
    "        poses2d = []\n",
    "        poses3d = []\n",
    "        valid_2d_pred = []  # True if HR-net found a pose\n",
    "        fx = []\n",
    "        fy = []\n",
    "        cx = []\n",
    "        cy = []\n",
    "        index = []\n",
    "        sequences = []\n",
    "\n",
    "        calibs = mpii_3dhp.get_calibration_matrices()\n",
    "        for sub in range(1, 9): # S1, ..., S8\n",
    "            for seq in range(1, 3): # 2 sequence per S\n",
    "                gt = mpii_3dhp.train_ground_truth(sub, seq)\n",
    "                for cam in range(11):\n",
    "                    # In S3/Seq2 cam2 there are some frame between 9400-9900 where the pose is\n",
    "                    # behind the camera/nearly in the camera plane. This breaks training.\n",
    "                    # For simplicity, ignore the whole set but ignoring frames 9400-9900\n",
    "                    # would also work\n",
    "                    if seq == 2 and sub == 3 and cam == 2:\n",
    "                        continue\n",
    "\n",
    "                    # Find indices that are selected for the dataset\n",
    "                    inds = np.arange(len(gt[pose3d_key][cam]))\n",
    "                    if cap_at_25fps and mpii_3dhp.get_train_fps(sub, seq) == 50:\n",
    "                        inds = inds[::2]\n",
    "                    inds = inds[::stride]\n",
    "                    num_frames = len(inds)\n",
    "\n",
    "                    poses3d.append(gt[pose3d_key][cam][inds])\n",
    "\n",
    "                    tmp = mpii_3dhp.train_poses_hrnet(sub, seq, cam)\n",
    "                    poses2d.append(tmp['poses'][inds])\n",
    "                    valid_2d_pred.append(tmp['is_valid'][inds])\n",
    "\n",
    "                    assert len(poses3d[-1]) == len(poses2d[-1]\n",
    "                                                   ), \"Gt and predicted frames are not aligned, seq:\" + str(seq)\n",
    "\n",
    "                    seq_name = 'S%d/Seq%d/%d' % (sub, seq, cam)\n",
    "                    sequences.append(seq_name)\n",
    "                    index.extend([(seq_name, sub, seq, cam, i) for i in inds])\n",
    "\n",
    "                    calibration_mx = calibs[(sub, seq, cam)]\n",
    "                    fx.extend([calibration_mx[0, 0]] * num_frames)\n",
    "                    fy.extend([calibration_mx[1, 1]] * num_frames)\n",
    "                    cx.extend([calibration_mx[0, 2]] * num_frames)\n",
    "                    cy.extend([calibration_mx[1, 2]] * num_frames)\n",
    "\n",
    "        self.pose2d_jointset = CocoExJoints()\n",
    "        self.pose3d_jointset = MuPoTSJoints()\n",
    "\n",
    "        self.poses2d = np.concatenate(poses2d)\n",
    "        self.poses3d = np.concatenate(poses3d)\n",
    "        self.valid_2d_pred = np.concatenate(valid_2d_pred)\n",
    "        self.index = np.rec.array(index, dtype=[('seq', 'U12'), ('sub', 'int32'), ('subseq', 'int32'),\n",
    "                                                ('cam', 'int32'), ('frame', 'int32')])\n",
    "\n",
    "        self.fx = np.array(fx, dtype='float32')\n",
    "        self.fy = np.array(fy, dtype='float32')\n",
    "        self.cx = np.array(cx, dtype='float32')\n",
    "        self.cy = np.array(cy, dtype='float32')\n",
    "\n",
    "        self.sequences = sorted(sequences)\n",
    "\n",
    "        assert len(self.poses2d) == len(self.index), len(self.index)\n",
    "\n",
    "        assert len(self.poses2d) == len(self.poses3d)\n",
    "        assert len(self.poses2d) == len(self.index), len(self.index)\n",
    "        assert len(self.poses2d) == len(self.valid_2d_pred), len(self.valid_2d_pred)\n",
    "        assert len(self.poses2d) == len(self.fx), len(self.fx)\n",
    "        assert len(self.poses2d) == len(self.fy), len(self.fy)\n",
    "        assert len(self.poses2d) == len(self.cx), len(self.cx)\n",
    "        assert len(self.poses2d) == len(self.cy), len(self.cy)\n",
    "\n",
    "    def filter_dataset(self, inds):\n",
    "        super().filter_dataset(inds)\n",
    "        self.sequences = sorted(np.unique(self.index.seq))\n",
    "\n",
    "    def prepare_sample(self, ind):\n",
    "        if isinstance(ind, (list, tuple, np.ndarray)):\n",
    "            width = np.full(len(ind), 2048, dtype='int32')\n",
    "        else:\n",
    "            width = 2048\n",
    "\n",
    "        sample = {'pose2d': self.poses2d[ind], 'pose3d': self.poses3d[ind],\n",
    "                  'index': ind, 'valid_pose': self.valid_2d_pred[ind], 'cx': self.cx[ind], 'width': width}\n",
    "\n",
    "        return sample"
   ]
  },
  {
   "cell_type": "code",
   "execution_count": 4,
   "metadata": {
    "ExecuteTime": {
     "end_time": "2020-10-20T08:53:16.260003Z",
     "start_time": "2020-10-20T08:53:16.255373Z"
    }
   },
   "outputs": [],
   "source": [
    "joint_set = MuPoTSJoints()\n",
    "connected_joints = joint_set.LIMBGRAPH"
   ]
  },
  {
   "cell_type": "code",
   "execution_count": 5,
   "metadata": {
    "ExecuteTime": {
     "end_time": "2020-10-20T08:53:47.316850Z",
     "start_time": "2020-10-20T08:53:18.001598Z"
    }
   },
   "outputs": [],
   "source": [
    "train_data = Mpi3dTrainDataset(\n",
    "    _config[\"pose2d_type\"],\n",
    "    _config[\"pose3d_scaling\"],\n",
    "    _config[\"cap_25fps\"],\n",
    "    _config[\"stride\"],\n",
    ")"
   ]
  },
  {
   "cell_type": "code",
   "execution_count": 6,
   "metadata": {
    "ExecuteTime": {
     "end_time": "2020-10-20T08:53:47.499769Z",
     "start_time": "2020-10-20T08:53:47.318894Z"
    }
   },
   "outputs": [],
   "source": [
    "train_loader = ChunkedGenerator(\n",
    "    train_data,\n",
    "    _config[\"batch_size\"],\n",
    "    10,\n",
    "    _config[\"train_time_flip\"],\n",
    "    shuffle=_config[\"shuffle\"],\n",
    "    ordered_batch=_config[\"ordered_batch\"],\n",
    ")"
   ]
  },
  {
   "cell_type": "code",
   "execution_count": 7,
   "metadata": {
    "ExecuteTime": {
     "end_time": "2020-10-20T08:53:48.051575Z",
     "start_time": "2020-10-20T08:53:47.501974Z"
    }
   },
   "outputs": [],
   "source": [
    "d = next(iter(train_loader))"
   ]
  },
  {
   "cell_type": "code",
   "execution_count": 11,
   "metadata": {
    "ExecuteTime": {
     "end_time": "2020-10-20T08:55:55.368041Z",
     "start_time": "2020-10-20T08:55:55.362021Z"
    }
   },
   "outputs": [],
   "source": [
    "i = 0\n",
    "d = train_data.prepare_sample(i)\n",
    "nd = np.expand_dims(d['pose3d'], 0)\n",
    "td = torch.from_numpy(nd)\n",
    "# l = getbonelength(td, connected_joints)"
   ]
  },
  {
   "cell_type": "code",
   "execution_count": 14,
   "metadata": {
    "ExecuteTime": {
     "end_time": "2020-10-20T08:59:45.860606Z",
     "start_time": "2020-10-20T08:59:45.847555Z"
    }
   },
   "outputs": [
    {
     "data": {
      "text/plain": [
       "(array([441.50702, 559.5869 , 119.16001, 441.50214, 556.8648 , 119.16   ,\n",
       "        173.08038,  86.514  , 255.27245, 227.21709, 245.00201, 316.97284,\n",
       "        146.74512, 245.00699, 316.97415, 153.53192], dtype=float32),\n",
       " array([ 0.10909295,  0.13203868, -1.3632405 , -0.04619998, -0.05259079,\n",
       "         1.3632407 , -0.06272934, -0.01410189, -0.02982187, -0.03595776,\n",
       "        -1.3831215 , -1.3726394 , -1.0484929 ,  1.4866517 ,  1.4850576 ,\n",
       "         0.9636212 ], dtype=float32),\n",
       " (16,))"
      ]
     },
     "execution_count": 14,
     "metadata": {},
     "output_type": "execute_result"
    }
   ],
   "source": [
    "from ai import cs\n",
    "cj = np.array(connected_joints)\n",
    "diff = nd[0,cj[:,0], :] - nd[0, cj[:, 1], :] # vec1 - vec2\n",
    "r, t, p = cs.cart2sp(diff[:, 0], diff[:, 1], diff[:, 2])\n",
    "# cs.sp2cart(r, t, p)\n",
    "r, t, p"
   ]
  },
  {
   "cell_type": "code",
   "execution_count": 22,
   "metadata": {
    "ExecuteTime": {
     "end_time": "2020-10-20T09:22:07.140577Z",
     "start_time": "2020-10-20T09:22:07.133937Z"
    }
   },
   "outputs": [],
   "source": [
    "def sp2cart(r, t, p):\n",
    "    x = r*np.sin(p)*np.cos(t)\n",
    "    y = r*np.sin(p)*np.sin(t)\n",
    "    z = r*np.cos(p)\n",
    "    return x, y, z"
   ]
  },
  {
   "cell_type": "code",
   "execution_count": 23,
   "metadata": {
    "ExecuteTime": {
     "end_time": "2020-10-20T09:22:21.080810Z",
     "start_time": "2020-10-20T09:22:21.051115Z"
    }
   },
   "outputs": [
    {
     "data": {
      "text/plain": [
       "(array([ 235.32988 ,  301.4958  ,    4.515045,  233.34132 ,  300.61942 ,\n",
       "          -4.514962,  -92.43734 ,  -46.137974, -137.82048 , -122.5499  ,\n",
       "          78.37392 ,  165.2712  ,   77.78062 ,  132.27553 ,   17.834618,\n",
       "          80.752556], dtype=float32),\n",
       " array([ 366.50458  ,  469.55188  ,    7.0317664,  363.4076   ,\n",
       "         468.187    ,   -7.031637 , -143.96263  ,  -71.85564  ,\n",
       "        -214.64268  , -190.86017  ,  122.06014  ,  257.39462  ,\n",
       "         121.13614  ,  206.00694  ,   27.77577  ,  125.76466  ],\n",
       "       dtype=float32),\n",
       " array([ -72.2681  ,  -41.937984,  118.86664 ,  -91.710846,  -22.961725,\n",
       "        -118.86664 ,  -26.20905 ,   13.88259 ,    9.902227,  -13.472971,\n",
       "         197.44577 ,   83.09764 ,   28.466507,    9.630479, -315.25076 ,\n",
       "         -35.132927], dtype=float32))"
      ]
     },
     "execution_count": 23,
     "metadata": {},
     "output_type": "execute_result"
    }
   ],
   "source": [
    "sp2cart(r, t, p)"
   ]
  },
  {
   "cell_type": "code",
   "execution_count": null,
   "metadata": {},
   "outputs": [],
   "source": []
  },
  {
   "cell_type": "code",
   "execution_count": 15,
   "metadata": {
    "ExecuteTime": {
     "end_time": "2020-10-20T09:00:31.547049Z",
     "start_time": "2020-10-20T09:00:31.535566Z"
    }
   },
   "outputs": [],
   "source": [
    "x = []\n",
    "y = []\n",
    "z = []\n",
    "j = []\n",
    "for i, (f, t) in enumerate(connected_joints):\n",
    "    x.append(nd[0, f, 0])\n",
    "    y.append(nd[0, f, 1])\n",
    "    z.append(nd[0, f, 2])\n",
    "    x.append(nd[0, t, 0])\n",
    "    y.append(nd[0, t, 1])\n",
    "    z.append(nd[0, t, 2])\n",
    "    j.append(i)\n",
    "    j.append(i)"
   ]
  },
  {
   "cell_type": "code",
   "execution_count": 18,
   "metadata": {
    "ExecuteTime": {
     "end_time": "2020-10-20T09:00:43.937934Z",
     "start_time": "2020-10-20T09:00:43.909356Z"
    }
   },
   "outputs": [],
   "source": [
    "df = pd.DataFrame({'x': x, 'y': y, 'z': z, 'j': j})"
   ]
  },
  {
   "cell_type": "code",
   "execution_count": 21,
   "metadata": {
    "ExecuteTime": {
     "end_time": "2020-10-20T09:02:16.707391Z",
     "start_time": "2020-10-20T09:02:16.602101Z"
    }
   },
   "outputs": [
    {
     "data": {
      "application/vnd.plotly.v1+json": {
       "config": {
        "plotlyServerURL": "https://plot.ly"
       },
       "data": [
        {
         "hovertemplate": "j=0<br>x=%{x}<br>y=%{y}<br>z=%{z}<extra></extra>",
         "legendgroup": "0",
         "line": {
          "color": "#636efa",
          "dash": "solid"
         },
         "mode": "lines",
         "name": "0",
         "scene": "scene",
         "showlegend": true,
         "type": "scatter3d",
         "x": [
          -87.24109649658203,
          -15.402600288391113
         ],
         "y": [
          1390.77001953125,
          957.8070068359375
         ],
         "z": [
          3718.39990234375,
          3670.330078125
         ]
        },
        {
         "hovertemplate": "j=1<br>x=%{x}<br>y=%{y}<br>z=%{z}<extra></extra>",
         "legendgroup": "1",
         "line": {
          "color": "#EF553B",
          "dash": "solid"
         },
         "mode": "lines",
         "name": "1",
         "scene": "scene",
         "showlegend": true,
         "type": "scatter3d",
         "x": [
          -15.402600288391113,
          26.170337677001953
         ],
         "y": [
          957.8070068359375,
          404.6510009765625
         ],
         "z": [
          3670.330078125,
          3596.657470703125
         ]
        },
        {
         "hovertemplate": "j=2<br>x=%{x}<br>y=%{y}<br>z=%{z}<extra></extra>",
         "legendgroup": "2",
         "line": {
          "color": "#00cc96",
          "dash": "solid"
         },
         "mode": "lines",
         "name": "2",
         "scene": "scene",
         "showlegend": true,
         "type": "scatter3d",
         "x": [
          26.170337677001953,
          1.6756600141525269
         ],
         "y": [
          404.6510009765625,
          402.9289855957031
         ],
         "z": [
          3596.657470703125,
          3713.260009765625
         ]
        },
        {
         "hovertemplate": "j=3<br>x=%{x}<br>y=%{y}<br>z=%{z}<extra></extra>",
         "legendgroup": "3",
         "line": {
          "color": "#ab63fa",
          "dash": "solid"
         },
         "mode": "lines",
         "name": "3",
         "scene": "scene",
         "showlegend": true,
         "type": "scatter3d",
         "x": [
          -137.36199951171875,
          -45.749000549316406
         ],
         "y": [
          1388.239990234375,
          956.8289794921875
         ],
         "z": [
          3780.199951171875,
          3800.590087890625
         ]
        },
        {
         "hovertemplate": "j=4<br>x=%{x}<br>y=%{y}<br>z=%{z}<extra></extra>",
         "legendgroup": "4",
         "line": {
          "color": "#FFA15A",
          "dash": "solid"
         },
         "mode": "lines",
         "name": "4",
         "scene": "scene",
         "showlegend": true,
         "type": "scatter3d",
         "x": [
          -45.749000549316406,
          -22.81901741027832
         ],
         "y": [
          956.8289794921875,
          401.2070007324219
         ],
         "z": [
          3800.590087890625,
          3829.862548828125
         ]
        },
        {
         "hovertemplate": "j=5<br>x=%{x}<br>y=%{y}<br>z=%{z}<extra></extra>",
         "legendgroup": "5",
         "line": {
          "color": "#19d3f3",
          "dash": "solid"
         },
         "mode": "lines",
         "name": "5",
         "scene": "scene",
         "showlegend": true,
         "type": "scatter3d",
         "x": [
          -22.81901741027832,
          1.6756600141525269
         ],
         "y": [
          401.2070007324219,
          402.9289855957031
         ],
         "z": [
          3829.862548828125,
          3713.260009765625
         ]
        },
        {
         "hovertemplate": "j=6<br>x=%{x}<br>y=%{y}<br>z=%{z}<extra></extra>",
         "legendgroup": "6",
         "line": {
          "color": "#FF6692",
          "dash": "solid"
         },
         "mode": "lines",
         "name": "6",
         "scene": "scene",
         "showlegend": true,
         "type": "scatter3d",
         "x": [
          -14.167099952697754,
          11.990400314331055
         ],
         "y": [
          -334.84100341796875,
          -164.09300231933594
         ],
         "z": [
          3685.409912109375,
          3696.260009765625
         ]
        },
        {
         "hovertemplate": "j=7<br>x=%{x}<br>y=%{y}<br>z=%{z}<extra></extra>",
         "legendgroup": "7",
         "line": {
          "color": "#B6E880",
          "dash": "solid"
         },
         "mode": "lines",
         "name": "7",
         "scene": "scene",
         "showlegend": true,
         "type": "scatter3d",
         "x": [
          11.990400314331055,
          -1.8908100128173828
         ],
         "y": [
          -164.09300231933594,
          -78.70860290527344
         ],
         "z": [
          3696.260009765625,
          3697.47998046875
         ]
        },
        {
         "hovertemplate": "j=8<br>x=%{x}<br>y=%{y}<br>z=%{z}<extra></extra>",
         "legendgroup": "8",
         "line": {
          "color": "#FF97FF",
          "dash": "solid"
         },
         "mode": "lines",
         "name": "8",
         "scene": "scene",
         "showlegend": true,
         "type": "scatter3d",
         "x": [
          -1.8908100128173828,
          -11.788619041442871
         ],
         "y": [
          -78.70860290527344,
          176.25830078125
         ],
         "z": [
          3697.47998046875,
          3705.091552734375
         ]
        },
        {
         "hovertemplate": "j=9<br>x=%{x}<br>y=%{y}<br>z=%{z}<extra></extra>",
         "legendgroup": "9",
         "line": {
          "color": "#FECB52",
          "dash": "solid"
         },
         "mode": "lines",
         "name": "9",
         "scene": "scene",
         "showlegend": true,
         "type": "scatter3d",
         "x": [
          -11.788619041442871,
          1.6756600141525269
         ],
         "y": [
          176.25830078125,
          402.9289855957031
         ],
         "z": [
          3705.091552734375,
          3713.260009765625
         ]
        },
        {
         "hovertemplate": "j=10<br>x=%{x}<br>y=%{y}<br>z=%{z}<extra></extra>",
         "legendgroup": "10",
         "line": {
          "color": "#636efa",
          "dash": "solid"
         },
         "mode": "lines",
         "name": "10",
         "scene": "scene",
         "showlegend": true,
         "type": "scatter3d",
         "x": [
          65.50779724121094,
          28.669300079345703
         ],
         "y": [
          80.38999938964844,
          53.32619857788086
         ],
         "z": [
          3018.830078125,
          3259.530029296875
         ]
        },
        {
         "hovertemplate": "j=11<br>x=%{x}<br>y=%{y}<br>z=%{z}<extra></extra>",
         "legendgroup": "11",
         "line": {
          "color": "#EF553B",
          "dash": "solid"
         },
         "mode": "lines",
         "name": "11",
         "scene": "scene",
         "showlegend": true,
         "type": "scatter3d",
         "x": [
          28.669300079345703,
          12.310500144958496
         ],
         "y": [
          53.32619857788086,
          -6.891359806060791
         ],
         "z": [
          3259.530029296875,
          3570.300048828125
         ]
        },
        {
         "hovertemplate": "j=12<br>x=%{x}<br>y=%{y}<br>z=%{z}<extra></extra>",
         "legendgroup": "12",
         "line": {
          "color": "#00cc96",
          "dash": "solid"
         },
         "mode": "lines",
         "name": "12",
         "scene": "scene",
         "showlegend": true,
         "type": "scatter3d",
         "x": [
          12.310500144958496,
          -1.8908100128173828
         ],
         "y": [
          -6.891359806060791,
          -78.70860290527344
         ],
         "z": [
          3570.300048828125,
          3697.47998046875
         ]
        },
        {
         "hovertemplate": "j=13<br>x=%{x}<br>y=%{y}<br>z=%{z}<extra></extra>",
         "legendgroup": "13",
         "line": {
          "color": "#ab63fa",
          "dash": "solid"
         },
         "mode": "lines",
         "name": "13",
         "scene": "scene",
         "showlegend": true,
         "type": "scatter3d",
         "x": [
          -48.12269973754883,
          -48.932098388671875
         ],
         "y": [
          29.967199325561523,
          9.39136028289795
         ],
         "z": [
          4383.52001953125,
          4139.3798828125
         ]
        },
        {
         "hovertemplate": "j=14<br>x=%{x}<br>y=%{y}<br>z=%{z}<extra></extra>",
         "legendgroup": "14",
         "line": {
          "color": "#FFA15A",
          "dash": "solid"
         },
         "mode": "lines",
         "name": "14",
         "scene": "scene",
         "showlegend": true,
         "type": "scatter3d",
         "x": [
          -48.932098388671875,
          -21.93589973449707
         ],
         "y": [
          9.39136028289795,
          6.564700126647949
         ],
         "z": [
          4139.3798828125,
          3823.570068359375
         ]
        },
        {
         "hovertemplate": "j=15<br>x=%{x}<br>y=%{y}<br>z=%{z}<extra></extra>",
         "legendgroup": "15",
         "line": {
          "color": "#19d3f3",
          "dash": "solid"
         },
         "mode": "lines",
         "name": "15",
         "scene": "scene",
         "showlegend": true,
         "type": "scatter3d",
         "x": [
          -21.93589973449707,
          -1.8908100128173828
         ],
         "y": [
          6.564700126647949,
          -78.70860290527344
         ],
         "z": [
          3823.570068359375,
          3697.47998046875
         ]
        }
       ],
       "layout": {
        "legend": {
         "title": {
          "text": "j"
         },
         "tracegroupgap": 0
        },
        "scene": {
         "domain": {
          "x": [
           0,
           1
          ],
          "y": [
           0,
           1
          ]
         },
         "xaxis": {
          "title": {
           "text": "x"
          }
         },
         "yaxis": {
          "title": {
           "text": "y"
          }
         },
         "zaxis": {
          "title": {
           "text": "z"
          }
         }
        },
        "template": {
         "data": {
          "bar": [
           {
            "error_x": {
             "color": "#2a3f5f"
            },
            "error_y": {
             "color": "#2a3f5f"
            },
            "marker": {
             "line": {
              "color": "#E5ECF6",
              "width": 0.5
             }
            },
            "type": "bar"
           }
          ],
          "barpolar": [
           {
            "marker": {
             "line": {
              "color": "#E5ECF6",
              "width": 0.5
             }
            },
            "type": "barpolar"
           }
          ],
          "carpet": [
           {
            "aaxis": {
             "endlinecolor": "#2a3f5f",
             "gridcolor": "white",
             "linecolor": "white",
             "minorgridcolor": "white",
             "startlinecolor": "#2a3f5f"
            },
            "baxis": {
             "endlinecolor": "#2a3f5f",
             "gridcolor": "white",
             "linecolor": "white",
             "minorgridcolor": "white",
             "startlinecolor": "#2a3f5f"
            },
            "type": "carpet"
           }
          ],
          "choropleth": [
           {
            "colorbar": {
             "outlinewidth": 0,
             "ticks": ""
            },
            "type": "choropleth"
           }
          ],
          "contour": [
           {
            "colorbar": {
             "outlinewidth": 0,
             "ticks": ""
            },
            "colorscale": [
             [
              0,
              "#0d0887"
             ],
             [
              0.1111111111111111,
              "#46039f"
             ],
             [
              0.2222222222222222,
              "#7201a8"
             ],
             [
              0.3333333333333333,
              "#9c179e"
             ],
             [
              0.4444444444444444,
              "#bd3786"
             ],
             [
              0.5555555555555556,
              "#d8576b"
             ],
             [
              0.6666666666666666,
              "#ed7953"
             ],
             [
              0.7777777777777778,
              "#fb9f3a"
             ],
             [
              0.8888888888888888,
              "#fdca26"
             ],
             [
              1,
              "#f0f921"
             ]
            ],
            "type": "contour"
           }
          ],
          "contourcarpet": [
           {
            "colorbar": {
             "outlinewidth": 0,
             "ticks": ""
            },
            "type": "contourcarpet"
           }
          ],
          "heatmap": [
           {
            "colorbar": {
             "outlinewidth": 0,
             "ticks": ""
            },
            "colorscale": [
             [
              0,
              "#0d0887"
             ],
             [
              0.1111111111111111,
              "#46039f"
             ],
             [
              0.2222222222222222,
              "#7201a8"
             ],
             [
              0.3333333333333333,
              "#9c179e"
             ],
             [
              0.4444444444444444,
              "#bd3786"
             ],
             [
              0.5555555555555556,
              "#d8576b"
             ],
             [
              0.6666666666666666,
              "#ed7953"
             ],
             [
              0.7777777777777778,
              "#fb9f3a"
             ],
             [
              0.8888888888888888,
              "#fdca26"
             ],
             [
              1,
              "#f0f921"
             ]
            ],
            "type": "heatmap"
           }
          ],
          "heatmapgl": [
           {
            "colorbar": {
             "outlinewidth": 0,
             "ticks": ""
            },
            "colorscale": [
             [
              0,
              "#0d0887"
             ],
             [
              0.1111111111111111,
              "#46039f"
             ],
             [
              0.2222222222222222,
              "#7201a8"
             ],
             [
              0.3333333333333333,
              "#9c179e"
             ],
             [
              0.4444444444444444,
              "#bd3786"
             ],
             [
              0.5555555555555556,
              "#d8576b"
             ],
             [
              0.6666666666666666,
              "#ed7953"
             ],
             [
              0.7777777777777778,
              "#fb9f3a"
             ],
             [
              0.8888888888888888,
              "#fdca26"
             ],
             [
              1,
              "#f0f921"
             ]
            ],
            "type": "heatmapgl"
           }
          ],
          "histogram": [
           {
            "marker": {
             "colorbar": {
              "outlinewidth": 0,
              "ticks": ""
             }
            },
            "type": "histogram"
           }
          ],
          "histogram2d": [
           {
            "colorbar": {
             "outlinewidth": 0,
             "ticks": ""
            },
            "colorscale": [
             [
              0,
              "#0d0887"
             ],
             [
              0.1111111111111111,
              "#46039f"
             ],
             [
              0.2222222222222222,
              "#7201a8"
             ],
             [
              0.3333333333333333,
              "#9c179e"
             ],
             [
              0.4444444444444444,
              "#bd3786"
             ],
             [
              0.5555555555555556,
              "#d8576b"
             ],
             [
              0.6666666666666666,
              "#ed7953"
             ],
             [
              0.7777777777777778,
              "#fb9f3a"
             ],
             [
              0.8888888888888888,
              "#fdca26"
             ],
             [
              1,
              "#f0f921"
             ]
            ],
            "type": "histogram2d"
           }
          ],
          "histogram2dcontour": [
           {
            "colorbar": {
             "outlinewidth": 0,
             "ticks": ""
            },
            "colorscale": [
             [
              0,
              "#0d0887"
             ],
             [
              0.1111111111111111,
              "#46039f"
             ],
             [
              0.2222222222222222,
              "#7201a8"
             ],
             [
              0.3333333333333333,
              "#9c179e"
             ],
             [
              0.4444444444444444,
              "#bd3786"
             ],
             [
              0.5555555555555556,
              "#d8576b"
             ],
             [
              0.6666666666666666,
              "#ed7953"
             ],
             [
              0.7777777777777778,
              "#fb9f3a"
             ],
             [
              0.8888888888888888,
              "#fdca26"
             ],
             [
              1,
              "#f0f921"
             ]
            ],
            "type": "histogram2dcontour"
           }
          ],
          "mesh3d": [
           {
            "colorbar": {
             "outlinewidth": 0,
             "ticks": ""
            },
            "type": "mesh3d"
           }
          ],
          "parcoords": [
           {
            "line": {
             "colorbar": {
              "outlinewidth": 0,
              "ticks": ""
             }
            },
            "type": "parcoords"
           }
          ],
          "pie": [
           {
            "automargin": true,
            "type": "pie"
           }
          ],
          "scatter": [
           {
            "marker": {
             "colorbar": {
              "outlinewidth": 0,
              "ticks": ""
             }
            },
            "type": "scatter"
           }
          ],
          "scatter3d": [
           {
            "line": {
             "colorbar": {
              "outlinewidth": 0,
              "ticks": ""
             }
            },
            "marker": {
             "colorbar": {
              "outlinewidth": 0,
              "ticks": ""
             }
            },
            "type": "scatter3d"
           }
          ],
          "scattercarpet": [
           {
            "marker": {
             "colorbar": {
              "outlinewidth": 0,
              "ticks": ""
             }
            },
            "type": "scattercarpet"
           }
          ],
          "scattergeo": [
           {
            "marker": {
             "colorbar": {
              "outlinewidth": 0,
              "ticks": ""
             }
            },
            "type": "scattergeo"
           }
          ],
          "scattergl": [
           {
            "marker": {
             "colorbar": {
              "outlinewidth": 0,
              "ticks": ""
             }
            },
            "type": "scattergl"
           }
          ],
          "scattermapbox": [
           {
            "marker": {
             "colorbar": {
              "outlinewidth": 0,
              "ticks": ""
             }
            },
            "type": "scattermapbox"
           }
          ],
          "scatterpolar": [
           {
            "marker": {
             "colorbar": {
              "outlinewidth": 0,
              "ticks": ""
             }
            },
            "type": "scatterpolar"
           }
          ],
          "scatterpolargl": [
           {
            "marker": {
             "colorbar": {
              "outlinewidth": 0,
              "ticks": ""
             }
            },
            "type": "scatterpolargl"
           }
          ],
          "scatterternary": [
           {
            "marker": {
             "colorbar": {
              "outlinewidth": 0,
              "ticks": ""
             }
            },
            "type": "scatterternary"
           }
          ],
          "surface": [
           {
            "colorbar": {
             "outlinewidth": 0,
             "ticks": ""
            },
            "colorscale": [
             [
              0,
              "#0d0887"
             ],
             [
              0.1111111111111111,
              "#46039f"
             ],
             [
              0.2222222222222222,
              "#7201a8"
             ],
             [
              0.3333333333333333,
              "#9c179e"
             ],
             [
              0.4444444444444444,
              "#bd3786"
             ],
             [
              0.5555555555555556,
              "#d8576b"
             ],
             [
              0.6666666666666666,
              "#ed7953"
             ],
             [
              0.7777777777777778,
              "#fb9f3a"
             ],
             [
              0.8888888888888888,
              "#fdca26"
             ],
             [
              1,
              "#f0f921"
             ]
            ],
            "type": "surface"
           }
          ],
          "table": [
           {
            "cells": {
             "fill": {
              "color": "#EBF0F8"
             },
             "line": {
              "color": "white"
             }
            },
            "header": {
             "fill": {
              "color": "#C8D4E3"
             },
             "line": {
              "color": "white"
             }
            },
            "type": "table"
           }
          ]
         },
         "layout": {
          "annotationdefaults": {
           "arrowcolor": "#2a3f5f",
           "arrowhead": 0,
           "arrowwidth": 1
          },
          "coloraxis": {
           "colorbar": {
            "outlinewidth": 0,
            "ticks": ""
           }
          },
          "colorscale": {
           "diverging": [
            [
             0,
             "#8e0152"
            ],
            [
             0.1,
             "#c51b7d"
            ],
            [
             0.2,
             "#de77ae"
            ],
            [
             0.3,
             "#f1b6da"
            ],
            [
             0.4,
             "#fde0ef"
            ],
            [
             0.5,
             "#f7f7f7"
            ],
            [
             0.6,
             "#e6f5d0"
            ],
            [
             0.7,
             "#b8e186"
            ],
            [
             0.8,
             "#7fbc41"
            ],
            [
             0.9,
             "#4d9221"
            ],
            [
             1,
             "#276419"
            ]
           ],
           "sequential": [
            [
             0,
             "#0d0887"
            ],
            [
             0.1111111111111111,
             "#46039f"
            ],
            [
             0.2222222222222222,
             "#7201a8"
            ],
            [
             0.3333333333333333,
             "#9c179e"
            ],
            [
             0.4444444444444444,
             "#bd3786"
            ],
            [
             0.5555555555555556,
             "#d8576b"
            ],
            [
             0.6666666666666666,
             "#ed7953"
            ],
            [
             0.7777777777777778,
             "#fb9f3a"
            ],
            [
             0.8888888888888888,
             "#fdca26"
            ],
            [
             1,
             "#f0f921"
            ]
           ],
           "sequentialminus": [
            [
             0,
             "#0d0887"
            ],
            [
             0.1111111111111111,
             "#46039f"
            ],
            [
             0.2222222222222222,
             "#7201a8"
            ],
            [
             0.3333333333333333,
             "#9c179e"
            ],
            [
             0.4444444444444444,
             "#bd3786"
            ],
            [
             0.5555555555555556,
             "#d8576b"
            ],
            [
             0.6666666666666666,
             "#ed7953"
            ],
            [
             0.7777777777777778,
             "#fb9f3a"
            ],
            [
             0.8888888888888888,
             "#fdca26"
            ],
            [
             1,
             "#f0f921"
            ]
           ]
          },
          "colorway": [
           "#636efa",
           "#EF553B",
           "#00cc96",
           "#ab63fa",
           "#FFA15A",
           "#19d3f3",
           "#FF6692",
           "#B6E880",
           "#FF97FF",
           "#FECB52"
          ],
          "font": {
           "color": "#2a3f5f"
          },
          "geo": {
           "bgcolor": "white",
           "lakecolor": "white",
           "landcolor": "#E5ECF6",
           "showlakes": true,
           "showland": true,
           "subunitcolor": "white"
          },
          "hoverlabel": {
           "align": "left"
          },
          "hovermode": "closest",
          "mapbox": {
           "style": "light"
          },
          "paper_bgcolor": "white",
          "plot_bgcolor": "#E5ECF6",
          "polar": {
           "angularaxis": {
            "gridcolor": "white",
            "linecolor": "white",
            "ticks": ""
           },
           "bgcolor": "#E5ECF6",
           "radialaxis": {
            "gridcolor": "white",
            "linecolor": "white",
            "ticks": ""
           }
          },
          "scene": {
           "xaxis": {
            "backgroundcolor": "#E5ECF6",
            "gridcolor": "white",
            "gridwidth": 2,
            "linecolor": "white",
            "showbackground": true,
            "ticks": "",
            "zerolinecolor": "white"
           },
           "yaxis": {
            "backgroundcolor": "#E5ECF6",
            "gridcolor": "white",
            "gridwidth": 2,
            "linecolor": "white",
            "showbackground": true,
            "ticks": "",
            "zerolinecolor": "white"
           },
           "zaxis": {
            "backgroundcolor": "#E5ECF6",
            "gridcolor": "white",
            "gridwidth": 2,
            "linecolor": "white",
            "showbackground": true,
            "ticks": "",
            "zerolinecolor": "white"
           }
          },
          "shapedefaults": {
           "line": {
            "color": "#2a3f5f"
           }
          },
          "ternary": {
           "aaxis": {
            "gridcolor": "white",
            "linecolor": "white",
            "ticks": ""
           },
           "baxis": {
            "gridcolor": "white",
            "linecolor": "white",
            "ticks": ""
           },
           "bgcolor": "#E5ECF6",
           "caxis": {
            "gridcolor": "white",
            "linecolor": "white",
            "ticks": ""
           }
          },
          "title": {
           "x": 0.05
          },
          "xaxis": {
           "automargin": true,
           "gridcolor": "white",
           "linecolor": "white",
           "ticks": "",
           "title": {
            "standoff": 15
           },
           "zerolinecolor": "white",
           "zerolinewidth": 2
          },
          "yaxis": {
           "automargin": true,
           "gridcolor": "white",
           "linecolor": "white",
           "ticks": "",
           "title": {
            "standoff": 15
           },
           "zerolinecolor": "white",
           "zerolinewidth": 2
          }
         }
        },
        "title": {
         "text": "Original"
        }
       }
      },
      "text/html": [
       "<div>\n",
       "        \n",
       "        \n",
       "            <div id=\"7dba2567-7065-42e9-b104-3104360c94a9\" class=\"plotly-graph-div\" style=\"height:525px; width:100%;\"></div>\n",
       "            <script type=\"text/javascript\">\n",
       "                require([\"plotly\"], function(Plotly) {\n",
       "                    window.PLOTLYENV=window.PLOTLYENV || {};\n",
       "                    \n",
       "                if (document.getElementById(\"7dba2567-7065-42e9-b104-3104360c94a9\")) {\n",
       "                    Plotly.newPlot(\n",
       "                        '7dba2567-7065-42e9-b104-3104360c94a9',\n",
       "                        [{\"hovertemplate\": \"j=0<br>x=%{x}<br>y=%{y}<br>z=%{z}<extra></extra>\", \"legendgroup\": \"0\", \"line\": {\"color\": \"#636efa\", \"dash\": \"solid\"}, \"mode\": \"lines\", \"name\": \"0\", \"scene\": \"scene\", \"showlegend\": true, \"type\": \"scatter3d\", \"x\": [-87.24109649658203, -15.402600288391113], \"y\": [1390.77001953125, 957.8070068359375], \"z\": [3718.39990234375, 3670.330078125]}, {\"hovertemplate\": \"j=1<br>x=%{x}<br>y=%{y}<br>z=%{z}<extra></extra>\", \"legendgroup\": \"1\", \"line\": {\"color\": \"#EF553B\", \"dash\": \"solid\"}, \"mode\": \"lines\", \"name\": \"1\", \"scene\": \"scene\", \"showlegend\": true, \"type\": \"scatter3d\", \"x\": [-15.402600288391113, 26.170337677001953], \"y\": [957.8070068359375, 404.6510009765625], \"z\": [3670.330078125, 3596.657470703125]}, {\"hovertemplate\": \"j=2<br>x=%{x}<br>y=%{y}<br>z=%{z}<extra></extra>\", \"legendgroup\": \"2\", \"line\": {\"color\": \"#00cc96\", \"dash\": \"solid\"}, \"mode\": \"lines\", \"name\": \"2\", \"scene\": \"scene\", \"showlegend\": true, \"type\": \"scatter3d\", \"x\": [26.170337677001953, 1.6756600141525269], \"y\": [404.6510009765625, 402.9289855957031], \"z\": [3596.657470703125, 3713.260009765625]}, {\"hovertemplate\": \"j=3<br>x=%{x}<br>y=%{y}<br>z=%{z}<extra></extra>\", \"legendgroup\": \"3\", \"line\": {\"color\": \"#ab63fa\", \"dash\": \"solid\"}, \"mode\": \"lines\", \"name\": \"3\", \"scene\": \"scene\", \"showlegend\": true, \"type\": \"scatter3d\", \"x\": [-137.36199951171875, -45.749000549316406], \"y\": [1388.239990234375, 956.8289794921875], \"z\": [3780.199951171875, 3800.590087890625]}, {\"hovertemplate\": \"j=4<br>x=%{x}<br>y=%{y}<br>z=%{z}<extra></extra>\", \"legendgroup\": \"4\", \"line\": {\"color\": \"#FFA15A\", \"dash\": \"solid\"}, \"mode\": \"lines\", \"name\": \"4\", \"scene\": \"scene\", \"showlegend\": true, \"type\": \"scatter3d\", \"x\": [-45.749000549316406, -22.81901741027832], \"y\": [956.8289794921875, 401.2070007324219], \"z\": [3800.590087890625, 3829.862548828125]}, {\"hovertemplate\": \"j=5<br>x=%{x}<br>y=%{y}<br>z=%{z}<extra></extra>\", \"legendgroup\": \"5\", \"line\": {\"color\": \"#19d3f3\", \"dash\": \"solid\"}, \"mode\": \"lines\", \"name\": \"5\", \"scene\": \"scene\", \"showlegend\": true, \"type\": \"scatter3d\", \"x\": [-22.81901741027832, 1.6756600141525269], \"y\": [401.2070007324219, 402.9289855957031], \"z\": [3829.862548828125, 3713.260009765625]}, {\"hovertemplate\": \"j=6<br>x=%{x}<br>y=%{y}<br>z=%{z}<extra></extra>\", \"legendgroup\": \"6\", \"line\": {\"color\": \"#FF6692\", \"dash\": \"solid\"}, \"mode\": \"lines\", \"name\": \"6\", \"scene\": \"scene\", \"showlegend\": true, \"type\": \"scatter3d\", \"x\": [-14.167099952697754, 11.990400314331055], \"y\": [-334.84100341796875, -164.09300231933594], \"z\": [3685.409912109375, 3696.260009765625]}, {\"hovertemplate\": \"j=7<br>x=%{x}<br>y=%{y}<br>z=%{z}<extra></extra>\", \"legendgroup\": \"7\", \"line\": {\"color\": \"#B6E880\", \"dash\": \"solid\"}, \"mode\": \"lines\", \"name\": \"7\", \"scene\": \"scene\", \"showlegend\": true, \"type\": \"scatter3d\", \"x\": [11.990400314331055, -1.8908100128173828], \"y\": [-164.09300231933594, -78.70860290527344], \"z\": [3696.260009765625, 3697.47998046875]}, {\"hovertemplate\": \"j=8<br>x=%{x}<br>y=%{y}<br>z=%{z}<extra></extra>\", \"legendgroup\": \"8\", \"line\": {\"color\": \"#FF97FF\", \"dash\": \"solid\"}, \"mode\": \"lines\", \"name\": \"8\", \"scene\": \"scene\", \"showlegend\": true, \"type\": \"scatter3d\", \"x\": [-1.8908100128173828, -11.788619041442871], \"y\": [-78.70860290527344, 176.25830078125], \"z\": [3697.47998046875, 3705.091552734375]}, {\"hovertemplate\": \"j=9<br>x=%{x}<br>y=%{y}<br>z=%{z}<extra></extra>\", \"legendgroup\": \"9\", \"line\": {\"color\": \"#FECB52\", \"dash\": \"solid\"}, \"mode\": \"lines\", \"name\": \"9\", \"scene\": \"scene\", \"showlegend\": true, \"type\": \"scatter3d\", \"x\": [-11.788619041442871, 1.6756600141525269], \"y\": [176.25830078125, 402.9289855957031], \"z\": [3705.091552734375, 3713.260009765625]}, {\"hovertemplate\": \"j=10<br>x=%{x}<br>y=%{y}<br>z=%{z}<extra></extra>\", \"legendgroup\": \"10\", \"line\": {\"color\": \"#636efa\", \"dash\": \"solid\"}, \"mode\": \"lines\", \"name\": \"10\", \"scene\": \"scene\", \"showlegend\": true, \"type\": \"scatter3d\", \"x\": [65.50779724121094, 28.669300079345703], \"y\": [80.38999938964844, 53.32619857788086], \"z\": [3018.830078125, 3259.530029296875]}, {\"hovertemplate\": \"j=11<br>x=%{x}<br>y=%{y}<br>z=%{z}<extra></extra>\", \"legendgroup\": \"11\", \"line\": {\"color\": \"#EF553B\", \"dash\": \"solid\"}, \"mode\": \"lines\", \"name\": \"11\", \"scene\": \"scene\", \"showlegend\": true, \"type\": \"scatter3d\", \"x\": [28.669300079345703, 12.310500144958496], \"y\": [53.32619857788086, -6.891359806060791], \"z\": [3259.530029296875, 3570.300048828125]}, {\"hovertemplate\": \"j=12<br>x=%{x}<br>y=%{y}<br>z=%{z}<extra></extra>\", \"legendgroup\": \"12\", \"line\": {\"color\": \"#00cc96\", \"dash\": \"solid\"}, \"mode\": \"lines\", \"name\": \"12\", \"scene\": \"scene\", \"showlegend\": true, \"type\": \"scatter3d\", \"x\": [12.310500144958496, -1.8908100128173828], \"y\": [-6.891359806060791, -78.70860290527344], \"z\": [3570.300048828125, 3697.47998046875]}, {\"hovertemplate\": \"j=13<br>x=%{x}<br>y=%{y}<br>z=%{z}<extra></extra>\", \"legendgroup\": \"13\", \"line\": {\"color\": \"#ab63fa\", \"dash\": \"solid\"}, \"mode\": \"lines\", \"name\": \"13\", \"scene\": \"scene\", \"showlegend\": true, \"type\": \"scatter3d\", \"x\": [-48.12269973754883, -48.932098388671875], \"y\": [29.967199325561523, 9.39136028289795], \"z\": [4383.52001953125, 4139.3798828125]}, {\"hovertemplate\": \"j=14<br>x=%{x}<br>y=%{y}<br>z=%{z}<extra></extra>\", \"legendgroup\": \"14\", \"line\": {\"color\": \"#FFA15A\", \"dash\": \"solid\"}, \"mode\": \"lines\", \"name\": \"14\", \"scene\": \"scene\", \"showlegend\": true, \"type\": \"scatter3d\", \"x\": [-48.932098388671875, -21.93589973449707], \"y\": [9.39136028289795, 6.564700126647949], \"z\": [4139.3798828125, 3823.570068359375]}, {\"hovertemplate\": \"j=15<br>x=%{x}<br>y=%{y}<br>z=%{z}<extra></extra>\", \"legendgroup\": \"15\", \"line\": {\"color\": \"#19d3f3\", \"dash\": \"solid\"}, \"mode\": \"lines\", \"name\": \"15\", \"scene\": \"scene\", \"showlegend\": true, \"type\": \"scatter3d\", \"x\": [-21.93589973449707, -1.8908100128173828], \"y\": [6.564700126647949, -78.70860290527344], \"z\": [3823.570068359375, 3697.47998046875]}],\n",
       "                        {\"legend\": {\"title\": {\"text\": \"j\"}, \"tracegroupgap\": 0}, \"scene\": {\"domain\": {\"x\": [0.0, 1.0], \"y\": [0.0, 1.0]}, \"xaxis\": {\"title\": {\"text\": \"x\"}}, \"yaxis\": {\"title\": {\"text\": \"y\"}}, \"zaxis\": {\"title\": {\"text\": \"z\"}}}, \"template\": {\"data\": {\"bar\": [{\"error_x\": {\"color\": \"#2a3f5f\"}, \"error_y\": {\"color\": \"#2a3f5f\"}, \"marker\": {\"line\": {\"color\": \"#E5ECF6\", \"width\": 0.5}}, \"type\": \"bar\"}], \"barpolar\": [{\"marker\": {\"line\": {\"color\": \"#E5ECF6\", \"width\": 0.5}}, \"type\": \"barpolar\"}], \"carpet\": [{\"aaxis\": {\"endlinecolor\": \"#2a3f5f\", \"gridcolor\": \"white\", \"linecolor\": \"white\", \"minorgridcolor\": \"white\", \"startlinecolor\": \"#2a3f5f\"}, \"baxis\": {\"endlinecolor\": \"#2a3f5f\", \"gridcolor\": \"white\", \"linecolor\": \"white\", \"minorgridcolor\": \"white\", \"startlinecolor\": \"#2a3f5f\"}, \"type\": \"carpet\"}], \"choropleth\": [{\"colorbar\": {\"outlinewidth\": 0, \"ticks\": \"\"}, \"type\": \"choropleth\"}], \"contour\": [{\"colorbar\": {\"outlinewidth\": 0, \"ticks\": \"\"}, \"colorscale\": [[0.0, \"#0d0887\"], [0.1111111111111111, \"#46039f\"], [0.2222222222222222, \"#7201a8\"], [0.3333333333333333, \"#9c179e\"], [0.4444444444444444, \"#bd3786\"], [0.5555555555555556, \"#d8576b\"], [0.6666666666666666, \"#ed7953\"], [0.7777777777777778, \"#fb9f3a\"], [0.8888888888888888, \"#fdca26\"], [1.0, \"#f0f921\"]], \"type\": \"contour\"}], \"contourcarpet\": [{\"colorbar\": {\"outlinewidth\": 0, \"ticks\": \"\"}, \"type\": \"contourcarpet\"}], \"heatmap\": [{\"colorbar\": {\"outlinewidth\": 0, \"ticks\": \"\"}, \"colorscale\": [[0.0, \"#0d0887\"], [0.1111111111111111, \"#46039f\"], [0.2222222222222222, \"#7201a8\"], [0.3333333333333333, \"#9c179e\"], [0.4444444444444444, \"#bd3786\"], [0.5555555555555556, \"#d8576b\"], [0.6666666666666666, \"#ed7953\"], [0.7777777777777778, \"#fb9f3a\"], [0.8888888888888888, \"#fdca26\"], [1.0, \"#f0f921\"]], \"type\": \"heatmap\"}], \"heatmapgl\": [{\"colorbar\": {\"outlinewidth\": 0, \"ticks\": \"\"}, \"colorscale\": [[0.0, \"#0d0887\"], [0.1111111111111111, \"#46039f\"], [0.2222222222222222, \"#7201a8\"], [0.3333333333333333, \"#9c179e\"], [0.4444444444444444, \"#bd3786\"], [0.5555555555555556, \"#d8576b\"], [0.6666666666666666, \"#ed7953\"], [0.7777777777777778, \"#fb9f3a\"], [0.8888888888888888, \"#fdca26\"], [1.0, \"#f0f921\"]], \"type\": \"heatmapgl\"}], \"histogram\": [{\"marker\": {\"colorbar\": {\"outlinewidth\": 0, \"ticks\": \"\"}}, \"type\": \"histogram\"}], \"histogram2d\": [{\"colorbar\": {\"outlinewidth\": 0, \"ticks\": \"\"}, \"colorscale\": [[0.0, \"#0d0887\"], [0.1111111111111111, \"#46039f\"], [0.2222222222222222, \"#7201a8\"], [0.3333333333333333, \"#9c179e\"], [0.4444444444444444, \"#bd3786\"], [0.5555555555555556, \"#d8576b\"], [0.6666666666666666, \"#ed7953\"], [0.7777777777777778, \"#fb9f3a\"], [0.8888888888888888, \"#fdca26\"], [1.0, \"#f0f921\"]], \"type\": \"histogram2d\"}], \"histogram2dcontour\": [{\"colorbar\": {\"outlinewidth\": 0, \"ticks\": \"\"}, \"colorscale\": [[0.0, \"#0d0887\"], [0.1111111111111111, \"#46039f\"], [0.2222222222222222, \"#7201a8\"], [0.3333333333333333, \"#9c179e\"], [0.4444444444444444, \"#bd3786\"], [0.5555555555555556, \"#d8576b\"], [0.6666666666666666, \"#ed7953\"], [0.7777777777777778, \"#fb9f3a\"], [0.8888888888888888, \"#fdca26\"], [1.0, \"#f0f921\"]], \"type\": \"histogram2dcontour\"}], \"mesh3d\": [{\"colorbar\": {\"outlinewidth\": 0, \"ticks\": \"\"}, \"type\": \"mesh3d\"}], \"parcoords\": [{\"line\": {\"colorbar\": {\"outlinewidth\": 0, \"ticks\": \"\"}}, \"type\": \"parcoords\"}], \"pie\": [{\"automargin\": true, \"type\": \"pie\"}], \"scatter\": [{\"marker\": {\"colorbar\": {\"outlinewidth\": 0, \"ticks\": \"\"}}, \"type\": \"scatter\"}], \"scatter3d\": [{\"line\": {\"colorbar\": {\"outlinewidth\": 0, \"ticks\": \"\"}}, \"marker\": {\"colorbar\": {\"outlinewidth\": 0, \"ticks\": \"\"}}, \"type\": \"scatter3d\"}], \"scattercarpet\": [{\"marker\": {\"colorbar\": {\"outlinewidth\": 0, \"ticks\": \"\"}}, \"type\": \"scattercarpet\"}], \"scattergeo\": [{\"marker\": {\"colorbar\": {\"outlinewidth\": 0, \"ticks\": \"\"}}, \"type\": \"scattergeo\"}], \"scattergl\": [{\"marker\": {\"colorbar\": {\"outlinewidth\": 0, \"ticks\": \"\"}}, \"type\": \"scattergl\"}], \"scattermapbox\": [{\"marker\": {\"colorbar\": {\"outlinewidth\": 0, \"ticks\": \"\"}}, \"type\": \"scattermapbox\"}], \"scatterpolar\": [{\"marker\": {\"colorbar\": {\"outlinewidth\": 0, \"ticks\": \"\"}}, \"type\": \"scatterpolar\"}], \"scatterpolargl\": [{\"marker\": {\"colorbar\": {\"outlinewidth\": 0, \"ticks\": \"\"}}, \"type\": \"scatterpolargl\"}], \"scatterternary\": [{\"marker\": {\"colorbar\": {\"outlinewidth\": 0, \"ticks\": \"\"}}, \"type\": \"scatterternary\"}], \"surface\": [{\"colorbar\": {\"outlinewidth\": 0, \"ticks\": \"\"}, \"colorscale\": [[0.0, \"#0d0887\"], [0.1111111111111111, \"#46039f\"], [0.2222222222222222, \"#7201a8\"], [0.3333333333333333, \"#9c179e\"], [0.4444444444444444, \"#bd3786\"], [0.5555555555555556, \"#d8576b\"], [0.6666666666666666, \"#ed7953\"], [0.7777777777777778, \"#fb9f3a\"], [0.8888888888888888, \"#fdca26\"], [1.0, \"#f0f921\"]], \"type\": \"surface\"}], \"table\": [{\"cells\": {\"fill\": {\"color\": \"#EBF0F8\"}, \"line\": {\"color\": \"white\"}}, \"header\": {\"fill\": {\"color\": \"#C8D4E3\"}, \"line\": {\"color\": \"white\"}}, \"type\": \"table\"}]}, \"layout\": {\"annotationdefaults\": {\"arrowcolor\": \"#2a3f5f\", \"arrowhead\": 0, \"arrowwidth\": 1}, \"coloraxis\": {\"colorbar\": {\"outlinewidth\": 0, \"ticks\": \"\"}}, \"colorscale\": {\"diverging\": [[0, \"#8e0152\"], [0.1, \"#c51b7d\"], [0.2, \"#de77ae\"], [0.3, \"#f1b6da\"], [0.4, \"#fde0ef\"], [0.5, \"#f7f7f7\"], [0.6, \"#e6f5d0\"], [0.7, \"#b8e186\"], [0.8, \"#7fbc41\"], [0.9, \"#4d9221\"], [1, \"#276419\"]], \"sequential\": [[0.0, \"#0d0887\"], [0.1111111111111111, \"#46039f\"], [0.2222222222222222, \"#7201a8\"], [0.3333333333333333, \"#9c179e\"], [0.4444444444444444, \"#bd3786\"], [0.5555555555555556, \"#d8576b\"], [0.6666666666666666, \"#ed7953\"], [0.7777777777777778, \"#fb9f3a\"], [0.8888888888888888, \"#fdca26\"], [1.0, \"#f0f921\"]], \"sequentialminus\": [[0.0, \"#0d0887\"], [0.1111111111111111, \"#46039f\"], [0.2222222222222222, \"#7201a8\"], [0.3333333333333333, \"#9c179e\"], [0.4444444444444444, \"#bd3786\"], [0.5555555555555556, \"#d8576b\"], [0.6666666666666666, \"#ed7953\"], [0.7777777777777778, \"#fb9f3a\"], [0.8888888888888888, \"#fdca26\"], [1.0, \"#f0f921\"]]}, \"colorway\": [\"#636efa\", \"#EF553B\", \"#00cc96\", \"#ab63fa\", \"#FFA15A\", \"#19d3f3\", \"#FF6692\", \"#B6E880\", \"#FF97FF\", \"#FECB52\"], \"font\": {\"color\": \"#2a3f5f\"}, \"geo\": {\"bgcolor\": \"white\", \"lakecolor\": \"white\", \"landcolor\": \"#E5ECF6\", \"showlakes\": true, \"showland\": true, \"subunitcolor\": \"white\"}, \"hoverlabel\": {\"align\": \"left\"}, \"hovermode\": \"closest\", \"mapbox\": {\"style\": \"light\"}, \"paper_bgcolor\": \"white\", \"plot_bgcolor\": \"#E5ECF6\", \"polar\": {\"angularaxis\": {\"gridcolor\": \"white\", \"linecolor\": \"white\", \"ticks\": \"\"}, \"bgcolor\": \"#E5ECF6\", \"radialaxis\": {\"gridcolor\": \"white\", \"linecolor\": \"white\", \"ticks\": \"\"}}, \"scene\": {\"xaxis\": {\"backgroundcolor\": \"#E5ECF6\", \"gridcolor\": \"white\", \"gridwidth\": 2, \"linecolor\": \"white\", \"showbackground\": true, \"ticks\": \"\", \"zerolinecolor\": \"white\"}, \"yaxis\": {\"backgroundcolor\": \"#E5ECF6\", \"gridcolor\": \"white\", \"gridwidth\": 2, \"linecolor\": \"white\", \"showbackground\": true, \"ticks\": \"\", \"zerolinecolor\": \"white\"}, \"zaxis\": {\"backgroundcolor\": \"#E5ECF6\", \"gridcolor\": \"white\", \"gridwidth\": 2, \"linecolor\": \"white\", \"showbackground\": true, \"ticks\": \"\", \"zerolinecolor\": \"white\"}}, \"shapedefaults\": {\"line\": {\"color\": \"#2a3f5f\"}}, \"ternary\": {\"aaxis\": {\"gridcolor\": \"white\", \"linecolor\": \"white\", \"ticks\": \"\"}, \"baxis\": {\"gridcolor\": \"white\", \"linecolor\": \"white\", \"ticks\": \"\"}, \"bgcolor\": \"#E5ECF6\", \"caxis\": {\"gridcolor\": \"white\", \"linecolor\": \"white\", \"ticks\": \"\"}}, \"title\": {\"x\": 0.05}, \"xaxis\": {\"automargin\": true, \"gridcolor\": \"white\", \"linecolor\": \"white\", \"ticks\": \"\", \"title\": {\"standoff\": 15}, \"zerolinecolor\": \"white\", \"zerolinewidth\": 2}, \"yaxis\": {\"automargin\": true, \"gridcolor\": \"white\", \"linecolor\": \"white\", \"ticks\": \"\", \"title\": {\"standoff\": 15}, \"zerolinecolor\": \"white\", \"zerolinewidth\": 2}}}, \"title\": {\"text\": \"Original\"}},\n",
       "                        {\"responsive\": true}\n",
       "                    ).then(function(){\n",
       "                            \n",
       "var gd = document.getElementById('7dba2567-7065-42e9-b104-3104360c94a9');\n",
       "var x = new MutationObserver(function (mutations, observer) {{\n",
       "        var display = window.getComputedStyle(gd).display;\n",
       "        if (!display || display === 'none') {{\n",
       "            console.log([gd, 'removed!']);\n",
       "            Plotly.purge(gd);\n",
       "            observer.disconnect();\n",
       "        }}\n",
       "}});\n",
       "\n",
       "// Listen for the removal of the full notebook cells\n",
       "var notebookContainer = gd.closest('#notebook-container');\n",
       "if (notebookContainer) {{\n",
       "    x.observe(notebookContainer, {childList: true});\n",
       "}}\n",
       "\n",
       "// Listen for the clearing of the current output cell\n",
       "var outputEl = gd.closest('.output');\n",
       "if (outputEl) {{\n",
       "    x.observe(outputEl, {childList: true});\n",
       "}}\n",
       "\n",
       "                        })\n",
       "                };\n",
       "                });\n",
       "            </script>\n",
       "        </div>"
      ]
     },
     "metadata": {},
     "output_type": "display_data"
    }
   ],
   "source": [
    "import plotly.express as px\n",
    "# df = px.data.iris()\n",
    "# fig = px.scatter_3d(df, x='x', y='y', z='z')\n",
    "fig = px.line_3d(df, x=\"x\", y=\"y\", z=\"z\", color='j', title='Original')\n",
    "fig.show()"
   ]
  },
  {
   "cell_type": "code",
   "execution_count": null,
   "metadata": {},
   "outputs": [],
   "source": []
  }
 ],
 "metadata": {
  "kernelspec": {
   "display_name": "Python 3",
   "language": "python",
   "name": "python3"
  },
  "language_info": {
   "codemirror_mode": {
    "name": "ipython",
    "version": 3
   },
   "file_extension": ".py",
   "mimetype": "text/x-python",
   "name": "python",
   "nbconvert_exporter": "python",
   "pygments_lexer": "ipython3",
   "version": "3.7.6"
  },
  "toc": {
   "base_numbering": 1,
   "nav_menu": {},
   "number_sections": false,
   "sideBar": true,
   "skip_h1_title": false,
   "title_cell": "Table of Contents",
   "title_sidebar": "Contents",
   "toc_cell": false,
   "toc_position": {},
   "toc_section_display": true,
   "toc_window_display": false
  }
 },
 "nbformat": 4,
 "nbformat_minor": 4
}
