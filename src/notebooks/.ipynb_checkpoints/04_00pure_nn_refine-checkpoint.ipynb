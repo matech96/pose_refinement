{
 "cells": [
  {
   "cell_type": "code",
   "execution_count": 19,
   "metadata": {},
   "outputs": [],
   "source": [
    "import os\n",
    "os.chdir('..')"
   ]
  },
  {
   "cell_type": "code",
   "execution_count": 2,
   "metadata": {},
   "outputs": [],
   "source": [
    "import torch\n",
    "import numpy as np\n",
    "\n",
    "from util.misc import load\n",
    "from model.videopose import TemporalModel\n",
    "from model.pose_refinement import abs_to_hiprel, gmloss, capped_l2, capped_l2_euc_err, step_zero_velocity_loss\n",
    "from databases.joint_sets import MuPoTSJoints\n",
    "from databases.datasets import PersonStackedMuPoTsDataset\n",
    "from training.preprocess import get_postprocessor, SaveableCompose, MeanNormalize3D\n",
    "from training.callbacks import TemporalMupotsEvaluator\n",
    "from training.loaders import UnchunkedGenerator\n",
    "from training.torch_tools import get_optimizer\n",
    "\n",
    "LOG_PATH = \"../models\""
   ]
  },
  {
   "cell_type": "code",
   "execution_count": 3,
   "metadata": {},
   "outputs": [],
   "source": [
    "model_name = \"29cbfa0fc1774b9cbb06a3573b7fb711\""
   ]
  },
  {
   "cell_type": "code",
   "execution_count": 4,
   "metadata": {},
   "outputs": [],
   "source": [
    "def load_model(model_folder):\n",
    "    config = load(os.path.join(LOG_PATH, model_folder, \"config.json\"))\n",
    "    path = os.path.join(LOG_PATH, model_folder, \"model_params.pkl\")\n",
    "\n",
    "    # Input/output size calculation is hacky\n",
    "    weights = torch.load(path)\n",
    "    num_in_features = weights[\"expand_conv.weight\"].shape[1]\n",
    "\n",
    "    m = TemporalModel(\n",
    "        num_in_features,\n",
    "        MuPoTSJoints.NUM_JOINTS,\n",
    "        config[\"model\"][\"filter_widths\"],\n",
    "        dropout=config[\"model\"][\"dropout\"],\n",
    "        channels=config[\"model\"][\"channels\"],\n",
    "        layernorm=config[\"model\"][\"layernorm\"],\n",
    "    )\n",
    "\n",
    "    m.cuda()\n",
    "    m.load_state_dict(weights)\n",
    "    m.eval()\n",
    "\n",
    "    return config, m"
   ]
  },
  {
   "cell_type": "code",
   "execution_count": 5,
   "metadata": {},
   "outputs": [],
   "source": [
    "def get_dataset(config):\n",
    "    return PersonStackedMuPoTsDataset(\n",
    "        config[\"pose2d_type\"],\n",
    "        config.get(\"pose3d_scaling\", \"normal\"),\n",
    "        pose_validity=\"all\",\n",
    "    )"
   ]
  },
  {
   "cell_type": "code",
   "execution_count": 6,
   "metadata": {},
   "outputs": [],
   "source": [
    "config, model = load_model(model_name)"
   ]
  },
  {
   "cell_type": "code",
   "execution_count": 7,
   "metadata": {},
   "outputs": [],
   "source": [
    "test_set = get_dataset(config)"
   ]
  },
  {
   "cell_type": "code",
   "execution_count": 8,
   "metadata": {},
   "outputs": [],
   "source": [
    "def extract_post(model_name, test_set):\n",
    "    params_path = os.path.join(LOG_PATH, str(model_name), \"preprocess_params.pkl\")\n",
    "    transform = SaveableCompose.from_file(params_path, test_set, globals())\n",
    "    test_set.transform = transform\n",
    "\n",
    "    assert isinstance(transform.transforms[1].normalizer, MeanNormalize3D)\n",
    "    normalizer3d = transform.transforms[1].normalizer\n",
    "\n",
    "    return get_postprocessor(config, test_set, normalizer3d)"
   ]
  },
  {
   "cell_type": "code",
   "execution_count": 9,
   "metadata": {},
   "outputs": [],
   "source": [
    "post_process_func = extract_post(model_name, test_set)"
   ]
  },
  {
   "cell_type": "code",
   "execution_count": 10,
   "metadata": {},
   "outputs": [],
   "source": [
    "pad = (model.receptive_field() - 1) // 2\n",
    "generator = UnchunkedGenerator(test_set, pad, True)\n",
    "seqs = sorted(np.unique(test_set.index.seq))"
   ]
  },
  {
   "cell_type": "code",
   "execution_count": 11,
   "metadata": {},
   "outputs": [],
   "source": [
    "preds = {}\n",
    "# losses = {}\n",
    "for i, (pose2d, valid) in enumerate(generator):\n",
    "    seq = seqs[i]\n",
    "    pred3d = model(torch.from_numpy(pose2d).cuda())\n",
    "    valid = valid[0]\n",
    "#     losses[seq] = self.loss(pred3d[0][valid], self.preprocessed3d[seq]) # .cpu().numpy()\n",
    "\n",
    "    pred_real_pose = post_process_func(pred3d[0], seq)  # unnormalized output\n",
    "\n",
    "    pred_real_pose_aug = post_process_func(pred3d[1], seq)\n",
    "    pred_real_pose_aug[:, :, 0] *= -1\n",
    "    pred_real_pose_aug = test_set.pose3d_jointset.flip(pred_real_pose_aug)\n",
    "    pred_real_pose = (pred_real_pose + pred_real_pose_aug) / 2\n",
    "\n",
    "    preds[seq] = pred_real_pose[valid]\n",
    "    break"
   ]
  },
  {
   "cell_type": "code",
   "execution_count": 13,
   "metadata": {},
   "outputs": [],
   "source": [
    "preds = TemporalMupotsEvaluator._group_by_seq(preds)"
   ]
  },
  {
   "cell_type": "code",
   "execution_count": 14,
   "metadata": {},
   "outputs": [],
   "source": [
    "refine_config = load(\"../models/pose_refine_config.json\")"
   ]
  },
  {
   "cell_type": "code",
   "execution_count": 15,
   "metadata": {},
   "outputs": [],
   "source": [
    "pred = torch.cat(([preds[i] for i in range(1, 21)]))"
   ]
  },
  {
   "cell_type": "code",
   "execution_count": 17,
   "metadata": {},
   "outputs": [
    {
     "name": "stdout",
     "output_type": "stream",
     "text": [
      "tensor(0.4613, device='cuda:0', grad_fn=<AddBackward0>)\n"
     ]
    }
   ],
   "source": [
    "joint_set = MuPoTSJoints()\n",
    "seqs = np.unique(test_set.index.seq)\n",
    "losses = []\n",
    "\n",
    "for seq in seqs:\n",
    "    inds = test_set.index.seq == seq # (20899,)\n",
    "\n",
    "    poses_pred = abs_to_hiprel(pred[inds], joint_set) / 1000 # (201, 17, 3)\n",
    "\n",
    "    # interpolate invisible poses, if required\n",
    "    poses_init = poses_pred.detach().clone()\n",
    "\n",
    "    kp_score = np.mean(test_set.poses2d[inds, :, 2], axis=-1) # (201,)\n",
    "#     if refine_config['smooth_visibility']:\n",
    "#         kp_score = ndimage.median_filter(kp_score, 9)\n",
    "    kp_score = torch.from_numpy(kp_score).cuda() # [201]\n",
    "#     poses_init = torch.from_numpy(poses_init).cuda() # [201, 17, 3]\n",
    "#     poses_pred = torch.from_numpy(poses_pred).cuda() # [201, 17, 3]\n",
    "    scale = torch.ones((len(kp_score), 1, 1)) # torch.Size([201, 1, 1])\n",
    "\n",
    "    poses_init.requires_grad = False\n",
    "#     poses_pred.requires_grad = True # TODO set to False\n",
    "    kp_score.requires_grad = False\n",
    "    scale.requires_grad = False\n",
    "\n",
    "    optimizer = get_optimizer(model.parameters(), refine_config)\n",
    "\n",
    "    for i in range(refine_config['num_iter']):\n",
    "        optimizer.zero_grad()\n",
    "        # smoothing formulation\n",
    "        if refine_config['pose_loss'] == 'gm':\n",
    "            pose_loss = torch.sum(kp_score.view(-1, 1, 1) * gmloss(poses_pred - poses_init, refine_config['gm_alpha']))\n",
    "        elif refine_config['pose_loss'] == 'capped_l2':\n",
    "            pose_loss = torch.sum(kp_score.view(-1, 1, 1) * capped_l2(poses_pred - poses_init,\n",
    "                                                                      torch.tensor(refine_config['l2_cap']).float().cuda()))\n",
    "        elif refine_config['pose_loss'] == 'capped_l2_euc_err':\n",
    "            pose_loss = torch.sum(kp_score.view(-1, 1) * capped_l2_euc_err(poses_pred, poses_init,\n",
    "                                                                           torch.tensor(refine_config['l2_cap']).float().cuda()))\n",
    "        else:\n",
    "            raise NotImplementedError('Unknown pose_loss' + refine_config['pose_loss'])\n",
    "\n",
    "        velocity_loss_hip = torch.sum(globals()[refine_config['smoothness_loss_hip']](poses_pred[:, [0], :], 1))\n",
    "\n",
    "        step = refine_config['smoothness_loss_hip_largestep']\n",
    "        vel_loss = globals()[refine_config['smoothness_loss_hip']](poses_pred[:, [0], :], step)\n",
    "        velocity_loss_hip_large = torch.sum((1 - kp_score[-len(vel_loss):]) * vel_loss)\n",
    "\n",
    "        velocity_loss_rel = torch.sum(globals()[refine_config['smoothness_loss_rel']](poses_pred[:, 1:, :], 1))\n",
    "        vel_loss = globals()[refine_config['smoothness_loss_rel']](poses_pred[:, 1:, :], step)\n",
    "        velocity_loss_rel_large = torch.sum((1 - kp_score[-len(vel_loss):]) * vel_loss)\n",
    "\n",
    "        total_loss = pose_loss + refine_config['smoothness_weight_hip'] * velocity_loss_hip \\\n",
    "                     + refine_config['smoothness_weight_hip_large'] * velocity_loss_hip_large \\\n",
    "                     + refine_config['smoothness_weight_rel'] * velocity_loss_rel \\\n",
    "                     + refine_config['smoothness_weight_rel_large'] * velocity_loss_rel_large\n",
    "\n",
    "#         np.savez(\"pose_ref.npz\",\n",
    "#             total_loss=total_loss.detach().cpu(),\n",
    "#             pose_loss=pose_loss.detach().cpu(),\n",
    "#             velocity_loss_hip=velocity_loss_hip.detach().cpu(),\n",
    "#             velocity_loss_hip_large=velocity_loss_hip_large.detach().cpu(),\n",
    "#             velocity_loss_rel=velocity_loss_rel.detach().cpu(),\n",
    "#             velocity_loss_rel_large=velocity_loss_rel_large.detach().cpu(),\n",
    "#         )\n",
    "#         exit()\n",
    "\n",
    "        total_loss.backward()\n",
    "        print(total_loss)\n",
    "\n",
    "        optimizer.step()\n",
    "        break\n",
    "\n",
    "#     poses_init = poses_init.detach().cpu().numpy() * 1000\n",
    "#     poses_pred = poses_pred.detach().cpu().numpy() * 1000\n",
    "\n",
    "#     poses_init = add_back_hip(poses_init, joint_set)\n",
    "#     poses_pred = add_back_hip(poses_pred, joint_set)\n",
    "#     smoothed_pred[inds] = poses_pred\n",
    "\n",
    "#     losses.append(total_loss.item())\n",
    "    break\n",
    "\n",
    "# if _config.get('print_loss', False):\n",
    "#     print('Avg loss:', np.mean(losses))\n",
    "# return smoothed_pred\n"
   ]
  },
  {
   "cell_type": "code",
   "execution_count": 18,
   "metadata": {},
   "outputs": [
    {
     "data": {
      "text/plain": [
       "{'total_loss': tensor(0.4613),\n",
       " 'pose_loss': tensor(0.),\n",
       " 'velocity_loss_hip': tensor(0.1158),\n",
       " 'velocity_loss_hip_large': tensor(2.2362),\n",
       " 'velocity_loss_rel': tensor(0.6145),\n",
       " 'velocity_loss_rel_large': tensor(6.0439)}"
      ]
     },
     "execution_count": 18,
     "metadata": {},
     "output_type": "execute_result"
    }
   ],
   "source": [
    "{'total_loss': total_loss.detach().cpu(),\n",
    "'pose_loss': pose_loss.detach().cpu(),\n",
    "'velocity_loss_hip': velocity_loss_hip.detach().cpu(),\n",
    "'velocity_loss_hip_large': velocity_loss_hip_large.detach().cpu(),\n",
    "'velocity_loss_rel': velocity_loss_rel.detach().cpu(),\n",
    "'velocity_loss_rel_large': velocity_loss_rel_large.detach().cpu()}"
   ]
  },
  {
   "cell_type": "code",
   "execution_count": null,
   "metadata": {},
   "outputs": [],
   "source": []
  }
 ],
 "metadata": {
  "kernelspec": {
   "display_name": "Python 3",
   "language": "python",
   "name": "python3"
  },
  "language_info": {
   "codemirror_mode": {
    "name": "ipython",
    "version": 3
   },
   "file_extension": ".py",
   "mimetype": "text/x-python",
   "name": "python",
   "nbconvert_exporter": "python",
   "pygments_lexer": "ipython3",
   "version": "3.7.6"
  }
 },
 "nbformat": 4,
 "nbformat_minor": 4
}
