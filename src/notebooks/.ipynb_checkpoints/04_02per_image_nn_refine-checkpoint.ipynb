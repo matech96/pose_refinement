{
 "cells": [
  {
   "cell_type": "code",
   "execution_count": 1,
   "metadata": {},
   "outputs": [],
   "source": [
    "import os\n",
    "os.chdir('..')"
   ]
  },
  {
   "cell_type": "code",
   "execution_count": 2,
   "metadata": {},
   "outputs": [],
   "source": [
    "import torch\n",
    "import numpy as np\n",
    "import copy\n",
    "\n",
    "from util.misc import load\n",
    "from model.videopose import TemporalModel\n",
    "from model.pose_refinement import abs_to_hiprel, add_back_hip, gmloss, capped_l2, capped_l2_euc_err, step_zero_velocity_loss\n",
    "from databases.joint_sets import MuPoTSJoints\n",
    "from databases.datasets import PersonStackedMuPoTsDataset\n",
    "from training.preprocess import get_postprocessor, SaveableCompose, MeanNormalize3D\n",
    "from training.callbacks import TemporalMupotsEvaluator\n",
    "from training.loaders import UnchunkedGenerator\n",
    "from training.torch_tools import get_optimizer\n",
    "\n",
    "LOG_PATH = \"../models\""
   ]
  },
  {
   "cell_type": "code",
   "execution_count": 3,
   "metadata": {},
   "outputs": [],
   "source": [
    "model_name = \"29cbfa0fc1774b9cbb06a3573b7fb711\""
   ]
  },
  {
   "cell_type": "code",
   "execution_count": 4,
   "metadata": {},
   "outputs": [],
   "source": [
    "def load_model(model_folder):\n",
    "    config = load(os.path.join(LOG_PATH, model_folder, \"config.json\"))\n",
    "    path = os.path.join(LOG_PATH, model_folder, \"model_params.pkl\")\n",
    "\n",
    "    # Input/output size calculation is hacky\n",
    "    weights = torch.load(path)\n",
    "    num_in_features = weights[\"expand_conv.weight\"].shape[1]\n",
    "\n",
    "    m = TemporalModel(\n",
    "        num_in_features,\n",
    "        MuPoTSJoints.NUM_JOINTS,\n",
    "        config[\"model\"][\"filter_widths\"],\n",
    "        dropout=config[\"model\"][\"dropout\"],\n",
    "        channels=config[\"model\"][\"channels\"],\n",
    "        layernorm=config[\"model\"][\"layernorm\"],\n",
    "    )\n",
    "\n",
    "    m.cuda()\n",
    "    m.load_state_dict(weights)\n",
    "    m.eval()\n",
    "\n",
    "    return config, m"
   ]
  },
  {
   "cell_type": "code",
   "execution_count": 5,
   "metadata": {},
   "outputs": [],
   "source": [
    "def get_dataset(config):\n",
    "    return PersonStackedMuPoTsDataset(\n",
    "        config[\"pose2d_type\"],\n",
    "        config.get(\"pose3d_scaling\", \"normal\"),\n",
    "        pose_validity=\"all\",\n",
    "    )"
   ]
  },
  {
   "cell_type": "code",
   "execution_count": 6,
   "metadata": {},
   "outputs": [],
   "source": [
    "config, model = load_model(model_name)"
   ]
  },
  {
   "cell_type": "code",
   "execution_count": 7,
   "metadata": {},
   "outputs": [],
   "source": [
    "test_set = get_dataset(config)"
   ]
  },
  {
   "cell_type": "code",
   "execution_count": 8,
   "metadata": {},
   "outputs": [],
   "source": [
    "refine_config = load(\"../models/pose_refine_config.json\")\n",
    "joint_set = MuPoTSJoints()"
   ]
  },
  {
   "cell_type": "code",
   "execution_count": 9,
   "metadata": {},
   "outputs": [],
   "source": [
    "def extract_post(model_name, test_set):\n",
    "    params_path = os.path.join(LOG_PATH, str(model_name), \"preprocess_params.pkl\")\n",
    "    transform = SaveableCompose.from_file(params_path, test_set, globals())\n",
    "    test_set.transform = transform\n",
    "\n",
    "    assert isinstance(transform.transforms[1].normalizer, MeanNormalize3D)\n",
    "    normalizer3d = transform.transforms[1].normalizer\n",
    "\n",
    "    return get_postprocessor(config, test_set, normalizer3d)"
   ]
  },
  {
   "cell_type": "code",
   "execution_count": 10,
   "metadata": {},
   "outputs": [],
   "source": [
    "post_process_func = extract_post(model_name, test_set)"
   ]
  },
  {
   "cell_type": "code",
   "execution_count": 11,
   "metadata": {},
   "outputs": [],
   "source": [
    "pad = (model.receptive_field() - 1) // 2\n",
    "generator = UnchunkedGenerator(test_set, pad, True)\n",
    "seqs = sorted(np.unique(test_set.index.seq))"
   ]
  },
  {
   "cell_type": "code",
   "execution_count": 12,
   "metadata": {},
   "outputs": [],
   "source": [
    "refine_config['learning_rate'] = 0.0001"
   ]
  },
  {
   "cell_type": "code",
   "execution_count": 13,
   "metadata": {},
   "outputs": [],
   "source": [
    "# losses = {}\n",
    "optimized_preds_list = []\n",
    "for i, (pose2d, valid) in enumerate(generator):\n",
    "    for j in range(valid.shape[-1]):\n",
    "        if (j+1) > (valid.shape[-1] - refine_config['smoothness_loss_hip_largestep']):\n",
    "            reverse = True\n",
    "            f = j - refine_config['smoothness_loss_hip_largestep']\n",
    "            t = j + 1\n",
    "        else:\n",
    "            reverse = False\n",
    "            f = j\n",
    "            t = f + refine_config['smoothness_loss_hip_largestep'] + 1\n",
    "#         print(f, t)\n",
    "        model_ = copy.deepcopy(model)\n",
    "        optimizer = get_optimizer(model_.parameters(), refine_config)\n",
    "        for k in range(2):  # refine_config['num_iter']):\n",
    "            optimizer.zero_grad()\n",
    "\n",
    "            seq = seqs[i]\n",
    "            pred3d = model_(torch.from_numpy(pose2d[:,f:t+2*pad,:]).cuda())\n",
    "            valid_ = valid[0][f:t]\n",
    "        #     losses[seq] = self.loss(pred3d[0][valid], self.preprocessed3d[seq]) # .cpu().numpy()\n",
    "\n",
    "            pred_real_pose = post_process_func(pred3d[0], seq)#[f:t]  # unnormalized output\n",
    "\n",
    "            pred_real_pose_aug = post_process_func(pred3d[1], seq)#[f:t]\n",
    "            pred_real_pose_aug[:, :, 0] *= -1\n",
    "            pred_real_pose_aug = test_set.pose3d_jointset.flip(pred_real_pose_aug)\n",
    "            pred_real_pose = (pred_real_pose + pred_real_pose_aug) / 2\n",
    "\n",
    "\n",
    "            pred = pred_real_pose[valid_]\n",
    "\n",
    "            inds = test_set.index.seq == seq\n",
    "\n",
    "                # for seq in seqs:\n",
    "            poses_pred = abs_to_hiprel(pred, joint_set) / 1000 # (201, 17, 3)\n",
    "            if k == 0:\n",
    "                poses_init = poses_pred.detach().clone()\n",
    "                poses_init.requires_grad = False\n",
    "                kp_score = np.mean(test_set.poses2d[inds, :, 2], axis=-1)[f:t] # (201,)\n",
    "                #     if refine_config['smooth_visibility']:\n",
    "                #         kp_score = ndimage.median_filter(kp_score, 9)\n",
    "                kp_score = torch.from_numpy(kp_score).cuda() # [201]\n",
    "                scale = torch.ones((len(kp_score), 1, 1)) # torch.Size([201, 1, 1])\n",
    "\n",
    "                kp_score.requires_grad = False\n",
    "                scale.requires_grad = False\n",
    "\n",
    "\n",
    "            # smoothing formulation\n",
    "            if refine_config['pose_loss'] == 'gm':\n",
    "                pose_loss = torch.sum((kp_score.view(-1, 1, 1) * gmloss(poses_pred - poses_init, refine_config['gm_alpha']))[0, ])\n",
    "            elif refine_config['pose_loss'] == 'capped_l2':\n",
    "                pose_loss = torch.sum((kp_score.view(-1, 1, 1) * capped_l2(poses_pred - poses_init, torch.tensor(refine_config['l2_cap']).float().cuda()))[0, ])\n",
    "            elif refine_config['pose_loss'] == 'capped_l2_euc_err':\n",
    "                pose_loss = torch.sum((kp_score.view(-1, 1) * capped_l2_euc_err(poses_pred, poses_init,\n",
    "                                                                               torch.tensor(refine_config['l2_cap']).float().cuda()))[0, ])\n",
    "            else:\n",
    "                raise NotImplementedError('Unknown pose_loss' + refine_config['pose_loss'])\n",
    "\n",
    "            neighbour_dist_idx = 0 if not reverse else -1\n",
    "            velocity_loss_hip = globals()[refine_config['smoothness_loss_hip']](poses_pred[:, [0], :], 1)[[neighbour_dist_idx]]\n",
    "\n",
    "            step = refine_config['smoothness_loss_hip_largestep']\n",
    "            vel_loss = globals()[refine_config['smoothness_loss_hip']](poses_pred[:, [0], :], step)\n",
    "            velocity_loss_hip_large = (1 - kp_score[-len(vel_loss):]) * vel_loss\n",
    "\n",
    "            velocity_loss_rel = globals()[refine_config['smoothness_loss_rel']](poses_pred[:, 1:, :], 1)[[neighbour_dist_idx]]\n",
    "            vel_loss = globals()[refine_config['smoothness_loss_rel']](poses_pred[:, 1:, :], step)\n",
    "            velocity_loss_rel_large = (1 - kp_score[-len(vel_loss):]) * vel_loss\n",
    "\n",
    "            total_loss = pose_loss + refine_config['smoothness_weight_hip'] * velocity_loss_hip \\\n",
    "                         + refine_config['smoothness_weight_hip_large'] * velocity_loss_hip_large \\\n",
    "                         + refine_config['smoothness_weight_rel'] * velocity_loss_rel \\\n",
    "                         + refine_config['smoothness_weight_rel_large'] * velocity_loss_rel_large\n",
    "            total_loss.backward()\n",
    "#             print(total_loss.cpu().detach().numpy())\n",
    "\n",
    "            optimizer.step()\n",
    "        optimized_preds_list.append(poses_pred[[neighbour_dist_idx]].detach().cpu().numpy())\n",
    "#             break\n",
    "#         break\n",
    "#     break"
   ]
  },
  {
   "cell_type": "code",
   "execution_count": 14,
   "metadata": {},
   "outputs": [],
   "source": [
    "# optimized_preds_list = [o.detach().cpu().numpy() for o in optimized_preds_list]"
   ]
  },
  {
   "cell_type": "code",
   "execution_count": 19,
   "metadata": {},
   "outputs": [],
   "source": [
    "optimized_preds = np.concatenate(optimized_preds_list)"
   ]
  },
  {
   "cell_type": "code",
   "execution_count": 17,
   "metadata": {},
   "outputs": [
    {
     "data": {
      "text/plain": [
       "{'total_loss': tensor([0.0062]),\n",
       " 'pose_loss': tensor(0.0030),\n",
       " 'velocity_loss_hip': tensor([0.0001]),\n",
       " 'velocity_loss_hip_large': tensor([0.0192]),\n",
       " 'velocity_loss_rel': tensor([0.0006]),\n",
       " 'velocity_loss_rel_large': tensor([0.1095])}"
      ]
     },
     "execution_count": 17,
     "metadata": {},
     "output_type": "execute_result"
    }
   ],
   "source": [
    "{'total_loss': total_loss.detach().cpu(),\n",
    "'pose_loss': pose_loss.detach().cpu(),\n",
    "'velocity_loss_hip': velocity_loss_hip.detach().cpu(),\n",
    "'velocity_loss_hip_large': velocity_loss_hip_large.detach().cpu(),\n",
    "'velocity_loss_rel': velocity_loss_rel.detach().cpu(),\n",
    "'velocity_loss_rel_large': velocity_loss_rel_large.detach().cpu()}"
   ]
  },
  {
   "cell_type": "code",
   "execution_count": 21,
   "metadata": {},
   "outputs": [
    {
     "data": {
      "text/plain": [
       "(20899, 17, 3)"
      ]
     },
     "execution_count": 21,
     "metadata": {},
     "output_type": "execute_result"
    }
   ],
   "source": [
    "pred = optimized_preds"
   ]
  },
  {
   "cell_type": "code",
   "execution_count": 26,
   "metadata": {},
   "outputs": [
    {
     "data": {
      "text/plain": [
       "numpy.ndarray"
      ]
     },
     "execution_count": 26,
     "metadata": {},
     "output_type": "execute_result"
    }
   ],
   "source": [
    "type(optimized_preds)"
   ]
  },
  {
   "cell_type": "code",
   "execution_count": null,
   "metadata": {},
   "outputs": [],
   "source": [
    "np.save('mypred.py', optimized_preds)"
   ]
  },
  {
   "cell_type": "code",
   "execution_count": 22,
   "metadata": {},
   "outputs": [
    {
     "ename": "IndexError",
     "evalue": "The shape of the mask [20899] at index 0 does not match the shape of the indexed tensor [21, 17, 3] at index 0",
     "output_type": "error",
     "traceback": [
      "\u001b[0;31m---------------------------------------------------------------------------\u001b[0m",
      "\u001b[0;31mIndexError\u001b[0m                                Traceback (most recent call last)",
      "\u001b[0;32m<ipython-input-22-6cb0b5540ce6>\u001b[0m in \u001b[0;36m<module>\u001b[0;34m\u001b[0m\n\u001b[1;32m      3\u001b[0m \u001b[0;34m\u001b[0m\u001b[0m\n\u001b[1;32m      4\u001b[0m \u001b[0ml\u001b[0m \u001b[0;34m=\u001b[0m \u001b[0mStackedArrayAllMupotsEvaluator\u001b[0m\u001b[0;34m(\u001b[0m\u001b[0mpred\u001b[0m\u001b[0;34m,\u001b[0m \u001b[0mtest_set\u001b[0m\u001b[0;34m,\u001b[0m \u001b[0;32mTrue\u001b[0m\u001b[0;34m,\u001b[0m \u001b[0mprefix\u001b[0m\u001b[0;34m=\u001b[0m\u001b[0;34m\"R\"\u001b[0m\u001b[0;34m)\u001b[0m\u001b[0;34m\u001b[0m\u001b[0;34m\u001b[0m\u001b[0m\n\u001b[0;32m----> 5\u001b[0;31m \u001b[0ml\u001b[0m\u001b[0;34m.\u001b[0m\u001b[0meval\u001b[0m\u001b[0;34m(\u001b[0m\u001b[0mcalculate_scale_free\u001b[0m\u001b[0;34m=\u001b[0m\u001b[0;32mTrue\u001b[0m\u001b[0;34m,\u001b[0m \u001b[0mverbose\u001b[0m\u001b[0;34m=\u001b[0m\u001b[0;32mTrue\u001b[0m\u001b[0;34m)\u001b[0m\u001b[0;34m\u001b[0m\u001b[0;34m\u001b[0m\u001b[0m\n\u001b[0m\u001b[1;32m      6\u001b[0m \u001b[0;34m\u001b[0m\u001b[0m\n\u001b[1;32m      7\u001b[0m \u001b[0mpred_by_seq\u001b[0m \u001b[0;34m=\u001b[0m \u001b[0;34m{\u001b[0m\u001b[0;34m}\u001b[0m\u001b[0;34m\u001b[0m\u001b[0;34m\u001b[0m\u001b[0m\n",
      "\u001b[0;32m/workspace/src/training/callbacks.py\u001b[0m in \u001b[0;36meval\u001b[0;34m(self, model, calculate_scale_free, verbose)\u001b[0m\n\u001b[1;32m     79\u001b[0m         \u001b[0;34m:\u001b[0m\u001b[0;32mreturn\u001b[0m\u001b[0;34m:\u001b[0m\u001b[0;34m\u001b[0m\u001b[0;34m\u001b[0m\u001b[0m\n\u001b[1;32m     80\u001b[0m         \"\"\"\n\u001b[0;32m---> 81\u001b[0;31m         \u001b[0mlosses\u001b[0m\u001b[0;34m,\u001b[0m \u001b[0mpreds\u001b[0m \u001b[0;34m=\u001b[0m \u001b[0mself\u001b[0m\u001b[0;34m.\u001b[0m\u001b[0mpred_and_calc_loss\u001b[0m\u001b[0;34m(\u001b[0m\u001b[0mmodel\u001b[0m\u001b[0;34m)\u001b[0m\u001b[0;34m\u001b[0m\u001b[0;34m\u001b[0m\u001b[0m\n\u001b[0m\u001b[1;32m     82\u001b[0m         \u001b[0mlosses\u001b[0m \u001b[0;34m=\u001b[0m \u001b[0mnp\u001b[0m\u001b[0;34m.\u001b[0m\u001b[0mconcatenate\u001b[0m\u001b[0;34m(\u001b[0m\u001b[0;34m[\u001b[0m\u001b[0mlosses\u001b[0m\u001b[0;34m[\u001b[0m\u001b[0mseq\u001b[0m\u001b[0;34m]\u001b[0m \u001b[0;32mfor\u001b[0m \u001b[0mseq\u001b[0m \u001b[0;32min\u001b[0m \u001b[0mself\u001b[0m\u001b[0;34m.\u001b[0m\u001b[0msequences\u001b[0m\u001b[0;34m]\u001b[0m\u001b[0;34m)\u001b[0m\u001b[0;34m\u001b[0m\u001b[0;34m\u001b[0m\u001b[0m\n\u001b[1;32m     83\u001b[0m         \u001b[0mself\u001b[0m\u001b[0;34m.\u001b[0m\u001b[0mval_loss\u001b[0m \u001b[0;34m=\u001b[0m \u001b[0mnp\u001b[0m\u001b[0;34m.\u001b[0m\u001b[0mnanmean\u001b[0m\u001b[0;34m(\u001b[0m\u001b[0mlosses\u001b[0m\u001b[0;34m)\u001b[0m\u001b[0;34m\u001b[0m\u001b[0;34m\u001b[0m\u001b[0m\n",
      "\u001b[0;32m/workspace/src/model/pose_refinement.py\u001b[0m in \u001b[0;36mpred_and_calc_loss\u001b[0;34m(self, model)\u001b[0m\n\u001b[1;32m    123\u001b[0m                 \u001b[0minds\u001b[0m \u001b[0;34m=\u001b[0m \u001b[0minds\u001b[0m \u001b[0;34m&\u001b[0m \u001b[0mself\u001b[0m\u001b[0;34m.\u001b[0m\u001b[0mdataset\u001b[0m\u001b[0;34m.\u001b[0m\u001b[0mvalid_annotations\u001b[0m\u001b[0;34m\u001b[0m\u001b[0;34m\u001b[0m\u001b[0m\n\u001b[1;32m    124\u001b[0m \u001b[0;34m\u001b[0m\u001b[0m\n\u001b[0;32m--> 125\u001b[0;31m             \u001b[0mpreds\u001b[0m\u001b[0;34m[\u001b[0m\u001b[0mseq\u001b[0m\u001b[0;34m]\u001b[0m \u001b[0;34m=\u001b[0m \u001b[0mself\u001b[0m\u001b[0;34m.\u001b[0m\u001b[0mprediction\u001b[0m\u001b[0;34m[\u001b[0m\u001b[0minds\u001b[0m\u001b[0;34m]\u001b[0m\u001b[0;34m\u001b[0m\u001b[0;34m\u001b[0m\u001b[0m\n\u001b[0m\u001b[1;32m    126\u001b[0m             \u001b[0mlosses\u001b[0m\u001b[0;34m[\u001b[0m\u001b[0mseq\u001b[0m\u001b[0;34m]\u001b[0m \u001b[0;34m=\u001b[0m \u001b[0mnp\u001b[0m\u001b[0;34m.\u001b[0m\u001b[0mzeros_like\u001b[0m\u001b[0;34m(\u001b[0m\u001b[0mpreds\u001b[0m\u001b[0;34m[\u001b[0m\u001b[0mseq\u001b[0m\u001b[0;34m]\u001b[0m\u001b[0;34m)\u001b[0m\u001b[0;34m\u001b[0m\u001b[0;34m\u001b[0m\u001b[0m\n\u001b[1;32m    127\u001b[0m \u001b[0;34m\u001b[0m\u001b[0m\n",
      "\u001b[0;31mIndexError\u001b[0m: The shape of the mask [20899] at index 0 does not match the shape of the indexed tensor [21, 17, 3] at index 0"
     ]
    }
   ],
   "source": [
    "from model.pose_refinement import StackedArrayAllMupotsEvaluator\n",
    "from scripts.eval_nn_refine import unstack_mupots_poses\n",
    "\n",
    "l = StackedArrayAllMupotsEvaluator(pred, test_set, True, prefix=\"R\")\n",
    "l.eval(calculate_scale_free=True, verbose=True)\n",
    "\n",
    "pred_by_seq = {}\n",
    "for seq in range(1, 21):\n",
    "    inds = test_set.index.seq_num == seq\n",
    "    pred_by_seq[seq] = pred[inds]\n",
    "pred_2d, pred_3d = unstack_mupots_poses(test_set, pred_by_seq)"
   ]
  },
  {
   "cell_type": "code",
   "execution_count": null,
   "metadata": {},
   "outputs": [],
   "source": []
  }
 ],
 "metadata": {
  "kernelspec": {
   "display_name": "Python 3",
   "language": "python",
   "name": "python3"
  },
  "language_info": {
   "codemirror_mode": {
    "name": "ipython",
    "version": 3
   },
   "file_extension": ".py",
   "mimetype": "text/x-python",
   "name": "python",
   "nbconvert_exporter": "python",
   "pygments_lexer": "ipython3",
   "version": "3.7.6"
  }
 },
 "nbformat": 4,
 "nbformat_minor": 4
}
