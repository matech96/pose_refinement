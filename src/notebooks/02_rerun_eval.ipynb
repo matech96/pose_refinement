{
 "cells": [
  {
   "cell_type": "code",
   "execution_count": 4,
   "metadata": {},
   "outputs": [],
   "source": [
    "from comet_ml import Experiment, ExistingExperiment\n",
    "import comet_ml\n",
    "from scripts import eval"
   ]
  },
  {
   "cell_type": "code",
   "execution_count": 2,
   "metadata": {},
   "outputs": [],
   "source": [
    "import os\n",
    "os.chdir('..')"
   ]
  },
  {
   "cell_type": "code",
   "execution_count": 9,
   "metadata": {},
   "outputs": [
    {
     "name": "stderr",
     "output_type": "stream",
     "text": [
      "COMET INFO: ---------------------------\n",
      "COMET INFO: Comet.ml Experiment Summary\n",
      "COMET INFO: ---------------------------\n",
      "COMET INFO:   Data:\n",
      "COMET INFO:     display_summary_level : 1\n",
      "COMET INFO:     url                   : https://www.comet.ml/pose-refinement/01-batch-shuffle-batchsize/2f4f8e61d59a40c99a7cecf5b2e8e77f\n",
      "COMET INFO:   Metrics:\n",
      "COMET INFO:     mpi_NR-A-AUC     : 19.484293896800384\n",
      "COMET INFO:     mpi_NR-A-PCK     : 50.381996496681325\n",
      "COMET INFO:     mpi_NR-R-AUC     : 44.58134487526161\n",
      "COMET INFO:     mpi_NR-R-PCK     : 82.01650150638295\n",
      "COMET INFO:     mpi_NR_abs_loss  : 0.09242508560419083\n",
      "COMET INFO:     mpi_NR_err       : 172.8840789794922\n",
      "COMET INFO:     mpi_NR_loss      : 0.2306760847568512\n",
      "COMET INFO:     mpi_NR_mrpe      : 154.87606868487842\n",
      "COMET INFO:     mpi_NR_n_mrpe    : 134.2181814157107\n",
      "COMET INFO:     mpi_NR_n_rel_err : 91.60681399170603\n",
      "COMET INFO:     mpi_NR_pck       : 0.5139395594596863\n",
      "COMET INFO:     mpi_NR_rel_error : 89.03511810302734\n",
      "COMET INFO:     mpi_NR_rel_loss  : 0.23931677639484406\n",
      "COMET INFO:   Uploads:\n",
      "COMET INFO:     environment details      : 1\n",
      "COMET INFO:     filename                 : 1\n",
      "COMET INFO:     git metadata             : 1\n",
      "COMET INFO:     git-patch (uncompressed) : 1 (2 KB)\n",
      "COMET INFO:     installed packages       : 1\n",
      "COMET INFO:     os packages              : 1\n",
      "COMET INFO: ---------------------------\n",
      "COMET INFO: old comet version (3.1.11) detected. current: 3.1.15 please update your comet lib with command: `pip install --no-cache-dir --upgrade comet_ml`\n",
      "COMET INFO: Experiment is live on comet.ml https://www.comet.ml/pose-refinement/01-batch-shuffle-batchsize/2710665f559e48bca439648eb64a6559\n",
      "\n"
     ]
    },
    {
     "name": "stdout",
     "output_type": "stream",
     "text": [
      "----- Per sequence and joint errors in millimeter on the validation set ----- \n",
      "Sequence          Avg        PCK      99%   \t                            Avg        99%\n",
      "1       :   216.54 mm   35.2%   554.10 mm\t        head_top (# 0):  186.43 mm   479.51 mm \n",
      "2       :   152.44 mm   60.4%   475.40 mm\t            neck (# 1):  163.73 mm   456.91 mm \n",
      "3       :   154.99 mm   58.3%   482.64 mm\t  right_shoulder (# 2):  167.29 mm   475.22 mm \n",
      "4       :   156.80 mm   56.1%   490.83 mm\t     right_elbow (# 3):  186.54 mm   507.93 mm \n",
      "5       :   165.67 mm   53.9%   560.86 mm\t     right_wrist (# 4):  213.98 mm   680.62 mm \n",
      "6       :   190.86 mm   44.4%   590.11 mm\t   left_shoulder (# 5):  162.37 mm   455.69 mm \n",
      "                                                      left_elbow (# 6):  172.31 mm   499.85 mm \n",
      "                                                      left_wrist (# 7):  199.33 mm   630.59 mm \n",
      "                                                       right_hip (# 8):  160.48 mm   459.90 mm \n",
      "                                                      right_knee (# 9):  173.50 mm   496.26 mm \n",
      "                                                     right_ankle (#10):  193.05 mm   624.51 mm \n",
      "                                                        left_hip (#11):  157.98 mm   446.97 mm \n",
      "                                                       left_knee (#12):  159.04 mm   544.29 mm \n",
      "                                                      left_ankle (#13):  174.59 mm   697.68 mm \n",
      "                                                             hip (#14):  155.88 mm   446.25 mm \n",
      "                                                           spine (#15):  160.80 mm   460.63 mm \n",
      "                                                       head/nose (#16):  166.89 mm   463.34 mm \n",
      "\n",
      "Mean sequence error (Absolute MPJPE) is 172.88 mm\n",
      "---------------------------------------------------------------- \n",
      "MRPE: 154.9\n",
      "Root relative error (MPJPE): 89.04\n",
      "N-MRPE: 134.2\n",
      "N-MPJPE: 91.6\n",
      "\n",
      "               R-PCK  R-AUC  A-PCK  A-AUC\n",
      "    all poses:  82.0   44.6   50.4   19.5  \n"
     ]
    }
   ],
   "source": [
    "exp_id = '9854c3528e404d6c8fe576ea76e1bb30'\n",
    "output_path = f\"../models/{exp_id}\"\n",
    "e = Experiment(workspace=\"pose-refinement\", project_name=\"01-batch-shuffle-batchsize\")\n",
    "eval.main(output_path, False, e)"
   ]
  },
  {
   "cell_type": "code",
   "execution_count": null,
   "metadata": {},
   "outputs": [],
   "source": [
    "comet_api = comet_ml.api.API()\n",
    "exps = comet_api.get('pose-refinement/01-batch-shuffle-batchsize')"
   ]
  },
  {
   "cell_type": "code",
   "execution_count": null,
   "metadata": {},
   "outputs": [],
   "source": [
    "# [exp.id for exp in exps]"
   ]
  },
  {
   "cell_type": "code",
   "execution_count": null,
   "metadata": {},
   "outputs": [],
   "source": [
    "for exp in exps:\n",
    "    output_path = f\"../models/{exp.id}\"\n",
    "    e = Experiment(workspace=\"pose-refinement\", project_name=\"01-batch-shuffle-batchsize\")\n",
    "    e = ExistingExperiment(previous_experiment=exp.id)\n",
    "    eval.main(output_path, False, e)"
   ]
  },
  {
   "cell_type": "code",
   "execution_count": null,
   "metadata": {},
   "outputs": [],
   "source": []
  },
  {
   "cell_type": "code",
   "execution_count": null,
   "metadata": {},
   "outputs": [],
   "source": []
  }
 ],
 "metadata": {
  "kernelspec": {
   "display_name": "Python 3",
   "language": "python",
   "name": "python3"
  },
  "language_info": {
   "codemirror_mode": {
    "name": "ipython",
    "version": 3
   },
   "file_extension": ".py",
   "mimetype": "text/x-python",
   "name": "python",
   "nbconvert_exporter": "python",
   "pygments_lexer": "ipython3",
   "version": "3.7.6"
  }
 },
 "nbformat": 4,
 "nbformat_minor": 4
}
